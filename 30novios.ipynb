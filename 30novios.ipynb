{
 "cells": [
  {
   "cell_type": "code",
   "execution_count": 1,
   "metadata": {},
   "outputs": [
    {
     "name": "stderr",
     "output_type": "stream",
     "text": [
      "/Users/regina/Library/Python/3.9/lib/python/site-packages/urllib3/__init__.py:35: NotOpenSSLWarning: urllib3 v2 only supports OpenSSL 1.1.1+, currently the 'ssl' module is compiled with 'LibreSSL 2.8.3'. See: https://github.com/urllib3/urllib3/issues/3020\n",
      "  warnings.warn(\n"
     ]
    },
    {
     "name": "stdout",
     "output_type": "stream",
     "text": [
      "Error 429: {\"message\":\"You have exceeded the MONTHLY quota for Requests on your current plan, BASIC. Upgrade your plan at https:\\/\\/rapidapi.com\\/evlar-evlar-default\\/api\\/love-compatibility-calculator-api-apiverve\"}\n"
     ]
    }
   ],
   "source": [
    "import requests\n",
    "\n",
    "url = \"https://love-compatibility-calculator-api-apiverve.p.rapidapi.com/v1/lovecalculator\"\n",
    "params = {\n",
    "    \"name1\": \"Diana\",\n",
    "    \"name2\": \"Carlos\"\n",
    "}\n",
    "\n",
    "headers = {\n",
    "    \"Accept\": \"application/json\",\n",
    "    \"x-rapidapi-host\": \"love-compatibility-calculator-api-apiverve.p.rapidapi.com\",\n",
    "    \"x-rapidapi-key\": \"d27792672emsh780d9c146ed565ap117cfajsn614c166dfb2a\"  # Usa una variable de entorno en lugar de escribirla en el código\n",
    "}\n",
    "\n",
    "response = requests.get(url, headers=headers, params=params)\n",
    "\n",
    "if response.status_code == 200:\n",
    "    data = response.json()\n",
    "    print(data)\n",
    "else:\n",
    "    print(f\"Error {response.status_code}: {response.text}\")\n"
   ]
  },
  {
   "cell_type": "markdown",
   "metadata": {},
   "source": [
    "2 listas, nombre 1 Diana  2 lista (de actores).   Iterando, append, guardando y así mantenemos una database que contenga name1(siempre será Diana), name2, lovePercentage. Y ya con eso hacer gráficos."
   ]
  },
  {
   "cell_type": "code",
   "execution_count": 12,
   "metadata": {},
   "outputs": [],
   "source": [
    "#30 novios de Diana \n",
    "#1. Webscrapear nombres de actores, sus fotos y sus edades\n",
    "#2. Con la api, crear un bucle que use la API para obtener el lovePercentage con Diana y todos los nombres de actores\n",
    "#3. Guardar los resultados dataframe \n",
    "#4. Streamlit\n",
    "\n"
   ]
  },
  {
   "cell_type": "code",
   "execution_count": 13,
   "metadata": {},
   "outputs": [],
   "source": [
    "# 1. Webscrapear nombres de actores, sus fotos y sus edades\n",
    "import requests\n",
    "from bs4 import BeautifulSoup\n",
    "import pandas as pd\n",
    "\n",
    "url = \"https://www.okchicas.com/tu/hombres/actores-menores-de-45-guapos/\"\n",
    "response = requests.get(url)\n",
    "soup = BeautifulSoup(response.text, \"html.parser\")\n"
   ]
  },
  {
   "cell_type": "code",
   "execution_count": 14,
   "metadata": {},
   "outputs": [
    {
     "data": {
      "text/plain": [
       "['Theo James',\n",
       " 'Aaron Taylor-Johnson',\n",
       " 'Liam Hemsworth',\n",
       " 'Tyler Hoechlin',\n",
       " 'Robert Pattinson',\n",
       " 'Tom Hardy',\n",
       " 'Justin Baldoni',\n",
       " 'Chris Hemsworth',\n",
       " 'Martiño Rivas',\n",
       " 'Tom Ellis',\n",
       " 'Alexander Skarsgård',\n",
       " 'Michael Fassbender',\n",
       " 'Tom Hiddleston',\n",
       " 'Evan Peters',\n",
       " 'Michele Morrone',\n",
       " 'Henry Cavill',\n",
       " 'Jake Gyllenhaal',\n",
       " 'Richard Madden',\n",
       " 'Sam Claflin',\n",
       " 'Mario Casas',\n",
       " 'Jamie Dornan',\n",
       " 'Sam Heughan',\n",
       " 'Sebastian Stan',\n",
       " 'Ryan Gosling',\n",
       " 'Charlie Hunnam',\n",
       " 'Chris Evans',\n",
       " 'Yon Gonzalez',\n",
       " 'Jason Momoa',\n",
       " 'Joe Manganiello',\n",
       " 'Travis Fimmel']"
      ]
     },
     "execution_count": 14,
     "metadata": {},
     "output_type": "execute_result"
    }
   ],
   "source": [
    "#obtener los nombres de los actores\n",
    "soup.find_all(\"h2\")\n",
    "lista_actores = soup.find_all(\"h2\")\n",
    "lista_actores\n",
    "\n",
    "#eliminar el \"1.\" de cada nombre\n",
    "lista_actores = [actor.text[3:] for actor in lista_actores]\n",
    "lista_actores\n",
    "\n",
    "#eliminar el espacio \" \" al principio de los nombres que tengan ese espacio\n",
    "lista_actores = [actor[1:] if actor[0] == \" \" else actor for actor in lista_actores]\n",
    "\n",
    "#eliminar el último elemento de la lista\n",
    "lista_actores = lista_actores[:-1]\n",
    "lista_actores"
   ]
  },
  {
   "cell_type": "code",
   "execution_count": 15,
   "metadata": {},
   "outputs": [
    {
     "data": {
      "text/plain": [
       "[<p>Ya hemos dejando en claro que los hombres mayores, de esos que llaman señores, son muy pero muy guapos sin importar la edad. Sin embargo, no por eso vamos a olvidar a todos aquellos que están entre los 30 y los 45.</p>,\n",
       " <p>Por esta razón te mostramos a estos 30 actores que ya no son unos chavos jóvenes, pero tampoco son tan grandes como para ser <em>sugar daddy</em>, y aunque estén a punto de llegar al quinto piso, cada año se ponen más hermosos.</p>,\n",
       " <p><a class=\"full-img\" href=\"https://www.okchicas.com/wp-content/uploads/2021/04/actores-menores-de-45-guapos-atractivos.png\"><img alt=\"Theo James\" class=\"alignnone size-large wp-image-471411\" decoding=\"async\" height=\"700\" sizes=\"(max-width: 628px) 100vw, 628px\" src=\"https://www.okchicas.com/wp-content/uploads/2021/04/actores-menores-de-45-guapos-atractivos-628x700.png\" srcset=\"https://www.okchicas.com/wp-content/uploads/2021/04/actores-menores-de-45-guapos-atractivos-628x700.png 628w, https://www.okchicas.com/wp-content/uploads/2021/04/actores-menores-de-45-guapos-atractivos-400x446.png 400w, https://www.okchicas.com/wp-content/uploads/2021/04/actores-menores-de-45-guapos-atractivos.png 700w\" width=\"628\"/></a></p>,\n",
       " <p>Este guapo inglés que nos conquistó en <em>Divergente</em> cumple 37 añitos el 16 de diciembre.</p>,\n",
       " <p><a class=\"full-img\" href=\"https://www.okchicas.com/wp-content/uploads/2021/04/actores-menores-de-45-guapos-atractivos-2.png\"><img alt=\"Aaron Taylor-Johnson\" class=\"alignnone size-large wp-image-471412\" decoding=\"async\" height=\"700\" loading=\"lazy\" sizes=\"auto, (max-width: 628px) 100vw, 628px\" src=\"https://www.okchicas.com/wp-content/uploads/2021/04/actores-menores-de-45-guapos-atractivos-2-628x700.png\" srcset=\"https://www.okchicas.com/wp-content/uploads/2021/04/actores-menores-de-45-guapos-atractivos-2-628x700.png 628w, https://www.okchicas.com/wp-content/uploads/2021/04/actores-menores-de-45-guapos-atractivos-2-400x446.png 400w, https://www.okchicas.com/wp-content/uploads/2021/04/actores-menores-de-45-guapos-atractivos-2.png 700w\" width=\"628\"/></a></p>,\n",
       " <p>El protagonista de 30 años de <em>Kick-Ass</em> ya está casado, pero igual podemos seguir babeando por él.</p>,\n",
       " <p><a class=\"full-img\" href=\"https://www.okchicas.com/wp-content/uploads/2021/04/actores-menores-de-45-guapos-atractivos-3.png\"><img alt=\"Liam Hemsworth\" class=\"alignnone size-large wp-image-471413\" decoding=\"async\" height=\"700\" loading=\"lazy\" sizes=\"auto, (max-width: 628px) 100vw, 628px\" src=\"https://www.okchicas.com/wp-content/uploads/2021/04/actores-menores-de-45-guapos-atractivos-3-628x700.png\" srcset=\"https://www.okchicas.com/wp-content/uploads/2021/04/actores-menores-de-45-guapos-atractivos-3-628x700.png 628w, https://www.okchicas.com/wp-content/uploads/2021/04/actores-menores-de-45-guapos-atractivos-3-400x446.png 400w, https://www.okchicas.com/wp-content/uploads/2021/04/actores-menores-de-45-guapos-atractivos-3.png 700w\" width=\"628\"/></a></p>,\n",
       " <p>El hermano menor de Thor es todo un bombón por su cuenta y este año cumplió 31 años.</p>,\n",
       " <p><a class=\"full-img\" href=\"https://www.okchicas.com/wp-content/uploads/2021/04/actores-menores-de-45-guapos-atractivos-4.png\"><img alt=\"Tyler Hoechlin\" class=\"alignnone size-large wp-image-471414\" decoding=\"async\" height=\"700\" loading=\"lazy\" sizes=\"auto, (max-width: 628px) 100vw, 628px\" src=\"https://www.okchicas.com/wp-content/uploads/2021/04/actores-menores-de-45-guapos-atractivos-4-628x700.png\" srcset=\"https://www.okchicas.com/wp-content/uploads/2021/04/actores-menores-de-45-guapos-atractivos-4-628x700.png 628w, https://www.okchicas.com/wp-content/uploads/2021/04/actores-menores-de-45-guapos-atractivos-4-400x446.png 400w, https://www.okchicas.com/wp-content/uploads/2021/04/actores-menores-de-45-guapos-atractivos-4.png 700w\" width=\"628\"/></a></p>,\n",
       " <p>El Superman de ojo azul que amamos en <em>Supergirl.</em> Hoechlin es todo un galán a los 33 años.</p>,\n",
       " <p><a class=\"full-img\" href=\"https://www.okchicas.com/wp-content/uploads/2021/04/actores-menores-de-45-guapos-atractivos-5.png\"><img alt=\"Robert Pattinson\" class=\"alignnone size-large wp-image-471415\" decoding=\"async\" height=\"700\" loading=\"lazy\" sizes=\"auto, (max-width: 628px) 100vw, 628px\" src=\"https://www.okchicas.com/wp-content/uploads/2021/04/actores-menores-de-45-guapos-atractivos-5-628x700.png\" srcset=\"https://www.okchicas.com/wp-content/uploads/2021/04/actores-menores-de-45-guapos-atractivos-5-628x700.png 628w, https://www.okchicas.com/wp-content/uploads/2021/04/actores-menores-de-45-guapos-atractivos-5-400x446.png 400w, https://www.okchicas.com/wp-content/uploads/2021/04/actores-menores-de-45-guapos-atractivos-5.png 700w\" width=\"628\"/></a></p>,\n",
       " <p>El vampiro emo que jamás superaremos está por cumplir 35 años el próximo 13 de mayo.</p>,\n",
       " <p><a class=\"full-img\" href=\"https://www.okchicas.com/wp-content/uploads/2021/04/actores-menores-de-45-guapos-atractivos-6.png\"><img alt=\"Tom Hardy\" class=\"alignnone size-large wp-image-471416\" decoding=\"async\" height=\"700\" loading=\"lazy\" sizes=\"auto, (max-width: 628px) 100vw, 628px\" src=\"https://www.okchicas.com/wp-content/uploads/2021/04/actores-menores-de-45-guapos-atractivos-6-628x700.png\" srcset=\"https://www.okchicas.com/wp-content/uploads/2021/04/actores-menores-de-45-guapos-atractivos-6-628x700.png 628w, https://www.okchicas.com/wp-content/uploads/2021/04/actores-menores-de-45-guapos-atractivos-6-400x446.png 400w, https://www.okchicas.com/wp-content/uploads/2021/04/actores-menores-de-45-guapos-atractivos-6.png 700w\" width=\"628\"/></a></p>,\n",
       " <p>Uno de los actores más talentosos de su generación. El amado Tom cumple 44 años en septiembre.</p>,\n",
       " <p><a class=\"full-img\" href=\"https://www.okchicas.com/wp-content/uploads/2021/04/actores-menores-de-45-guapos-atractivos-7.png\"><img alt=\"Justin Baldoni\" class=\"alignnone size-large wp-image-471417\" decoding=\"async\" height=\"700\" loading=\"lazy\" sizes=\"auto, (max-width: 628px) 100vw, 628px\" src=\"https://www.okchicas.com/wp-content/uploads/2021/04/actores-menores-de-45-guapos-atractivos-7-628x700.png\" srcset=\"https://www.okchicas.com/wp-content/uploads/2021/04/actores-menores-de-45-guapos-atractivos-7-628x700.png 628w, https://www.okchicas.com/wp-content/uploads/2021/04/actores-menores-de-45-guapos-atractivos-7-400x446.png 400w, https://www.okchicas.com/wp-content/uploads/2021/04/actores-menores-de-45-guapos-atractivos-7.png 700w\" width=\"628\"/></a></p>,\n",
       " <p>El guapísimo Rafael Solano en <em>Jane The Virgin</em>. Baldoni ya tiene 37 años, pero sigue igual de bello.</p>,\n",
       " <p><a class=\"full-img\" href=\"https://www.okchicas.com/wp-content/uploads/2021/04/actores-menores-de-45-guapos-atractivos-8.png\"><img alt=\"Chris Hemsworth\" class=\"alignnone size-large wp-image-471418\" decoding=\"async\" height=\"700\" loading=\"lazy\" sizes=\"auto, (max-width: 628px) 100vw, 628px\" src=\"https://www.okchicas.com/wp-content/uploads/2021/04/actores-menores-de-45-guapos-atractivos-8-628x700.png\" srcset=\"https://www.okchicas.com/wp-content/uploads/2021/04/actores-menores-de-45-guapos-atractivos-8-628x700.png 628w, https://www.okchicas.com/wp-content/uploads/2021/04/actores-menores-de-45-guapos-atractivos-8-400x446.png 400w, https://www.okchicas.com/wp-content/uploads/2021/04/actores-menores-de-45-guapos-atractivos-8.png 700w\" width=\"628\"/></a></p>,\n",
       " <p>El actor australiano de 37 años podrá ser papa casada, pero igual lo seguimos amando.</p>,\n",
       " <p><a class=\"full-img\" href=\"https://www.okchicas.com/wp-content/uploads/2021/04/actores-menores-de-45-guapos-atractivos-9.png\"><img alt=\"Martiño Rivas\" class=\"alignnone size-large wp-image-471419\" decoding=\"async\" height=\"700\" loading=\"lazy\" sizes=\"auto, (max-width: 627px) 100vw, 627px\" src=\"https://www.okchicas.com/wp-content/uploads/2021/04/actores-menores-de-45-guapos-atractivos-9-627x700.png\" srcset=\"https://www.okchicas.com/wp-content/uploads/2021/04/actores-menores-de-45-guapos-atractivos-9-627x700.png 627w, https://www.okchicas.com/wp-content/uploads/2021/04/actores-menores-de-45-guapos-atractivos-9-400x446.png 400w, https://www.okchicas.com/wp-content/uploads/2021/04/actores-menores-de-45-guapos-atractivos-9.png 700w\" width=\"627\"/></a></p>,\n",
       " <p>A todas nos enamoró en <em>Las chicas del cable</em>. Martiño ya no es un jovenzuelo, pues tiene 36 añitos.</p>,\n",
       " <p><a class=\"full-img\" href=\"https://www.okchicas.com/wp-content/uploads/2021/04/actores-menores-de-45-guapos-atractivos-10.png\"><img alt=\"Tom Ellis\" class=\"alignnone size-large wp-image-471420\" decoding=\"async\" height=\"700\" loading=\"lazy\" sizes=\"auto, (max-width: 628px) 100vw, 628px\" src=\"https://www.okchicas.com/wp-content/uploads/2021/04/actores-menores-de-45-guapos-atractivos-10-628x700.png\" srcset=\"https://www.okchicas.com/wp-content/uploads/2021/04/actores-menores-de-45-guapos-atractivos-10-628x700.png 628w, https://www.okchicas.com/wp-content/uploads/2021/04/actores-menores-de-45-guapos-atractivos-10-400x446.png 400w, https://www.okchicas.com/wp-content/uploads/2021/04/actores-menores-de-45-guapos-atractivos-10.png 700w\" width=\"628\"/></a></p>,\n",
       " <p>Por este bombón de 42 años, con gusto nos dejábamos llevar por el mismísimo Lucifer. </p>,\n",
       " <p><a class=\"full-img\" href=\"https://www.okchicas.com/wp-content/uploads/2021/04/actores-menores-de-45-guapos-atractivos-11.png\"><img alt=\"Alexander Skarsgard\" class=\"alignnone size-large wp-image-471421\" decoding=\"async\" height=\"700\" loading=\"lazy\" sizes=\"auto, (max-width: 628px) 100vw, 628px\" src=\"https://www.okchicas.com/wp-content/uploads/2021/04/actores-menores-de-45-guapos-atractivos-11-628x700.png\" srcset=\"https://www.okchicas.com/wp-content/uploads/2021/04/actores-menores-de-45-guapos-atractivos-11-628x700.png 628w, https://www.okchicas.com/wp-content/uploads/2021/04/actores-menores-de-45-guapos-atractivos-11-400x446.png 400w, https://www.okchicas.com/wp-content/uploads/2021/04/actores-menores-de-45-guapos-atractivos-11.png 700w\" width=\"628\"/></a></p>,\n",
       " <p>Jamás podremos olvidar a Eric Northman en <em>True Blood</em>. Este talentoso sueco ya tiene 44 años.</p>,\n",
       " <p><a class=\"full-img\" href=\"https://www.okchicas.com/wp-content/uploads/2021/04/actores-menores-de-45-guapos-atractivos-12.png\"><img alt=\"Michael Fassbender\" class=\"alignnone size-large wp-image-471422\" decoding=\"async\" height=\"700\" loading=\"lazy\" sizes=\"auto, (max-width: 628px) 100vw, 628px\" src=\"https://www.okchicas.com/wp-content/uploads/2021/04/actores-menores-de-45-guapos-atractivos-12-628x700.png\" srcset=\"https://www.okchicas.com/wp-content/uploads/2021/04/actores-menores-de-45-guapos-atractivos-12-628x700.png 628w, https://www.okchicas.com/wp-content/uploads/2021/04/actores-menores-de-45-guapos-atractivos-12-400x446.png 400w, https://www.okchicas.com/wp-content/uploads/2021/04/actores-menores-de-45-guapos-atractivos-12.png 700w\" width=\"628\"/></a></p>,\n",
       " <p>El actor de origen irlandés y alemán acaba de cumplir nada más y nada menos que 44 añitos.</p>,\n",
       " <p><a class=\"full-img\" href=\"https://www.okchicas.com/wp-content/uploads/2021/04/actores-menores-de-45-guapos-atractivos-13.png\"><img alt=\"Tom Hiddleston\" class=\"alignnone size-large wp-image-471423\" decoding=\"async\" height=\"700\" loading=\"lazy\" sizes=\"auto, (max-width: 628px) 100vw, 628px\" src=\"https://www.okchicas.com/wp-content/uploads/2021/04/actores-menores-de-45-guapos-atractivos-13-628x700.png\" srcset=\"https://www.okchicas.com/wp-content/uploads/2021/04/actores-menores-de-45-guapos-atractivos-13-628x700.png 628w, https://www.okchicas.com/wp-content/uploads/2021/04/actores-menores-de-45-guapos-atractivos-13-400x446.png 400w, https://www.okchicas.com/wp-content/uploads/2021/04/actores-menores-de-45-guapos-atractivos-13.png 700w\" width=\"628\"/></a></p>,\n",
       " <p>Este guapo y talentoso actor que amamos como Loki acaba de llegar al cuarto piso en febrero.</p>,\n",
       " <p><a class=\"full-img\" href=\"https://www.okchicas.com/wp-content/uploads/2021/04/actores-menores-de-45-guapos-atractivos-14.png\"><img alt=\"Evan Peters\" class=\"alignnone size-large wp-image-471424\" decoding=\"async\" height=\"700\" loading=\"lazy\" sizes=\"auto, (max-width: 628px) 100vw, 628px\" src=\"https://www.okchicas.com/wp-content/uploads/2021/04/actores-menores-de-45-guapos-atractivos-14-628x700.png\" srcset=\"https://www.okchicas.com/wp-content/uploads/2021/04/actores-menores-de-45-guapos-atractivos-14-628x700.png 628w, https://www.okchicas.com/wp-content/uploads/2021/04/actores-menores-de-45-guapos-atractivos-14-400x446.png 400w, https://www.okchicas.com/wp-content/uploads/2021/04/actores-menores-de-45-guapos-atractivos-14.png 700w\" width=\"628\"/></a></p>,\n",
       " <p>Será medio <em>creepy</em> y le encanta hacer proyectos de terror, pero Evan a sus 34 años nos sigue conquistando.</p>,\n",
       " <p><a class=\"full-img\" href=\"https://www.okchicas.com/wp-content/uploads/2021/04/actores-menores-de-45-guapos-atractivos-15.png\"><img alt=\"Michele Morrone\" class=\"alignnone size-large wp-image-471425\" decoding=\"async\" height=\"700\" loading=\"lazy\" sizes=\"auto, (max-width: 628px) 100vw, 628px\" src=\"https://www.okchicas.com/wp-content/uploads/2021/04/actores-menores-de-45-guapos-atractivos-15-628x700.png\" srcset=\"https://www.okchicas.com/wp-content/uploads/2021/04/actores-menores-de-45-guapos-atractivos-15-628x700.png 628w, https://www.okchicas.com/wp-content/uploads/2021/04/actores-menores-de-45-guapos-atractivos-15-400x446.png 400w, https://www.okchicas.com/wp-content/uploads/2021/04/actores-menores-de-45-guapos-atractivos-15.png 700w\" width=\"628\"/></a></p>,\n",
       " <p>Este irresistible italiano de 30 años es todo un estuche de monerías: actúa, canta y modela.</p>,\n",
       " <p><a class=\"full-img\" href=\"https://www.okchicas.com/wp-content/uploads/2021/04/actores-menores-de-45-guapos-atractivos-16.png\"><img alt=\"Henry Cavill\" class=\"alignnone size-large wp-image-471426\" decoding=\"async\" height=\"700\" loading=\"lazy\" sizes=\"auto, (max-width: 628px) 100vw, 628px\" src=\"https://www.okchicas.com/wp-content/uploads/2021/04/actores-menores-de-45-guapos-atractivos-16-628x700.png\" srcset=\"https://www.okchicas.com/wp-content/uploads/2021/04/actores-menores-de-45-guapos-atractivos-16-628x700.png 628w, https://www.okchicas.com/wp-content/uploads/2021/04/actores-menores-de-45-guapos-atractivos-16-400x446.png 400w, https://www.okchicas.com/wp-content/uploads/2021/04/actores-menores-de-45-guapos-atractivos-16.png 700w\" width=\"628\"/></a></p>,\n",
       " <p>El mejor de todos, el hombre de acero. Henry está por cumplir 38 añitos el próximo 5 de mayo.</p>,\n",
       " <p><a class=\"full-img\" href=\"https://www.okchicas.com/wp-content/uploads/2021/04/actores-menores-de-45-guapos-atractivos-17.png\"><img alt=\"Jake Gyllenhaal\" class=\"alignnone size-large wp-image-471427\" decoding=\"async\" height=\"700\" loading=\"lazy\" sizes=\"auto, (max-width: 628px) 100vw, 628px\" src=\"https://www.okchicas.com/wp-content/uploads/2021/04/actores-menores-de-45-guapos-atractivos-17-628x700.png\" srcset=\"https://www.okchicas.com/wp-content/uploads/2021/04/actores-menores-de-45-guapos-atractivos-17-628x700.png 628w, https://www.okchicas.com/wp-content/uploads/2021/04/actores-menores-de-45-guapos-atractivos-17-400x446.png 400w, https://www.okchicas.com/wp-content/uploads/2021/04/actores-menores-de-45-guapos-atractivos-17.png 700w\" width=\"628\"/></a></p>,\n",
       " <p>Nuestro querido Donnie Darko ya no es un jovenzuelo, pues en diciembre cumple 41 años.</p>,\n",
       " <p><a class=\"full-img\" href=\"https://www.okchicas.com/wp-content/uploads/2021/04/actores-menores-de-45-guapos-atractivos-18.png\"><img alt=\"Richard Madden\" class=\"alignnone size-large wp-image-471428\" decoding=\"async\" height=\"700\" loading=\"lazy\" sizes=\"auto, (max-width: 628px) 100vw, 628px\" src=\"https://www.okchicas.com/wp-content/uploads/2021/04/actores-menores-de-45-guapos-atractivos-18-628x700.png\" srcset=\"https://www.okchicas.com/wp-content/uploads/2021/04/actores-menores-de-45-guapos-atractivos-18-628x700.png 628w, https://www.okchicas.com/wp-content/uploads/2021/04/actores-menores-de-45-guapos-atractivos-18-400x446.png 400w, https://www.okchicas.com/wp-content/uploads/2021/04/actores-menores-de-45-guapos-atractivos-18.png 700w\" width=\"628\"/></a></p>,\n",
       " <p>El hermano Stark que menos tiempo pudimos disfrutar en <em>Juego de tronos</em> ya tiene 34 años.</p>,\n",
       " <p><a class=\"full-img\" href=\"https://www.okchicas.com/wp-content/uploads/2021/04/actores-menores-de-45-guapos-atractivos-19.png\"><img alt=\"Sam Claflin\" class=\"alignnone size-large wp-image-471429\" decoding=\"async\" height=\"700\" loading=\"lazy\" sizes=\"auto, (max-width: 628px) 100vw, 628px\" src=\"https://www.okchicas.com/wp-content/uploads/2021/04/actores-menores-de-45-guapos-atractivos-19-628x700.png\" srcset=\"https://www.okchicas.com/wp-content/uploads/2021/04/actores-menores-de-45-guapos-atractivos-19-628x700.png 628w, https://www.okchicas.com/wp-content/uploads/2021/04/actores-menores-de-45-guapos-atractivos-19-400x446.png 400w, https://www.okchicas.com/wp-content/uploads/2021/04/actores-menores-de-45-guapos-atractivos-19.png 700w\" width=\"628\"/></a></p>,\n",
       " <p>El encantador actor inglés, protagonista de <em>Yo antes de ti</em>, cumple 35 años el próximo 27 de junio.</p>,\n",
       " <p><a class=\"full-img\" href=\"https://www.okchicas.com/wp-content/uploads/2021/04/actores-menores-de-45-guapos-atractivos-20.png\"><img alt=\"Mario Casas\" class=\"alignnone size-large wp-image-471430\" decoding=\"async\" height=\"700\" loading=\"lazy\" sizes=\"auto, (max-width: 628px) 100vw, 628px\" src=\"https://www.okchicas.com/wp-content/uploads/2021/04/actores-menores-de-45-guapos-atractivos-20-628x700.png\" srcset=\"https://www.okchicas.com/wp-content/uploads/2021/04/actores-menores-de-45-guapos-atractivos-20-628x700.png 628w, https://www.okchicas.com/wp-content/uploads/2021/04/actores-menores-de-45-guapos-atractivos-20-400x446.png 400w, https://www.okchicas.com/wp-content/uploads/2021/04/actores-menores-de-45-guapos-atractivos-20.png 700w\" width=\"628\"/></a></p>,\n",
       " <p>Uno de los actores españoles más guapos y talentosos actualmente. Casas ya tiene sus buenos 34 años.</p>,\n",
       " <p><a class=\"full-img\" href=\"https://www.okchicas.com/wp-content/uploads/2021/04/actores-menores-de-45-guapos-atractivos-21.png\"><img alt=\"Jamie Dornan\" class=\"alignnone size-large wp-image-471431\" decoding=\"async\" height=\"700\" loading=\"lazy\" sizes=\"auto, (max-width: 628px) 100vw, 628px\" src=\"https://www.okchicas.com/wp-content/uploads/2021/04/actores-menores-de-45-guapos-atractivos-21-628x700.png\" srcset=\"https://www.okchicas.com/wp-content/uploads/2021/04/actores-menores-de-45-guapos-atractivos-21-628x700.png 628w, https://www.okchicas.com/wp-content/uploads/2021/04/actores-menores-de-45-guapos-atractivos-21-400x446.png 400w, https://www.okchicas.com/wp-content/uploads/2021/04/actores-menores-de-45-guapos-atractivos-21.png 700w\" width=\"628\"/></a></p>,\n",
       " <p>¿Cómo podríamos olvidar al inigualable Christian Grey? Este hermoso irlandés tiene 38 añitos.</p>,\n",
       " <p><a class=\"full-img\" href=\"https://www.okchicas.com/wp-content/uploads/2021/04/actores-menores-de-45-guapos-atractivos-22.png\"><img alt=\"Sam Heughan\" class=\"alignnone size-large wp-image-471432\" decoding=\"async\" height=\"700\" loading=\"lazy\" sizes=\"auto, (max-width: 628px) 100vw, 628px\" src=\"https://www.okchicas.com/wp-content/uploads/2021/04/actores-menores-de-45-guapos-atractivos-22-628x700.png\" srcset=\"https://www.okchicas.com/wp-content/uploads/2021/04/actores-menores-de-45-guapos-atractivos-22-628x700.png 628w, https://www.okchicas.com/wp-content/uploads/2021/04/actores-menores-de-45-guapos-atractivos-22-400x446.png 400w, https://www.okchicas.com/wp-content/uploads/2021/04/actores-menores-de-45-guapos-atractivos-22.png 700w\" width=\"628\"/></a></p>,\n",
       " <p>El guapísimo, valiente y fuerte escocés Jamie Fraser de <em>Outlander</em> sigue siendo un bombón a los 40.</p>,\n",
       " <p><a class=\"full-img\" href=\"https://www.okchicas.com/wp-content/uploads/2021/04/actores-menores-de-45-guapos-atractivos-23.png\"><img alt=\"Sebastian Stan\" class=\"alignnone size-large wp-image-471433\" decoding=\"async\" height=\"700\" loading=\"lazy\" sizes=\"auto, (max-width: 628px) 100vw, 628px\" src=\"https://www.okchicas.com/wp-content/uploads/2021/04/actores-menores-de-45-guapos-atractivos-23-628x700.png\" srcset=\"https://www.okchicas.com/wp-content/uploads/2021/04/actores-menores-de-45-guapos-atractivos-23-628x700.png 628w, https://www.okchicas.com/wp-content/uploads/2021/04/actores-menores-de-45-guapos-atractivos-23-400x446.png 400w, https://www.okchicas.com/wp-content/uploads/2021/04/actores-menores-de-45-guapos-atractivos-23.png 700w\" width=\"628\"/></a></p>,\n",
       " <p>Este sexi rumano de 38 años nos ha conquistado desde que lo vimos en <em>Capitán América</em>.</p>,\n",
       " <p><a class=\"full-img\" href=\"https://www.okchicas.com/wp-content/uploads/2021/04/actores-menores-de-45-guapos-atractivos-24.png\"><img alt=\"Ryan Gosling\" class=\"alignnone size-large wp-image-471434\" decoding=\"async\" height=\"700\" loading=\"lazy\" sizes=\"auto, (max-width: 628px) 100vw, 628px\" src=\"https://www.okchicas.com/wp-content/uploads/2021/04/actores-menores-de-45-guapos-atractivos-24-628x700.png\" srcset=\"https://www.okchicas.com/wp-content/uploads/2021/04/actores-menores-de-45-guapos-atractivos-24-628x700.png 628w, https://www.okchicas.com/wp-content/uploads/2021/04/actores-menores-de-45-guapos-atractivos-24-400x446.png 400w, https://www.okchicas.com/wp-content/uploads/2021/04/actores-menores-de-45-guapos-atractivos-24.png 700w\" width=\"628\"/></a></p>,\n",
       " <p>Talentoso, atractivo y encantador. Ryan a sus 40 años es todo lo que siempre soñamos.</p>,\n",
       " <p><a class=\"full-img\" href=\"https://www.okchicas.com/wp-content/uploads/2021/04/actores-menores-de-45-guapos-atractivos-25.png\"><img alt=\"Charlie Hunnam\" class=\"alignnone size-large wp-image-471435\" decoding=\"async\" height=\"700\" loading=\"lazy\" sizes=\"auto, (max-width: 628px) 100vw, 628px\" src=\"https://www.okchicas.com/wp-content/uploads/2021/04/actores-menores-de-45-guapos-atractivos-25-628x700.png\" srcset=\"https://www.okchicas.com/wp-content/uploads/2021/04/actores-menores-de-45-guapos-atractivos-25-628x700.png 628w, https://www.okchicas.com/wp-content/uploads/2021/04/actores-menores-de-45-guapos-atractivos-25-400x446.png 400w, https://www.okchicas.com/wp-content/uploads/2021/04/actores-menores-de-45-guapos-atractivos-25.png 700w\" width=\"628\"/></a></p>,\n",
       " <p>Charles Matthew Hunnam es todo un bombón. Así de serio y todo, lo seguimos amando a sus 40 años.</p>,\n",
       " <p><a class=\"full-img\" href=\"https://www.okchicas.com/wp-content/uploads/2021/04/actores-menores-de-45-guapos-atractivos-26.png\"><img alt=\"Chris Evans\" class=\"alignnone size-large wp-image-471436\" decoding=\"async\" height=\"700\" loading=\"lazy\" sizes=\"auto, (max-width: 628px) 100vw, 628px\" src=\"https://www.okchicas.com/wp-content/uploads/2021/04/actores-menores-de-45-guapos-atractivos-26-628x700.png\" srcset=\"https://www.okchicas.com/wp-content/uploads/2021/04/actores-menores-de-45-guapos-atractivos-26-628x700.png 628w, https://www.okchicas.com/wp-content/uploads/2021/04/actores-menores-de-45-guapos-atractivos-26-400x446.png 400w, https://www.okchicas.com/wp-content/uploads/2021/04/actores-menores-de-45-guapos-atractivos-26.png 700w\" width=\"628\"/></a></p>,\n",
       " <p>El mejor y único Capitán América que siempre amaremos. Evans cumple 40 años el 13 de junio.</p>,\n",
       " <p><a class=\"full-img\" href=\"https://www.okchicas.com/wp-content/uploads/2021/04/actores-menores-de-45-guapos-atractivos-27.png\"><img alt=\"Yon Gonzalez\" class=\"alignnone size-large wp-image-471437\" decoding=\"async\" height=\"700\" loading=\"lazy\" sizes=\"auto, (max-width: 628px) 100vw, 628px\" src=\"https://www.okchicas.com/wp-content/uploads/2021/04/actores-menores-de-45-guapos-atractivos-27-628x700.png\" srcset=\"https://www.okchicas.com/wp-content/uploads/2021/04/actores-menores-de-45-guapos-atractivos-27-628x700.png 628w, https://www.okchicas.com/wp-content/uploads/2021/04/actores-menores-de-45-guapos-atractivos-27-400x446.png 400w, https://www.okchicas.com/wp-content/uploads/2021/04/actores-menores-de-45-guapos-atractivos-27.png 700w\" width=\"628\"/></a></p>,\n",
       " <p>Este irresistible español de 34 años ha roto mil corazones en <em>Gran Hotel</em> y <em>Las chicas del cable</em>.</p>,\n",
       " <p><a class=\"full-img\" href=\"https://www.okchicas.com/wp-content/uploads/2021/04/actores-menores-de-45-guapos-atractivos-28.png\"><img alt=\"Jason Momoa\" class=\"alignnone size-large wp-image-471438\" decoding=\"async\" height=\"700\" loading=\"lazy\" sizes=\"auto, (max-width: 628px) 100vw, 628px\" src=\"https://www.okchicas.com/wp-content/uploads/2021/04/actores-menores-de-45-guapos-atractivos-28-628x700.png\" srcset=\"https://www.okchicas.com/wp-content/uploads/2021/04/actores-menores-de-45-guapos-atractivos-28-628x700.png 628w, https://www.okchicas.com/wp-content/uploads/2021/04/actores-menores-de-45-guapos-atractivos-28-400x446.png 400w, https://www.okchicas.com/wp-content/uploads/2021/04/actores-menores-de-45-guapos-atractivos-28.png 700w\" width=\"628\"/></a></p>,\n",
       " <p>Este salvaje, sensual y temerario hawaiano nos tiene babeando con todo y sus 41 años.</p>,\n",
       " <p><a class=\"full-img\" href=\"https://www.okchicas.com/wp-content/uploads/2021/04/actores-menores-de-45-guapos-atractivos-29.png\"><img alt=\"Joe Manganiello\" class=\"alignnone size-large wp-image-471439\" decoding=\"async\" height=\"700\" loading=\"lazy\" sizes=\"auto, (max-width: 628px) 100vw, 628px\" src=\"https://www.okchicas.com/wp-content/uploads/2021/04/actores-menores-de-45-guapos-atractivos-29-628x700.png\" srcset=\"https://www.okchicas.com/wp-content/uploads/2021/04/actores-menores-de-45-guapos-atractivos-29-628x700.png 628w, https://www.okchicas.com/wp-content/uploads/2021/04/actores-menores-de-45-guapos-atractivos-29-400x446.png 400w, https://www.okchicas.com/wp-content/uploads/2021/04/actores-menores-de-45-guapos-atractivos-29.png 700w\" width=\"628\"/></a></p>,\n",
       " <p>El guapísimo esposo de Sofía Vergara y sensual Alcide en <em>True Blood</em> cumple 45 años en diciembre.</p>,\n",
       " <p><a class=\"full-img\" href=\"https://www.okchicas.com/wp-content/uploads/2021/04/actores-menores-de-45-guapos-atractivos-30.png\"><img alt=\"Travis Fimmel\" class=\"alignnone size-large wp-image-471440\" decoding=\"async\" height=\"700\" loading=\"lazy\" sizes=\"auto, (max-width: 628px) 100vw, 628px\" src=\"https://www.okchicas.com/wp-content/uploads/2021/04/actores-menores-de-45-guapos-atractivos-30-628x700.png\" srcset=\"https://www.okchicas.com/wp-content/uploads/2021/04/actores-menores-de-45-guapos-atractivos-30-628x700.png 628w, https://www.okchicas.com/wp-content/uploads/2021/04/actores-menores-de-45-guapos-atractivos-30-400x446.png 400w, https://www.okchicas.com/wp-content/uploads/2021/04/actores-menores-de-45-guapos-atractivos-30.png 700w\" width=\"628\"/></a></p>,\n",
       " <p>El vikingo más atractivo que hayamos visto jamás. El talentoso australiano ya tiene 41 añotes. </p>,\n",
       " <p></p>]"
      ]
     },
     "execution_count": 15,
     "metadata": {},
     "output_type": "execute_result"
    }
   ],
   "source": [
    "#obtener la edad de los actores\n",
    "import re \n",
    "soup.find_all(\"div\", class_=\"entry-content\", itemprop=\"text\")[0].find_all(\"p\")\n",
    "#sacar todos los números antes de \"años\" \"añitos\"\n",
    "todoslosparrafos = soup.find_all(\"div\", class_=\"entry-content\", itemprop=\"text\")[0].find_all(\"p\")\n",
    "todoslosparrafos\n",
    "#siguiente paso, asilar los números de los textos\n"
   ]
  },
  {
   "cell_type": "code",
   "execution_count": 16,
   "metadata": {},
   "outputs": [
    {
     "data": {
      "text/plain": [
       "['37',\n",
       " '30',\n",
       " '31',\n",
       " '33',\n",
       " '35',\n",
       " '44',\n",
       " '37',\n",
       " '37',\n",
       " '36',\n",
       " '42',\n",
       " '44',\n",
       " '44',\n",
       " '34',\n",
       " '30',\n",
       " '38',\n",
       " '41',\n",
       " '34',\n",
       " '35',\n",
       " '34',\n",
       " '38',\n",
       " '38',\n",
       " '40',\n",
       " '40',\n",
       " '40',\n",
       " '34',\n",
       " '41',\n",
       " '45']"
      ]
     },
     "execution_count": 16,
     "metadata": {},
     "output_type": "execute_result"
    }
   ],
   "source": [
    "pattern = r\"(\\d{1,2})\\s*(años|añitos)\"\n",
    "edades = []\n",
    "for p in todoslosparrafos:\n",
    "    texto = p.get_text()  # Extrae el texto del Tag\n",
    "    edad = re.findall(pattern, texto)  # Aplica la expresión regular al texto\n",
    "    if edad:\n",
    "        edades.append(edad[0][0])\n",
    "\n",
    "edades"
   ]
  },
  {
   "cell_type": "code",
   "execution_count": 17,
   "metadata": {},
   "outputs": [],
   "source": [
    "#oops, a Tom Hiddleston no le pusieron \"40 años\" si no \"cuarto piso\"\n",
    "\n",
    "edades.insert(12, '40')\n",
    " # Recuerda que las listas en Python son indexadas desde 0, por lo que la posición 13 es el índice 12.\n"
   ]
  },
  {
   "cell_type": "code",
   "execution_count": 18,
   "metadata": {},
   "outputs": [
    {
     "data": {
      "text/plain": [
       "['37',\n",
       " '30',\n",
       " '31',\n",
       " '33',\n",
       " '35',\n",
       " '44',\n",
       " '37',\n",
       " '37',\n",
       " '36',\n",
       " '42',\n",
       " '44',\n",
       " '44',\n",
       " '40',\n",
       " '34',\n",
       " '30',\n",
       " '38',\n",
       " '41',\n",
       " '34',\n",
       " '35',\n",
       " '34',\n",
       " '38',\n",
       " '38',\n",
       " '40',\n",
       " '40',\n",
       " '40',\n",
       " '34',\n",
       " '41',\n",
       " '45']"
      ]
     },
     "execution_count": 18,
     "metadata": {},
     "output_type": "execute_result"
    }
   ],
   "source": [
    "edades"
   ]
  },
  {
   "cell_type": "code",
   "execution_count": 19,
   "metadata": {},
   "outputs": [],
   "source": [
    "#oops mismo error para la posición 22\n",
    "# Inserta el valor 40 en la posición 22 (índice 21)\n",
    "edades.insert(21, '40')"
   ]
  },
  {
   "cell_type": "code",
   "execution_count": 20,
   "metadata": {},
   "outputs": [
    {
     "data": {
      "text/plain": [
       "['37',\n",
       " '30',\n",
       " '31',\n",
       " '33',\n",
       " '35',\n",
       " '44',\n",
       " '37',\n",
       " '37',\n",
       " '36',\n",
       " '42',\n",
       " '44',\n",
       " '44',\n",
       " '40',\n",
       " '34',\n",
       " '30',\n",
       " '38',\n",
       " '41',\n",
       " '34',\n",
       " '35',\n",
       " '34',\n",
       " '38',\n",
       " '40',\n",
       " '38',\n",
       " '40',\n",
       " '40',\n",
       " '40',\n",
       " '34',\n",
       " '41',\n",
       " '45']"
      ]
     },
     "execution_count": 20,
     "metadata": {},
     "output_type": "execute_result"
    }
   ],
   "source": [
    "edades"
   ]
  },
  {
   "cell_type": "code",
   "execution_count": 21,
   "metadata": {},
   "outputs": [],
   "source": [
    "#oops a . Travis Fimmel le pusieron \"41 añotes\"\n",
    "# Añade '41' al final de la lista\n",
    "edades.append('41')"
   ]
  },
  {
   "cell_type": "code",
   "execution_count": 22,
   "metadata": {},
   "outputs": [
    {
     "data": {
      "text/plain": [
       "['37',\n",
       " '30',\n",
       " '31',\n",
       " '33',\n",
       " '35',\n",
       " '44',\n",
       " '37',\n",
       " '37',\n",
       " '36',\n",
       " '42',\n",
       " '44',\n",
       " '44',\n",
       " '40',\n",
       " '34',\n",
       " '30',\n",
       " '38',\n",
       " '41',\n",
       " '34',\n",
       " '35',\n",
       " '34',\n",
       " '38',\n",
       " '40',\n",
       " '38',\n",
       " '40',\n",
       " '40',\n",
       " '40',\n",
       " '34',\n",
       " '41',\n",
       " '45',\n",
       " '41']"
      ]
     },
     "execution_count": 22,
     "metadata": {},
     "output_type": "execute_result"
    }
   ],
   "source": [
    "edades\n",
    "#listo, ya en orden edades. "
   ]
  },
  {
   "cell_type": "code",
   "execution_count": 23,
   "metadata": {},
   "outputs": [
    {
     "name": "stdout",
     "output_type": "stream",
     "text": [
      "['https://www.okchicas.com/wp-content/uploads/2021/04/actores-menores-de-45-guapos-atractivos-628x700.png', 'https://www.okchicas.com/wp-content/uploads/2021/04/actores-menores-de-45-guapos-atractivos-2-628x700.png', 'https://www.okchicas.com/wp-content/uploads/2021/04/actores-menores-de-45-guapos-atractivos-3-628x700.png', 'https://www.okchicas.com/wp-content/uploads/2021/04/actores-menores-de-45-guapos-atractivos-4-628x700.png', 'https://www.okchicas.com/wp-content/uploads/2021/04/actores-menores-de-45-guapos-atractivos-5-628x700.png', 'https://www.okchicas.com/wp-content/uploads/2021/04/actores-menores-de-45-guapos-atractivos-6-628x700.png', 'https://www.okchicas.com/wp-content/uploads/2021/04/actores-menores-de-45-guapos-atractivos-7-628x700.png', 'https://www.okchicas.com/wp-content/uploads/2021/04/actores-menores-de-45-guapos-atractivos-8-628x700.png', 'https://www.okchicas.com/wp-content/uploads/2021/04/actores-menores-de-45-guapos-atractivos-9-627x700.png', 'https://www.okchicas.com/wp-content/uploads/2021/04/actores-menores-de-45-guapos-atractivos-10-628x700.png', 'https://www.okchicas.com/wp-content/uploads/2021/04/actores-menores-de-45-guapos-atractivos-11-628x700.png', 'https://www.okchicas.com/wp-content/uploads/2021/04/actores-menores-de-45-guapos-atractivos-12-628x700.png', 'https://www.okchicas.com/wp-content/uploads/2021/04/actores-menores-de-45-guapos-atractivos-13-628x700.png', 'https://www.okchicas.com/wp-content/uploads/2021/04/actores-menores-de-45-guapos-atractivos-14-628x700.png', 'https://www.okchicas.com/wp-content/uploads/2021/04/actores-menores-de-45-guapos-atractivos-15-628x700.png', 'https://www.okchicas.com/wp-content/uploads/2021/04/actores-menores-de-45-guapos-atractivos-16-628x700.png', 'https://www.okchicas.com/wp-content/uploads/2021/04/actores-menores-de-45-guapos-atractivos-17-628x700.png', 'https://www.okchicas.com/wp-content/uploads/2021/04/actores-menores-de-45-guapos-atractivos-18-628x700.png', 'https://www.okchicas.com/wp-content/uploads/2021/04/actores-menores-de-45-guapos-atractivos-19-628x700.png', 'https://www.okchicas.com/wp-content/uploads/2021/04/actores-menores-de-45-guapos-atractivos-20-628x700.png', 'https://www.okchicas.com/wp-content/uploads/2021/04/actores-menores-de-45-guapos-atractivos-21-628x700.png', 'https://www.okchicas.com/wp-content/uploads/2021/04/actores-menores-de-45-guapos-atractivos-22-628x700.png', 'https://www.okchicas.com/wp-content/uploads/2021/04/actores-menores-de-45-guapos-atractivos-23-628x700.png', 'https://www.okchicas.com/wp-content/uploads/2021/04/actores-menores-de-45-guapos-atractivos-24-628x700.png', 'https://www.okchicas.com/wp-content/uploads/2021/04/actores-menores-de-45-guapos-atractivos-25-628x700.png', 'https://www.okchicas.com/wp-content/uploads/2021/04/actores-menores-de-45-guapos-atractivos-26-628x700.png', 'https://www.okchicas.com/wp-content/uploads/2021/04/actores-menores-de-45-guapos-atractivos-27-628x700.png', 'https://www.okchicas.com/wp-content/uploads/2021/04/actores-menores-de-45-guapos-atractivos-28-628x700.png', 'https://www.okchicas.com/wp-content/uploads/2021/04/actores-menores-de-45-guapos-atractivos-29-628x700.png', 'https://www.okchicas.com/wp-content/uploads/2021/04/actores-menores-de-45-guapos-atractivos-30-628x700.png']\n"
     ]
    }
   ],
   "source": [
    "#obtener las imagenes de los actores \n",
    "# Extraer todos los párrafos con imágenes\n",
    "parrafos_con_imagenes = soup.find_all(\"div\", class_=\"entry-content\", itemprop=\"text\")[0].find_all(\"p\")\n",
    "\n",
    "# Lista para almacenar las URLs de las imágenes\n",
    "urls_imagenes_p = []\n",
    "\n",
    "# Buscar las imágenes dentro de los párrafos\n",
    "for p in parrafos_con_imagenes:\n",
    "    # Si el párrafo contiene una etiqueta <img>\n",
    "    img_tag = p.find('img')\n",
    "    if img_tag and 'src' in img_tag.attrs:\n",
    "        # Verificar que la imagen tiene la extensión .png\n",
    "        if img_tag['src'].endswith('.png'):\n",
    "            urls_imagenes_p.append(img_tag['src'])\n",
    "\n",
    "# Mostrar las URLs de las imágenes .png\n",
    "print(urls_imagenes_p)\n"
   ]
  },
  {
   "cell_type": "code",
   "execution_count": 24,
   "metadata": {},
   "outputs": [
    {
     "data": {
      "text/plain": [
       "['Theo James',\n",
       " 'Aaron Taylor-Johnson',\n",
       " 'Liam Hemsworth',\n",
       " 'Tyler Hoechlin',\n",
       " 'Robert Pattinson',\n",
       " 'Tom Hardy',\n",
       " 'Justin Baldoni',\n",
       " 'Chris Hemsworth',\n",
       " 'Martiño Rivas',\n",
       " 'Tom Ellis',\n",
       " 'Alexander Skarsgård',\n",
       " 'Michael Fassbender',\n",
       " 'Tom Hiddleston',\n",
       " 'Evan Peters',\n",
       " 'Michele Morrone',\n",
       " 'Henry Cavill',\n",
       " 'Jake Gyllenhaal',\n",
       " 'Richard Madden',\n",
       " 'Sam Claflin',\n",
       " 'Mario Casas',\n",
       " 'Jamie Dornan',\n",
       " 'Sam Heughan',\n",
       " 'Sebastian Stan',\n",
       " 'Ryan Gosling',\n",
       " 'Charlie Hunnam',\n",
       " 'Chris Evans',\n",
       " 'Yon Gonzalez',\n",
       " 'Jason Momoa',\n",
       " 'Joe Manganiello',\n",
       " 'Travis Fimmel']"
      ]
     },
     "execution_count": 24,
     "metadata": {},
     "output_type": "execute_result"
    }
   ],
   "source": [
    "#checando que estén en orden\n",
    "lista_actores\n",
    "\n"
   ]
  },
  {
   "cell_type": "code",
   "execution_count": 25,
   "metadata": {},
   "outputs": [
    {
     "data": {
      "text/html": [
       "<img src=\"https://www.okchicas.com/wp-content/uploads/2021/04/actores-menores-de-45-guapos-atractivos-628x700.png\"/>"
      ],
      "text/plain": [
       "<IPython.core.display.Image object>"
      ]
     },
     "metadata": {},
     "output_type": "display_data"
    },
    {
     "data": {
      "text/html": [
       "<img src=\"https://www.okchicas.com/wp-content/uploads/2021/04/actores-menores-de-45-guapos-atractivos-2-628x700.png\"/>"
      ],
      "text/plain": [
       "<IPython.core.display.Image object>"
      ]
     },
     "metadata": {},
     "output_type": "display_data"
    },
    {
     "data": {
      "text/html": [
       "<img src=\"https://www.okchicas.com/wp-content/uploads/2021/04/actores-menores-de-45-guapos-atractivos-3-628x700.png\"/>"
      ],
      "text/plain": [
       "<IPython.core.display.Image object>"
      ]
     },
     "metadata": {},
     "output_type": "display_data"
    },
    {
     "data": {
      "text/html": [
       "<img src=\"https://www.okchicas.com/wp-content/uploads/2021/04/actores-menores-de-45-guapos-atractivos-4-628x700.png\"/>"
      ],
      "text/plain": [
       "<IPython.core.display.Image object>"
      ]
     },
     "metadata": {},
     "output_type": "display_data"
    },
    {
     "data": {
      "text/html": [
       "<img src=\"https://www.okchicas.com/wp-content/uploads/2021/04/actores-menores-de-45-guapos-atractivos-5-628x700.png\"/>"
      ],
      "text/plain": [
       "<IPython.core.display.Image object>"
      ]
     },
     "metadata": {},
     "output_type": "display_data"
    },
    {
     "data": {
      "text/html": [
       "<img src=\"https://www.okchicas.com/wp-content/uploads/2021/04/actores-menores-de-45-guapos-atractivos-6-628x700.png\"/>"
      ],
      "text/plain": [
       "<IPython.core.display.Image object>"
      ]
     },
     "metadata": {},
     "output_type": "display_data"
    },
    {
     "data": {
      "text/html": [
       "<img src=\"https://www.okchicas.com/wp-content/uploads/2021/04/actores-menores-de-45-guapos-atractivos-7-628x700.png\"/>"
      ],
      "text/plain": [
       "<IPython.core.display.Image object>"
      ]
     },
     "metadata": {},
     "output_type": "display_data"
    },
    {
     "data": {
      "text/html": [
       "<img src=\"https://www.okchicas.com/wp-content/uploads/2021/04/actores-menores-de-45-guapos-atractivos-8-628x700.png\"/>"
      ],
      "text/plain": [
       "<IPython.core.display.Image object>"
      ]
     },
     "metadata": {},
     "output_type": "display_data"
    },
    {
     "data": {
      "text/html": [
       "<img src=\"https://www.okchicas.com/wp-content/uploads/2021/04/actores-menores-de-45-guapos-atractivos-9-627x700.png\"/>"
      ],
      "text/plain": [
       "<IPython.core.display.Image object>"
      ]
     },
     "metadata": {},
     "output_type": "display_data"
    },
    {
     "data": {
      "text/html": [
       "<img src=\"https://www.okchicas.com/wp-content/uploads/2021/04/actores-menores-de-45-guapos-atractivos-10-628x700.png\"/>"
      ],
      "text/plain": [
       "<IPython.core.display.Image object>"
      ]
     },
     "metadata": {},
     "output_type": "display_data"
    },
    {
     "data": {
      "text/html": [
       "<img src=\"https://www.okchicas.com/wp-content/uploads/2021/04/actores-menores-de-45-guapos-atractivos-11-628x700.png\"/>"
      ],
      "text/plain": [
       "<IPython.core.display.Image object>"
      ]
     },
     "metadata": {},
     "output_type": "display_data"
    },
    {
     "data": {
      "text/html": [
       "<img src=\"https://www.okchicas.com/wp-content/uploads/2021/04/actores-menores-de-45-guapos-atractivos-12-628x700.png\"/>"
      ],
      "text/plain": [
       "<IPython.core.display.Image object>"
      ]
     },
     "metadata": {},
     "output_type": "display_data"
    },
    {
     "data": {
      "text/html": [
       "<img src=\"https://www.okchicas.com/wp-content/uploads/2021/04/actores-menores-de-45-guapos-atractivos-13-628x700.png\"/>"
      ],
      "text/plain": [
       "<IPython.core.display.Image object>"
      ]
     },
     "metadata": {},
     "output_type": "display_data"
    },
    {
     "data": {
      "text/html": [
       "<img src=\"https://www.okchicas.com/wp-content/uploads/2021/04/actores-menores-de-45-guapos-atractivos-14-628x700.png\"/>"
      ],
      "text/plain": [
       "<IPython.core.display.Image object>"
      ]
     },
     "metadata": {},
     "output_type": "display_data"
    },
    {
     "data": {
      "text/html": [
       "<img src=\"https://www.okchicas.com/wp-content/uploads/2021/04/actores-menores-de-45-guapos-atractivos-15-628x700.png\"/>"
      ],
      "text/plain": [
       "<IPython.core.display.Image object>"
      ]
     },
     "metadata": {},
     "output_type": "display_data"
    },
    {
     "data": {
      "text/html": [
       "<img src=\"https://www.okchicas.com/wp-content/uploads/2021/04/actores-menores-de-45-guapos-atractivos-16-628x700.png\"/>"
      ],
      "text/plain": [
       "<IPython.core.display.Image object>"
      ]
     },
     "metadata": {},
     "output_type": "display_data"
    },
    {
     "data": {
      "text/html": [
       "<img src=\"https://www.okchicas.com/wp-content/uploads/2021/04/actores-menores-de-45-guapos-atractivos-17-628x700.png\"/>"
      ],
      "text/plain": [
       "<IPython.core.display.Image object>"
      ]
     },
     "metadata": {},
     "output_type": "display_data"
    },
    {
     "data": {
      "text/html": [
       "<img src=\"https://www.okchicas.com/wp-content/uploads/2021/04/actores-menores-de-45-guapos-atractivos-18-628x700.png\"/>"
      ],
      "text/plain": [
       "<IPython.core.display.Image object>"
      ]
     },
     "metadata": {},
     "output_type": "display_data"
    },
    {
     "data": {
      "text/html": [
       "<img src=\"https://www.okchicas.com/wp-content/uploads/2021/04/actores-menores-de-45-guapos-atractivos-19-628x700.png\"/>"
      ],
      "text/plain": [
       "<IPython.core.display.Image object>"
      ]
     },
     "metadata": {},
     "output_type": "display_data"
    },
    {
     "data": {
      "text/html": [
       "<img src=\"https://www.okchicas.com/wp-content/uploads/2021/04/actores-menores-de-45-guapos-atractivos-20-628x700.png\"/>"
      ],
      "text/plain": [
       "<IPython.core.display.Image object>"
      ]
     },
     "metadata": {},
     "output_type": "display_data"
    },
    {
     "data": {
      "text/html": [
       "<img src=\"https://www.okchicas.com/wp-content/uploads/2021/04/actores-menores-de-45-guapos-atractivos-21-628x700.png\"/>"
      ],
      "text/plain": [
       "<IPython.core.display.Image object>"
      ]
     },
     "metadata": {},
     "output_type": "display_data"
    },
    {
     "data": {
      "text/html": [
       "<img src=\"https://www.okchicas.com/wp-content/uploads/2021/04/actores-menores-de-45-guapos-atractivos-22-628x700.png\"/>"
      ],
      "text/plain": [
       "<IPython.core.display.Image object>"
      ]
     },
     "metadata": {},
     "output_type": "display_data"
    },
    {
     "data": {
      "text/html": [
       "<img src=\"https://www.okchicas.com/wp-content/uploads/2021/04/actores-menores-de-45-guapos-atractivos-23-628x700.png\"/>"
      ],
      "text/plain": [
       "<IPython.core.display.Image object>"
      ]
     },
     "metadata": {},
     "output_type": "display_data"
    },
    {
     "data": {
      "text/html": [
       "<img src=\"https://www.okchicas.com/wp-content/uploads/2021/04/actores-menores-de-45-guapos-atractivos-24-628x700.png\"/>"
      ],
      "text/plain": [
       "<IPython.core.display.Image object>"
      ]
     },
     "metadata": {},
     "output_type": "display_data"
    },
    {
     "data": {
      "text/html": [
       "<img src=\"https://www.okchicas.com/wp-content/uploads/2021/04/actores-menores-de-45-guapos-atractivos-25-628x700.png\"/>"
      ],
      "text/plain": [
       "<IPython.core.display.Image object>"
      ]
     },
     "metadata": {},
     "output_type": "display_data"
    },
    {
     "data": {
      "text/html": [
       "<img src=\"https://www.okchicas.com/wp-content/uploads/2021/04/actores-menores-de-45-guapos-atractivos-26-628x700.png\"/>"
      ],
      "text/plain": [
       "<IPython.core.display.Image object>"
      ]
     },
     "metadata": {},
     "output_type": "display_data"
    },
    {
     "data": {
      "text/html": [
       "<img src=\"https://www.okchicas.com/wp-content/uploads/2021/04/actores-menores-de-45-guapos-atractivos-27-628x700.png\"/>"
      ],
      "text/plain": [
       "<IPython.core.display.Image object>"
      ]
     },
     "metadata": {},
     "output_type": "display_data"
    },
    {
     "data": {
      "text/html": [
       "<img src=\"https://www.okchicas.com/wp-content/uploads/2021/04/actores-menores-de-45-guapos-atractivos-28-628x700.png\"/>"
      ],
      "text/plain": [
       "<IPython.core.display.Image object>"
      ]
     },
     "metadata": {},
     "output_type": "display_data"
    },
    {
     "data": {
      "text/html": [
       "<img src=\"https://www.okchicas.com/wp-content/uploads/2021/04/actores-menores-de-45-guapos-atractivos-29-628x700.png\"/>"
      ],
      "text/plain": [
       "<IPython.core.display.Image object>"
      ]
     },
     "metadata": {},
     "output_type": "display_data"
    },
    {
     "data": {
      "text/html": [
       "<img src=\"https://www.okchicas.com/wp-content/uploads/2021/04/actores-menores-de-45-guapos-atractivos-30-628x700.png\"/>"
      ],
      "text/plain": [
       "<IPython.core.display.Image object>"
      ]
     },
     "metadata": {},
     "output_type": "display_data"
    }
   ],
   "source": [
    "# PREPARATE PARA VER 30 HOMBRES GUAPOS\n",
    "# ver imagenes# ! New library to display images\n",
    "from IPython.display import Image\n",
    "\n",
    "# Lista de URLs de las imágenes (por ejemplo, las que obtuviste previamente)\n",
    "urls_imagenes_p\n",
    "# Mostrar las imágenes\n",
    "for url in urls_imagenes_p:\n",
    "    display(Image(url=url))\n"
   ]
  },
  {
   "cell_type": "code",
   "execution_count": 26,
   "metadata": {},
   "outputs": [],
   "source": [
    "#juntar nombres, edades e imagenes en un dataframe\n",
    "hombres_guapos = pd.DataFrame({\n",
    "    \"Nombre\": lista_actores,\n",
    "    \"Edad\": edades,\n",
    "    \"Imagen\": urls_imagenes_p\n",
    "})"
   ]
  },
  {
   "cell_type": "code",
   "execution_count": 27,
   "metadata": {},
   "outputs": [
    {
     "data": {
      "application/vnd.microsoft.datawrangler.viewer.v0+json": {
       "columns": [
        {
         "name": "index",
         "rawType": "int64",
         "type": "integer"
        },
        {
         "name": "Nombre",
         "rawType": "object",
         "type": "string"
        },
        {
         "name": "Edad",
         "rawType": "object",
         "type": "string"
        },
        {
         "name": "Imagen",
         "rawType": "object",
         "type": "string"
        }
       ],
       "conversionMethod": "pd.DataFrame",
       "ref": "42dc5078-6b05-4fd8-b5d7-825f8997d19b",
       "rows": [
        [
         "0",
         "Theo James",
         "37",
         "https://www.okchicas.com/wp-content/uploads/2021/04/actores-menores-de-45-guapos-atractivos-628x700.png"
        ],
        [
         "1",
         "Aaron Taylor-Johnson",
         "30",
         "https://www.okchicas.com/wp-content/uploads/2021/04/actores-menores-de-45-guapos-atractivos-2-628x700.png"
        ],
        [
         "2",
         "Liam Hemsworth",
         "31",
         "https://www.okchicas.com/wp-content/uploads/2021/04/actores-menores-de-45-guapos-atractivos-3-628x700.png"
        ],
        [
         "3",
         "Tyler Hoechlin",
         "33",
         "https://www.okchicas.com/wp-content/uploads/2021/04/actores-menores-de-45-guapos-atractivos-4-628x700.png"
        ],
        [
         "4",
         "Robert Pattinson",
         "35",
         "https://www.okchicas.com/wp-content/uploads/2021/04/actores-menores-de-45-guapos-atractivos-5-628x700.png"
        ],
        [
         "5",
         "Tom Hardy",
         "44",
         "https://www.okchicas.com/wp-content/uploads/2021/04/actores-menores-de-45-guapos-atractivos-6-628x700.png"
        ],
        [
         "6",
         "Justin Baldoni",
         "37",
         "https://www.okchicas.com/wp-content/uploads/2021/04/actores-menores-de-45-guapos-atractivos-7-628x700.png"
        ],
        [
         "7",
         "Chris Hemsworth",
         "37",
         "https://www.okchicas.com/wp-content/uploads/2021/04/actores-menores-de-45-guapos-atractivos-8-628x700.png"
        ],
        [
         "8",
         "Martiño Rivas",
         "36",
         "https://www.okchicas.com/wp-content/uploads/2021/04/actores-menores-de-45-guapos-atractivos-9-627x700.png"
        ],
        [
         "9",
         "Tom Ellis",
         "42",
         "https://www.okchicas.com/wp-content/uploads/2021/04/actores-menores-de-45-guapos-atractivos-10-628x700.png"
        ],
        [
         "10",
         "Alexander Skarsgård",
         "44",
         "https://www.okchicas.com/wp-content/uploads/2021/04/actores-menores-de-45-guapos-atractivos-11-628x700.png"
        ],
        [
         "11",
         "Michael Fassbender",
         "44",
         "https://www.okchicas.com/wp-content/uploads/2021/04/actores-menores-de-45-guapos-atractivos-12-628x700.png"
        ],
        [
         "12",
         "Tom Hiddleston",
         "40",
         "https://www.okchicas.com/wp-content/uploads/2021/04/actores-menores-de-45-guapos-atractivos-13-628x700.png"
        ],
        [
         "13",
         "Evan Peters",
         "34",
         "https://www.okchicas.com/wp-content/uploads/2021/04/actores-menores-de-45-guapos-atractivos-14-628x700.png"
        ],
        [
         "14",
         "Michele Morrone",
         "30",
         "https://www.okchicas.com/wp-content/uploads/2021/04/actores-menores-de-45-guapos-atractivos-15-628x700.png"
        ],
        [
         "15",
         "Henry Cavill",
         "38",
         "https://www.okchicas.com/wp-content/uploads/2021/04/actores-menores-de-45-guapos-atractivos-16-628x700.png"
        ],
        [
         "16",
         "Jake Gyllenhaal",
         "41",
         "https://www.okchicas.com/wp-content/uploads/2021/04/actores-menores-de-45-guapos-atractivos-17-628x700.png"
        ],
        [
         "17",
         "Richard Madden",
         "34",
         "https://www.okchicas.com/wp-content/uploads/2021/04/actores-menores-de-45-guapos-atractivos-18-628x700.png"
        ],
        [
         "18",
         "Sam Claflin",
         "35",
         "https://www.okchicas.com/wp-content/uploads/2021/04/actores-menores-de-45-guapos-atractivos-19-628x700.png"
        ],
        [
         "19",
         "Mario Casas",
         "34",
         "https://www.okchicas.com/wp-content/uploads/2021/04/actores-menores-de-45-guapos-atractivos-20-628x700.png"
        ],
        [
         "20",
         "Jamie Dornan",
         "38",
         "https://www.okchicas.com/wp-content/uploads/2021/04/actores-menores-de-45-guapos-atractivos-21-628x700.png"
        ],
        [
         "21",
         "Sam Heughan",
         "40",
         "https://www.okchicas.com/wp-content/uploads/2021/04/actores-menores-de-45-guapos-atractivos-22-628x700.png"
        ],
        [
         "22",
         "Sebastian Stan",
         "38",
         "https://www.okchicas.com/wp-content/uploads/2021/04/actores-menores-de-45-guapos-atractivos-23-628x700.png"
        ],
        [
         "23",
         "Ryan Gosling",
         "40",
         "https://www.okchicas.com/wp-content/uploads/2021/04/actores-menores-de-45-guapos-atractivos-24-628x700.png"
        ],
        [
         "24",
         "Charlie Hunnam",
         "40",
         "https://www.okchicas.com/wp-content/uploads/2021/04/actores-menores-de-45-guapos-atractivos-25-628x700.png"
        ],
        [
         "25",
         "Chris Evans",
         "40",
         "https://www.okchicas.com/wp-content/uploads/2021/04/actores-menores-de-45-guapos-atractivos-26-628x700.png"
        ],
        [
         "26",
         "Yon Gonzalez",
         "34",
         "https://www.okchicas.com/wp-content/uploads/2021/04/actores-menores-de-45-guapos-atractivos-27-628x700.png"
        ],
        [
         "27",
         "Jason Momoa",
         "41",
         "https://www.okchicas.com/wp-content/uploads/2021/04/actores-menores-de-45-guapos-atractivos-28-628x700.png"
        ],
        [
         "28",
         "Joe Manganiello",
         "45",
         "https://www.okchicas.com/wp-content/uploads/2021/04/actores-menores-de-45-guapos-atractivos-29-628x700.png"
        ],
        [
         "29",
         "Travis Fimmel",
         "41",
         "https://www.okchicas.com/wp-content/uploads/2021/04/actores-menores-de-45-guapos-atractivos-30-628x700.png"
        ]
       ],
       "shape": {
        "columns": 3,
        "rows": 30
       }
      },
      "text/html": [
       "<div>\n",
       "<style scoped>\n",
       "    .dataframe tbody tr th:only-of-type {\n",
       "        vertical-align: middle;\n",
       "    }\n",
       "\n",
       "    .dataframe tbody tr th {\n",
       "        vertical-align: top;\n",
       "    }\n",
       "\n",
       "    .dataframe thead th {\n",
       "        text-align: right;\n",
       "    }\n",
       "</style>\n",
       "<table border=\"1\" class=\"dataframe\">\n",
       "  <thead>\n",
       "    <tr style=\"text-align: right;\">\n",
       "      <th></th>\n",
       "      <th>Nombre</th>\n",
       "      <th>Edad</th>\n",
       "      <th>Imagen</th>\n",
       "    </tr>\n",
       "  </thead>\n",
       "  <tbody>\n",
       "    <tr>\n",
       "      <th>0</th>\n",
       "      <td>Theo James</td>\n",
       "      <td>37</td>\n",
       "      <td>https://www.okchicas.com/wp-content/uploads/20...</td>\n",
       "    </tr>\n",
       "    <tr>\n",
       "      <th>1</th>\n",
       "      <td>Aaron Taylor-Johnson</td>\n",
       "      <td>30</td>\n",
       "      <td>https://www.okchicas.com/wp-content/uploads/20...</td>\n",
       "    </tr>\n",
       "    <tr>\n",
       "      <th>2</th>\n",
       "      <td>Liam Hemsworth</td>\n",
       "      <td>31</td>\n",
       "      <td>https://www.okchicas.com/wp-content/uploads/20...</td>\n",
       "    </tr>\n",
       "    <tr>\n",
       "      <th>3</th>\n",
       "      <td>Tyler Hoechlin</td>\n",
       "      <td>33</td>\n",
       "      <td>https://www.okchicas.com/wp-content/uploads/20...</td>\n",
       "    </tr>\n",
       "    <tr>\n",
       "      <th>4</th>\n",
       "      <td>Robert Pattinson</td>\n",
       "      <td>35</td>\n",
       "      <td>https://www.okchicas.com/wp-content/uploads/20...</td>\n",
       "    </tr>\n",
       "    <tr>\n",
       "      <th>5</th>\n",
       "      <td>Tom Hardy</td>\n",
       "      <td>44</td>\n",
       "      <td>https://www.okchicas.com/wp-content/uploads/20...</td>\n",
       "    </tr>\n",
       "    <tr>\n",
       "      <th>6</th>\n",
       "      <td>Justin Baldoni</td>\n",
       "      <td>37</td>\n",
       "      <td>https://www.okchicas.com/wp-content/uploads/20...</td>\n",
       "    </tr>\n",
       "    <tr>\n",
       "      <th>7</th>\n",
       "      <td>Chris Hemsworth</td>\n",
       "      <td>37</td>\n",
       "      <td>https://www.okchicas.com/wp-content/uploads/20...</td>\n",
       "    </tr>\n",
       "    <tr>\n",
       "      <th>8</th>\n",
       "      <td>Martiño Rivas</td>\n",
       "      <td>36</td>\n",
       "      <td>https://www.okchicas.com/wp-content/uploads/20...</td>\n",
       "    </tr>\n",
       "    <tr>\n",
       "      <th>9</th>\n",
       "      <td>Tom Ellis</td>\n",
       "      <td>42</td>\n",
       "      <td>https://www.okchicas.com/wp-content/uploads/20...</td>\n",
       "    </tr>\n",
       "    <tr>\n",
       "      <th>10</th>\n",
       "      <td>Alexander Skarsgård</td>\n",
       "      <td>44</td>\n",
       "      <td>https://www.okchicas.com/wp-content/uploads/20...</td>\n",
       "    </tr>\n",
       "    <tr>\n",
       "      <th>11</th>\n",
       "      <td>Michael Fassbender</td>\n",
       "      <td>44</td>\n",
       "      <td>https://www.okchicas.com/wp-content/uploads/20...</td>\n",
       "    </tr>\n",
       "    <tr>\n",
       "      <th>12</th>\n",
       "      <td>Tom Hiddleston</td>\n",
       "      <td>40</td>\n",
       "      <td>https://www.okchicas.com/wp-content/uploads/20...</td>\n",
       "    </tr>\n",
       "    <tr>\n",
       "      <th>13</th>\n",
       "      <td>Evan Peters</td>\n",
       "      <td>34</td>\n",
       "      <td>https://www.okchicas.com/wp-content/uploads/20...</td>\n",
       "    </tr>\n",
       "    <tr>\n",
       "      <th>14</th>\n",
       "      <td>Michele Morrone</td>\n",
       "      <td>30</td>\n",
       "      <td>https://www.okchicas.com/wp-content/uploads/20...</td>\n",
       "    </tr>\n",
       "    <tr>\n",
       "      <th>15</th>\n",
       "      <td>Henry Cavill</td>\n",
       "      <td>38</td>\n",
       "      <td>https://www.okchicas.com/wp-content/uploads/20...</td>\n",
       "    </tr>\n",
       "    <tr>\n",
       "      <th>16</th>\n",
       "      <td>Jake Gyllenhaal</td>\n",
       "      <td>41</td>\n",
       "      <td>https://www.okchicas.com/wp-content/uploads/20...</td>\n",
       "    </tr>\n",
       "    <tr>\n",
       "      <th>17</th>\n",
       "      <td>Richard Madden</td>\n",
       "      <td>34</td>\n",
       "      <td>https://www.okchicas.com/wp-content/uploads/20...</td>\n",
       "    </tr>\n",
       "    <tr>\n",
       "      <th>18</th>\n",
       "      <td>Sam Claflin</td>\n",
       "      <td>35</td>\n",
       "      <td>https://www.okchicas.com/wp-content/uploads/20...</td>\n",
       "    </tr>\n",
       "    <tr>\n",
       "      <th>19</th>\n",
       "      <td>Mario Casas</td>\n",
       "      <td>34</td>\n",
       "      <td>https://www.okchicas.com/wp-content/uploads/20...</td>\n",
       "    </tr>\n",
       "    <tr>\n",
       "      <th>20</th>\n",
       "      <td>Jamie Dornan</td>\n",
       "      <td>38</td>\n",
       "      <td>https://www.okchicas.com/wp-content/uploads/20...</td>\n",
       "    </tr>\n",
       "    <tr>\n",
       "      <th>21</th>\n",
       "      <td>Sam Heughan</td>\n",
       "      <td>40</td>\n",
       "      <td>https://www.okchicas.com/wp-content/uploads/20...</td>\n",
       "    </tr>\n",
       "    <tr>\n",
       "      <th>22</th>\n",
       "      <td>Sebastian Stan</td>\n",
       "      <td>38</td>\n",
       "      <td>https://www.okchicas.com/wp-content/uploads/20...</td>\n",
       "    </tr>\n",
       "    <tr>\n",
       "      <th>23</th>\n",
       "      <td>Ryan Gosling</td>\n",
       "      <td>40</td>\n",
       "      <td>https://www.okchicas.com/wp-content/uploads/20...</td>\n",
       "    </tr>\n",
       "    <tr>\n",
       "      <th>24</th>\n",
       "      <td>Charlie Hunnam</td>\n",
       "      <td>40</td>\n",
       "      <td>https://www.okchicas.com/wp-content/uploads/20...</td>\n",
       "    </tr>\n",
       "    <tr>\n",
       "      <th>25</th>\n",
       "      <td>Chris Evans</td>\n",
       "      <td>40</td>\n",
       "      <td>https://www.okchicas.com/wp-content/uploads/20...</td>\n",
       "    </tr>\n",
       "    <tr>\n",
       "      <th>26</th>\n",
       "      <td>Yon Gonzalez</td>\n",
       "      <td>34</td>\n",
       "      <td>https://www.okchicas.com/wp-content/uploads/20...</td>\n",
       "    </tr>\n",
       "    <tr>\n",
       "      <th>27</th>\n",
       "      <td>Jason Momoa</td>\n",
       "      <td>41</td>\n",
       "      <td>https://www.okchicas.com/wp-content/uploads/20...</td>\n",
       "    </tr>\n",
       "    <tr>\n",
       "      <th>28</th>\n",
       "      <td>Joe Manganiello</td>\n",
       "      <td>45</td>\n",
       "      <td>https://www.okchicas.com/wp-content/uploads/20...</td>\n",
       "    </tr>\n",
       "    <tr>\n",
       "      <th>29</th>\n",
       "      <td>Travis Fimmel</td>\n",
       "      <td>41</td>\n",
       "      <td>https://www.okchicas.com/wp-content/uploads/20...</td>\n",
       "    </tr>\n",
       "  </tbody>\n",
       "</table>\n",
       "</div>"
      ],
      "text/plain": [
       "                  Nombre Edad  \\\n",
       "0             Theo James   37   \n",
       "1   Aaron Taylor-Johnson   30   \n",
       "2         Liam Hemsworth   31   \n",
       "3         Tyler Hoechlin   33   \n",
       "4       Robert Pattinson   35   \n",
       "5              Tom Hardy   44   \n",
       "6         Justin Baldoni   37   \n",
       "7        Chris Hemsworth   37   \n",
       "8          Martiño Rivas   36   \n",
       "9              Tom Ellis   42   \n",
       "10   Alexander Skarsgård   44   \n",
       "11    Michael Fassbender   44   \n",
       "12        Tom Hiddleston   40   \n",
       "13           Evan Peters   34   \n",
       "14       Michele Morrone   30   \n",
       "15          Henry Cavill   38   \n",
       "16       Jake Gyllenhaal   41   \n",
       "17        Richard Madden   34   \n",
       "18           Sam Claflin   35   \n",
       "19           Mario Casas   34   \n",
       "20          Jamie Dornan   38   \n",
       "21           Sam Heughan   40   \n",
       "22        Sebastian Stan   38   \n",
       "23          Ryan Gosling   40   \n",
       "24        Charlie Hunnam   40   \n",
       "25           Chris Evans   40   \n",
       "26          Yon Gonzalez   34   \n",
       "27           Jason Momoa   41   \n",
       "28       Joe Manganiello   45   \n",
       "29         Travis Fimmel   41   \n",
       "\n",
       "                                               Imagen  \n",
       "0   https://www.okchicas.com/wp-content/uploads/20...  \n",
       "1   https://www.okchicas.com/wp-content/uploads/20...  \n",
       "2   https://www.okchicas.com/wp-content/uploads/20...  \n",
       "3   https://www.okchicas.com/wp-content/uploads/20...  \n",
       "4   https://www.okchicas.com/wp-content/uploads/20...  \n",
       "5   https://www.okchicas.com/wp-content/uploads/20...  \n",
       "6   https://www.okchicas.com/wp-content/uploads/20...  \n",
       "7   https://www.okchicas.com/wp-content/uploads/20...  \n",
       "8   https://www.okchicas.com/wp-content/uploads/20...  \n",
       "9   https://www.okchicas.com/wp-content/uploads/20...  \n",
       "10  https://www.okchicas.com/wp-content/uploads/20...  \n",
       "11  https://www.okchicas.com/wp-content/uploads/20...  \n",
       "12  https://www.okchicas.com/wp-content/uploads/20...  \n",
       "13  https://www.okchicas.com/wp-content/uploads/20...  \n",
       "14  https://www.okchicas.com/wp-content/uploads/20...  \n",
       "15  https://www.okchicas.com/wp-content/uploads/20...  \n",
       "16  https://www.okchicas.com/wp-content/uploads/20...  \n",
       "17  https://www.okchicas.com/wp-content/uploads/20...  \n",
       "18  https://www.okchicas.com/wp-content/uploads/20...  \n",
       "19  https://www.okchicas.com/wp-content/uploads/20...  \n",
       "20  https://www.okchicas.com/wp-content/uploads/20...  \n",
       "21  https://www.okchicas.com/wp-content/uploads/20...  \n",
       "22  https://www.okchicas.com/wp-content/uploads/20...  \n",
       "23  https://www.okchicas.com/wp-content/uploads/20...  \n",
       "24  https://www.okchicas.com/wp-content/uploads/20...  \n",
       "25  https://www.okchicas.com/wp-content/uploads/20...  \n",
       "26  https://www.okchicas.com/wp-content/uploads/20...  \n",
       "27  https://www.okchicas.com/wp-content/uploads/20...  \n",
       "28  https://www.okchicas.com/wp-content/uploads/20...  \n",
       "29  https://www.okchicas.com/wp-content/uploads/20...  "
      ]
     },
     "execution_count": 27,
     "metadata": {},
     "output_type": "execute_result"
    }
   ],
   "source": [
    "hombres_guapos"
   ]
  },
  {
   "cell_type": "code",
   "execution_count": 28,
   "metadata": {},
   "outputs": [],
   "source": [
    "\n",
    "#cambiar edad a numero \n",
    "hombres_guapos[\"Edad\"] = hombres_guapos[\"Edad\"].astype(int)\n",
    "#cambiar nombre a string\n",
    "hombres_guapos[\"Nombre\"] = hombres_guapos[\"Nombre\"].astype(str)\n"
   ]
  },
  {
   "cell_type": "code",
   "execution_count": 29,
   "metadata": {},
   "outputs": [
    {
     "name": "stdout",
     "output_type": "stream",
     "text": [
      "<class 'pandas.core.frame.DataFrame'>\n",
      "RangeIndex: 30 entries, 0 to 29\n",
      "Data columns (total 3 columns):\n",
      " #   Column  Non-Null Count  Dtype \n",
      "---  ------  --------------  ----- \n",
      " 0   Nombre  30 non-null     object\n",
      " 1   Edad    30 non-null     int64 \n",
      " 2   Imagen  30 non-null     object\n",
      "dtypes: int64(1), object(2)\n",
      "memory usage: 848.0+ bytes\n"
     ]
    },
    {
     "data": {
      "image/png": "[encoded data removed]",
      "text/plain": [
       "<Figure size 640x480 with 1 Axes>"
      ]
     },
     "metadata": {},
     "output_type": "display_data"
    }
   ],
   "source": [
    "#EDA \n",
    "hombres_guapos.info()\n",
    "hombres_guapos.describe()\n",
    "hombres_guapos.head()\n",
    "hombres_guapos.tail()\n",
    "\n",
    "# boxplot de edades\n",
    "# instalar seaborn\n",
    "#import sys\n",
    "#!{sys.executable} -m pip install seaborn\n",
    "\n",
    "#import sys\n",
    "#!{sys.executable} -m pip install matplotlib\n",
    "\n",
    "import seaborn as sns\n",
    "import matplotlib.pyplot as plt\n",
    "\n",
    "sns.boxplot(data=hombres_guapos, x=\"Edad\")\n",
    "plt.show()"
   ]
  },
  {
   "cell_type": "code",
   "execution_count": 30,
   "metadata": {},
   "outputs": [
    {
     "name": "stdout",
     "output_type": "stream",
     "text": [
      "Defaulting to user installation because normal site-packages is not writeable\n",
      "Requirement already satisfied: streamlit-extras in /Users/regina/Library/Python/3.9/lib/python/site-packages (0.5.5)\n",
      "Requirement already satisfied: protobuf!=3.20.2 in /Users/regina/Library/Python/3.9/lib/python/site-packages (from streamlit-extras) (5.29.3)\n",
      "Requirement already satisfied: prometheus-client>=0.14.0 in /Users/regina/Library/Python/3.9/lib/python/site-packages (from streamlit-extras) (0.21.1)\n",
      "Requirement already satisfied: st-annotated-text>=3.0.0 in /Users/regina/Library/Python/3.9/lib/python/site-packages (from streamlit-extras) (4.0.2)\n",
      "Requirement already satisfied: streamlit-embedcode>=0.1.2 in /Users/regina/Library/Python/3.9/lib/python/site-packages (from streamlit-extras) (0.1.2)\n",
      "Requirement already satisfied: streamlit-faker>=0.0.2 in /Users/regina/Library/Python/3.9/lib/python/site-packages (from streamlit-extras) (0.0.3)\n",
      "Requirement already satisfied: streamlit-keyup>=0.1.9 in /Users/regina/Library/Python/3.9/lib/python/site-packages (from streamlit-extras) (0.3.0)\n",
      "Requirement already satisfied: validators>=0.20.0 in /Users/regina/Library/Python/3.9/lib/python/site-packages (from streamlit-extras) (0.34.0)\n",
      "Requirement already satisfied: htbuilder>=0.6.2 in /Users/regina/Library/Python/3.9/lib/python/site-packages (from streamlit-extras) (0.9.0)\n",
      "Requirement already satisfied: streamlit-toggle-switch>=1.0.2 in /Users/regina/Library/Python/3.9/lib/python/site-packages (from streamlit-extras) (1.0.2)\n",
      "Requirement already satisfied: streamlit>=1.0.0 in /Users/regina/Library/Python/3.9/lib/python/site-packages (from streamlit-extras) (1.43.2)\n",
      "Requirement already satisfied: markdownlit>=0.0.5 in /Users/regina/Library/Python/3.9/lib/python/site-packages (from streamlit-extras) (0.0.7)\n",
      "Requirement already satisfied: streamlit-card>=0.0.4 in /Users/regina/Library/Python/3.9/lib/python/site-packages (from streamlit-extras) (1.0.2)\n",
      "Requirement already satisfied: entrypoints>=0.4 in /Users/regina/Library/Python/3.9/lib/python/site-packages (from streamlit-extras) (0.4)\n",
      "Requirement already satisfied: streamlit-camera-input-live>=0.2.0 in /Users/regina/Library/Python/3.9/lib/python/site-packages (from streamlit-extras) (0.2.0)\n",
      "Requirement already satisfied: plotly>=1.0.0 in /Users/regina/Library/Python/3.9/lib/python/site-packages (from streamlit-extras) (6.0.0)\n",
      "Requirement already satisfied: streamlit-vertical-slider>=2.5.5 in /Users/regina/Library/Python/3.9/lib/python/site-packages (from streamlit-extras) (2.5.5)\n",
      "Requirement already satisfied: streamlit-image-coordinates<0.2.0,>=0.1.1 in /Users/regina/Library/Python/3.9/lib/python/site-packages (from streamlit-extras) (0.1.9)\n",
      "Requirement already satisfied: st-theme>=1.0.1 in /Users/regina/Library/Python/3.9/lib/python/site-packages (from streamlit-extras) (1.2.3)\n",
      "Requirement already satisfied: lxml in /Users/regina/Library/Python/3.9/lib/python/site-packages (from markdownlit>=0.0.5->streamlit-extras) (5.3.1)\n",
      "Requirement already satisfied: favicon in /Users/regina/Library/Python/3.9/lib/python/site-packages (from markdownlit>=0.0.5->streamlit-extras) (0.7.0)\n",
      "Requirement already satisfied: pymdown-extensions in /Users/regina/Library/Python/3.9/lib/python/site-packages (from markdownlit>=0.0.5->streamlit-extras) (10.14.3)\n",
      "Requirement already satisfied: markdown in /Users/regina/Library/Python/3.9/lib/python/site-packages (from markdownlit>=0.0.5->streamlit-extras) (3.7)\n",
      "Requirement already satisfied: narwhals>=1.15.1 in /Users/regina/Library/Python/3.9/lib/python/site-packages (from plotly>=1.0.0->streamlit-extras) (1.30.0)\n",
      "Requirement already satisfied: packaging in /Users/regina/Library/Python/3.9/lib/python/site-packages (from plotly>=1.0.0->streamlit-extras) (24.2)\n",
      "Requirement already satisfied: altair<6,>=4.0 in /Users/regina/Library/Python/3.9/lib/python/site-packages (from streamlit>=1.0.0->streamlit-extras) (5.5.0)\n",
      "Requirement already satisfied: pillow<12,>=7.1.0 in /Users/regina/Library/Python/3.9/lib/python/site-packages (from streamlit>=1.0.0->streamlit-extras) (11.1.0)\n",
      "Requirement already satisfied: pyarrow>=7.0 in /Users/regina/Library/Python/3.9/lib/python/site-packages (from streamlit>=1.0.0->streamlit-extras) (19.0.1)\n",
      "Requirement already satisfied: typing-extensions<5,>=4.4.0 in /Users/regina/Library/Python/3.9/lib/python/site-packages (from streamlit>=1.0.0->streamlit-extras) (4.12.2)\n",
      "Requirement already satisfied: pandas<3,>=1.4.0 in /Users/regina/Library/Python/3.9/lib/python/site-packages (from streamlit>=1.0.0->streamlit-extras) (2.2.3)\n",
      "Requirement already satisfied: tornado<7,>=6.0.3 in /Users/regina/Library/Python/3.9/lib/python/site-packages (from streamlit>=1.0.0->streamlit-extras) (6.4.2)\n",
      "Requirement already satisfied: blinker<2,>=1.0.0 in /Users/regina/Library/Python/3.9/lib/python/site-packages (from streamlit>=1.0.0->streamlit-extras) (1.9.0)\n",
      "Requirement already satisfied: cachetools<6,>=4.0 in /Users/regina/Library/Python/3.9/lib/python/site-packages (from streamlit>=1.0.0->streamlit-extras) (5.5.2)\n",
      "Requirement already satisfied: numpy<3,>=1.23 in /Users/regina/Library/Python/3.9/lib/python/site-packages (from streamlit>=1.0.0->streamlit-extras) (2.0.2)\n",
      "Requirement already satisfied: toml<2,>=0.10.1 in /Users/regina/Library/Python/3.9/lib/python/site-packages (from streamlit>=1.0.0->streamlit-extras) (0.10.2)\n",
      "Requirement already satisfied: tenacity<10,>=8.1.0 in /Users/regina/Library/Python/3.9/lib/python/site-packages (from streamlit>=1.0.0->streamlit-extras) (9.0.0)\n",
      "Requirement already satisfied: requests<3,>=2.27 in /Users/regina/Library/Python/3.9/lib/python/site-packages (from streamlit>=1.0.0->streamlit-extras) (2.32.3)\n",
      "Requirement already satisfied: pydeck<1,>=0.8.0b4 in /Users/regina/Library/Python/3.9/lib/python/site-packages (from streamlit>=1.0.0->streamlit-extras) (0.9.1)\n",
      "Requirement already satisfied: click<9,>=7.0 in /Users/regina/Library/Python/3.9/lib/python/site-packages (from streamlit>=1.0.0->streamlit-extras) (8.1.8)\n",
      "Requirement already satisfied: gitpython!=3.1.19,<4,>=3.0.7 in /Users/regina/Library/Python/3.9/lib/python/site-packages (from streamlit>=1.0.0->streamlit-extras) (3.1.44)\n",
      "Requirement already satisfied: jinja2 in /Users/regina/Library/Python/3.9/lib/python/site-packages (from altair<6,>=4.0->streamlit>=1.0.0->streamlit-extras) (3.1.6)\n",
      "Requirement already satisfied: jsonschema>=3.0 in /Users/regina/Library/Python/3.9/lib/python/site-packages (from altair<6,>=4.0->streamlit>=1.0.0->streamlit-extras) (4.23.0)\n",
      "Requirement already satisfied: gitdb<5,>=4.0.1 in /Users/regina/Library/Python/3.9/lib/python/site-packages (from gitpython!=3.1.19,<4,>=3.0.7->streamlit>=1.0.0->streamlit-extras) (4.0.12)\n",
      "Requirement already satisfied: smmap<6,>=3.0.1 in /Users/regina/Library/Python/3.9/lib/python/site-packages (from gitdb<5,>=4.0.1->gitpython!=3.1.19,<4,>=3.0.7->streamlit>=1.0.0->streamlit-extras) (5.0.2)\n",
      "Requirement already satisfied: referencing>=0.28.4 in /Users/regina/Library/Python/3.9/lib/python/site-packages (from jsonschema>=3.0->altair<6,>=4.0->streamlit>=1.0.0->streamlit-extras) (0.36.2)\n",
      "Requirement already satisfied: jsonschema-specifications>=2023.03.6 in /Users/regina/Library/Python/3.9/lib/python/site-packages (from jsonschema>=3.0->altair<6,>=4.0->streamlit>=1.0.0->streamlit-extras) (2024.10.1)\n",
      "Requirement already satisfied: attrs>=22.2.0 in /Users/regina/Library/Python/3.9/lib/python/site-packages (from jsonschema>=3.0->altair<6,>=4.0->streamlit>=1.0.0->streamlit-extras) (25.3.0)\n",
      "Requirement already satisfied: rpds-py>=0.7.1 in /Users/regina/Library/Python/3.9/lib/python/site-packages (from jsonschema>=3.0->altair<6,>=4.0->streamlit>=1.0.0->streamlit-extras) (0.23.1)\n",
      "Requirement already satisfied: tzdata>=2022.7 in /Users/regina/Library/Python/3.9/lib/python/site-packages (from pandas<3,>=1.4.0->streamlit>=1.0.0->streamlit-extras) (2025.1)\n",
      "Requirement already satisfied: pytz>=2020.1 in /Users/regina/Library/Python/3.9/lib/python/site-packages (from pandas<3,>=1.4.0->streamlit>=1.0.0->streamlit-extras) (2025.1)\n",
      "Requirement already satisfied: python-dateutil>=2.8.2 in /Users/regina/Library/Python/3.9/lib/python/site-packages (from pandas<3,>=1.4.0->streamlit>=1.0.0->streamlit-extras) (2.9.0.post0)\n",
      "Requirement already satisfied: MarkupSafe>=2.0 in /Users/regina/Library/Python/3.9/lib/python/site-packages (from jinja2->altair<6,>=4.0->streamlit>=1.0.0->streamlit-extras) (3.0.2)\n",
      "Requirement already satisfied: six>=1.5 in /Library/Developer/CommandLineTools/Library/Frameworks/Python3.framework/Versions/3.9/lib/python3.9/site-packages (from python-dateutil>=2.8.2->pandas<3,>=1.4.0->streamlit>=1.0.0->streamlit-extras) (1.15.0)\n",
      "Requirement already satisfied: charset-normalizer<4,>=2 in /Users/regina/Library/Python/3.9/lib/python/site-packages (from requests<3,>=2.27->streamlit>=1.0.0->streamlit-extras) (3.4.1)\n",
      "Requirement already satisfied: certifi>=2017.4.17 in /Users/regina/Library/Python/3.9/lib/python/site-packages (from requests<3,>=2.27->streamlit>=1.0.0->streamlit-extras) (2025.1.31)\n",
      "Requirement already satisfied: idna<4,>=2.5 in /Users/regina/Library/Python/3.9/lib/python/site-packages (from requests<3,>=2.27->streamlit>=1.0.0->streamlit-extras) (3.10)\n",
      "Requirement already satisfied: urllib3<3,>=1.21.1 in /Users/regina/Library/Python/3.9/lib/python/site-packages (from requests<3,>=2.27->streamlit>=1.0.0->streamlit-extras) (2.3.0)\n",
      "Requirement already satisfied: matplotlib in /Users/regina/Library/Python/3.9/lib/python/site-packages (from streamlit-faker>=0.0.2->streamlit-extras) (3.9.4)\n",
      "Requirement already satisfied: faker in /Users/regina/Library/Python/3.9/lib/python/site-packages (from streamlit-faker>=0.0.2->streamlit-extras) (37.0.0)\n",
      "Requirement already satisfied: beautifulsoup4>=4.7.0 in /Users/regina/Library/Python/3.9/lib/python/site-packages (from favicon->markdownlit>=0.0.5->streamlit-extras) (4.13.3)\n",
      "Requirement already satisfied: soupsieve>1.2 in /Users/regina/Library/Python/3.9/lib/python/site-packages (from beautifulsoup4>=4.7.0->favicon->markdownlit>=0.0.5->streamlit-extras) (2.6)\n",
      "Requirement already satisfied: importlib-metadata>=4.4 in /Users/regina/Library/Python/3.9/lib/python/site-packages (from markdown->markdownlit>=0.0.5->streamlit-extras) (8.6.1)\n",
      "Requirement already satisfied: zipp>=3.20 in /Users/regina/Library/Python/3.9/lib/python/site-packages (from importlib-metadata>=4.4->markdown->markdownlit>=0.0.5->streamlit-extras) (3.21.0)\n",
      "Requirement already satisfied: kiwisolver>=1.3.1 in /Users/regina/Library/Python/3.9/lib/python/site-packages (from matplotlib->streamlit-faker>=0.0.2->streamlit-extras) (1.4.7)\n",
      "Requirement already satisfied: pyparsing>=2.3.1 in /Users/regina/Library/Python/3.9/lib/python/site-packages (from matplotlib->streamlit-faker>=0.0.2->streamlit-extras) (3.2.1)\n",
      "Requirement already satisfied: cycler>=0.10 in /Users/regina/Library/Python/3.9/lib/python/site-packages (from matplotlib->streamlit-faker>=0.0.2->streamlit-extras) (0.12.1)\n",
      "Requirement already satisfied: fonttools>=4.22.0 in /Users/regina/Library/Python/3.9/lib/python/site-packages (from matplotlib->streamlit-faker>=0.0.2->streamlit-extras) (4.56.0)\n",
      "Requirement already satisfied: contourpy>=1.0.1 in /Users/regina/Library/Python/3.9/lib/python/site-packages (from matplotlib->streamlit-faker>=0.0.2->streamlit-extras) (1.3.0)\n",
      "Requirement already satisfied: importlib-resources>=3.2.0 in /Users/regina/Library/Python/3.9/lib/python/site-packages (from matplotlib->streamlit-faker>=0.0.2->streamlit-extras) (6.5.2)\n",
      "Requirement already satisfied: pyyaml in /Users/regina/Library/Python/3.9/lib/python/site-packages (from pymdown-extensions->markdownlit>=0.0.5->streamlit-extras) (6.0.2)\n",
      "\u001b[33mWARNING: You are using pip version 21.2.4; however, version 25.0.1 is available.\n",
      "You should consider upgrading via the '/Library/Developer/CommandLineTools/usr/bin/python3 -m pip install --upgrade pip' command.\u001b[0m\n",
      "Note: you may need to restart the kernel to use updated packages.\n"
     ]
    }
   ],
   "source": [
    "pip install streamlit-extras\n"
   ]
  },
  {
   "cell_type": "code",
   "execution_count": 31,
   "metadata": {},
   "outputs": [],
   "source": [
    "key = \"d27792672emsh780d9c146ed565ap117cfajsn614c166dfb2a\""
   ]
  },
  {
   "cell_type": "code",
   "execution_count": 32,
   "metadata": {},
   "outputs": [
    {
     "name": "stdout",
     "output_type": "stream",
     "text": [
      "Error 429: {\"message\":\"You have exceeded the MONTHLY quota for Requests on your current plan, BASIC. Upgrade your plan at https:\\/\\/rapidapi.com\\/evlar-evlar-default\\/api\\/love-compatibility-calculator-api-apiverve\"}\n",
      "Error 429: {\"message\":\"You have exceeded the MONTHLY quota for Requests on your current plan, BASIC. Upgrade your plan at https:\\/\\/rapidapi.com\\/evlar-evlar-default\\/api\\/love-compatibility-calculator-api-apiverve\"}\n",
      "Error 429: {\"message\":\"You have exceeded the MONTHLY quota for Requests on your current plan, BASIC. Upgrade your plan at https:\\/\\/rapidapi.com\\/evlar-evlar-default\\/api\\/love-compatibility-calculator-api-apiverve\"}\n",
      "Error 429: {\"message\":\"You have exceeded the MONTHLY quota for Requests on your current plan, BASIC. Upgrade your plan at https:\\/\\/rapidapi.com\\/evlar-evlar-default\\/api\\/love-compatibility-calculator-api-apiverve\"}\n",
      "Error 429: {\"message\":\"You have exceeded the MONTHLY quota for Requests on your current plan, BASIC. Upgrade your plan at https:\\/\\/rapidapi.com\\/evlar-evlar-default\\/api\\/love-compatibility-calculator-api-apiverve\"}\n",
      "Error 429: {\"message\":\"You have exceeded the MONTHLY quota for Requests on your current plan, BASIC. Upgrade your plan at https:\\/\\/rapidapi.com\\/evlar-evlar-default\\/api\\/love-compatibility-calculator-api-apiverve\"}\n",
      "Error 429: {\"message\":\"You have exceeded the MONTHLY quota for Requests on your current plan, BASIC. Upgrade your plan at https:\\/\\/rapidapi.com\\/evlar-evlar-default\\/api\\/love-compatibility-calculator-api-apiverve\"}\n",
      "Error 429: {\"message\":\"You have exceeded the MONTHLY quota for Requests on your current plan, BASIC. Upgrade your plan at https:\\/\\/rapidapi.com\\/evlar-evlar-default\\/api\\/love-compatibility-calculator-api-apiverve\"}\n",
      "Error 429: {\"message\":\"You have exceeded the MONTHLY quota for Requests on your current plan, BASIC. Upgrade your plan at https:\\/\\/rapidapi.com\\/evlar-evlar-default\\/api\\/love-compatibility-calculator-api-apiverve\"}\n",
      "Error 429: {\"message\":\"You have exceeded the MONTHLY quota for Requests on your current plan, BASIC. Upgrade your plan at https:\\/\\/rapidapi.com\\/evlar-evlar-default\\/api\\/love-compatibility-calculator-api-apiverve\"}\n",
      "Error 429: {\"message\":\"You have exceeded the MONTHLY quota for Requests on your current plan, BASIC. Upgrade your plan at https:\\/\\/rapidapi.com\\/evlar-evlar-default\\/api\\/love-compatibility-calculator-api-apiverve\"}\n",
      "Error 429: {\"message\":\"You have exceeded the MONTHLY quota for Requests on your current plan, BASIC. Upgrade your plan at https:\\/\\/rapidapi.com\\/evlar-evlar-default\\/api\\/love-compatibility-calculator-api-apiverve\"}\n",
      "Error 429: {\"message\":\"You have exceeded the MONTHLY quota for Requests on your current plan, BASIC. Upgrade your plan at https:\\/\\/rapidapi.com\\/evlar-evlar-default\\/api\\/love-compatibility-calculator-api-apiverve\"}\n",
      "Error 429: {\"message\":\"You have exceeded the MONTHLY quota for Requests on your current plan, BASIC. Upgrade your plan at https:\\/\\/rapidapi.com\\/evlar-evlar-default\\/api\\/love-compatibility-calculator-api-apiverve\"}\n",
      "Error 429: {\"message\":\"You have exceeded the MONTHLY quota for Requests on your current plan, BASIC. Upgrade your plan at https:\\/\\/rapidapi.com\\/evlar-evlar-default\\/api\\/love-compatibility-calculator-api-apiverve\"}\n",
      "Error 429: {\"message\":\"You have exceeded the MONTHLY quota for Requests on your current plan, BASIC. Upgrade your plan at https:\\/\\/rapidapi.com\\/evlar-evlar-default\\/api\\/love-compatibility-calculator-api-apiverve\"}\n",
      "Error 429: {\"message\":\"You have exceeded the MONTHLY quota for Requests on your current plan, BASIC. Upgrade your plan at https:\\/\\/rapidapi.com\\/evlar-evlar-default\\/api\\/love-compatibility-calculator-api-apiverve\"}\n",
      "Error 429: {\"message\":\"You have exceeded the MONTHLY quota for Requests on your current plan, BASIC. Upgrade your plan at https:\\/\\/rapidapi.com\\/evlar-evlar-default\\/api\\/love-compatibility-calculator-api-apiverve\"}\n",
      "Error 429: {\"message\":\"You have exceeded the MONTHLY quota for Requests on your current plan, BASIC. Upgrade your plan at https:\\/\\/rapidapi.com\\/evlar-evlar-default\\/api\\/love-compatibility-calculator-api-apiverve\"}\n",
      "Error 429: {\"message\":\"You have exceeded the MONTHLY quota for Requests on your current plan, BASIC. Upgrade your plan at https:\\/\\/rapidapi.com\\/evlar-evlar-default\\/api\\/love-compatibility-calculator-api-apiverve\"}\n",
      "Error 429: {\"message\":\"You have exceeded the MONTHLY quota for Requests on your current plan, BASIC. Upgrade your plan at https:\\/\\/rapidapi.com\\/evlar-evlar-default\\/api\\/love-compatibility-calculator-api-apiverve\"}\n",
      "Error 429: {\"message\":\"You have exceeded the MONTHLY quota for Requests on your current plan, BASIC. Upgrade your plan at https:\\/\\/rapidapi.com\\/evlar-evlar-default\\/api\\/love-compatibility-calculator-api-apiverve\"}\n",
      "Error 429: {\"message\":\"You have exceeded the MONTHLY quota for Requests on your current plan, BASIC. Upgrade your plan at https:\\/\\/rapidapi.com\\/evlar-evlar-default\\/api\\/love-compatibility-calculator-api-apiverve\"}\n",
      "Error 429: {\"message\":\"You have exceeded the MONTHLY quota for Requests on your current plan, BASIC. Upgrade your plan at https:\\/\\/rapidapi.com\\/evlar-evlar-default\\/api\\/love-compatibility-calculator-api-apiverve\"}\n",
      "Error 429: {\"message\":\"You have exceeded the MONTHLY quota for Requests on your current plan, BASIC. Upgrade your plan at https:\\/\\/rapidapi.com\\/evlar-evlar-default\\/api\\/love-compatibility-calculator-api-apiverve\"}\n",
      "Error 429: {\"message\":\"You have exceeded the MONTHLY quota for Requests on your current plan, BASIC. Upgrade your plan at https:\\/\\/rapidapi.com\\/evlar-evlar-default\\/api\\/love-compatibility-calculator-api-apiverve\"}\n",
      "Error 429: {\"message\":\"You have exceeded the MONTHLY quota for Requests on your current plan, BASIC. Upgrade your plan at https:\\/\\/rapidapi.com\\/evlar-evlar-default\\/api\\/love-compatibility-calculator-api-apiverve\"}\n",
      "Error 429: {\"message\":\"You have exceeded the MONTHLY quota for Requests on your current plan, BASIC. Upgrade your plan at https:\\/\\/rapidapi.com\\/evlar-evlar-default\\/api\\/love-compatibility-calculator-api-apiverve\"}\n",
      "Error 429: {\"message\":\"You have exceeded the MONTHLY quota for Requests on your current plan, BASIC. Upgrade your plan at https:\\/\\/rapidapi.com\\/evlar-evlar-default\\/api\\/love-compatibility-calculator-api-apiverve\"}\n",
      "Error 429: {\"message\":\"You have exceeded the MONTHLY quota for Requests on your current plan, BASIC. Upgrade your plan at https:\\/\\/rapidapi.com\\/evlar-evlar-default\\/api\\/love-compatibility-calculator-api-apiverve\"}\n",
      "Empty DataFrame\n",
      "Columns: []\n",
      "Index: []\n"
     ]
    }
   ],
   "source": [
    "# 2. Con la api, crear un bucle que use la API para obtener el lovePercentage con Diana y todos los nombres de actores\n",
    "#queremos saber la compatibilidad de Diana con cada uno de los actores, por lo que necesitamos hacer una petición a la API por cada actor\n",
    "#usando el df de hombres guapos y la columna nombre.\n",
    "\n",
    "url = \"https://love-compatibility-calculator-api-apiverve.p.rapidapi.com/v1/lovecalculator\" #conectate al API\n",
    "headers = {\n",
    "    \"Accept\": \"application/json\",\n",
    "    \"x-rapidapi-host\": \"love-compatibility-calculator-api-apiverve.p.rapidapi.com\",\n",
    "    \"x-rapidapi-key\": key \n",
    "}\n",
    "\n",
    "# Lista para almacenar los resultados\n",
    "compatibilidad = []\n",
    "\n",
    "# Bucle para recorrer los nombres de los actores\n",
    "for nombre in hombres_guapos[\"Nombre\"]: #l a variable nombre tomará el valor de cada actor en la columna \"Nombre\"\n",
    "    params = { #Aquí, se está creando un diccionario llamado params con dos claves:\n",
    "        \"name1\": \"Diana\",\n",
    "        \"name2\": nombre\n",
    "    }\n",
    "    \n",
    "    response = requests.get(url, headers=headers, params=params)\n",
    "    \n",
    "    if response.status_code == 200: #si todo bien\n",
    "        data = response.json() #guarda la respuesta en formato json\n",
    "        love_percentage = data.get(\"lovePercentage\") #guarda el porcentaje de compatibilidad\n",
    "        compatibilidad.append({\"Diana\": \"Diana\", \"Actor\": nombre, \"Compatibilidad\": love_percentage}) #guarda los resultados en un diccionario\n",
    "    else:\n",
    "        print(f\"Error {response.status_code}: {response.text}\")\n",
    "\n",
    "# Convertimos la lista de resultados en un DataFrame\n",
    "compatibilidad_res = pd.DataFrame(compatibilidad)\n",
    "\n",
    "# Mostramos el DataFrame resultante\n",
    "print(compatibilidad_res)\n",
    "\n",
    "#oops un error Error 400: {\"status\":\"error\",\"error\":{\"invalid\":[\"name2: must be only letters and spaces and less than 100 characters\"]},\"data\":null,\"code\":400}\n",
    "\n",
    "\n"
   ]
  },
  {
   "cell_type": "code",
   "execution_count": 33,
   "metadata": {},
   "outputs": [
    {
     "name": "stdout",
     "output_type": "stream",
     "text": [
      "Nombre inválido: Aaron Taylor-Johnson\n",
      "Nombre inválido: Martiño Rivas\n",
      "Nombre inválido: Alexander Skarsgård\n"
     ]
    }
   ],
   "source": [
    "#ver nombres inválidos\n",
    "for nombre in hombres_guapos[\"Nombre\"]:\n",
    "    if not bool(re.match(\"^[A-Za-z ]+$\", nombre)):\n",
    "        print(f\"Nombre inválido: {nombre}\")\n",
    "\n"
   ]
  },
  {
   "cell_type": "code",
   "execution_count": 34,
   "metadata": {},
   "outputs": [
    {
     "name": "stdout",
     "output_type": "stream",
     "text": [
      "                 Nombre  Edad  \\\n",
      "0            Theo James    37   \n",
      "1   Aaron TaylorJohnson    30   \n",
      "2        Liam Hemsworth    31   \n",
      "3        Tyler Hoechlin    33   \n",
      "4      Robert Pattinson    35   \n",
      "5             Tom Hardy    44   \n",
      "6        Justin Baldoni    37   \n",
      "7       Chris Hemsworth    37   \n",
      "8          Martio Rivas    36   \n",
      "9             Tom Ellis    42   \n",
      "10   Alexander Skarsgrd    44   \n",
      "11   Michael Fassbender    44   \n",
      "12       Tom Hiddleston    40   \n",
      "13          Evan Peters    34   \n",
      "14      Michele Morrone    30   \n",
      "15         Henry Cavill    38   \n",
      "16      Jake Gyllenhaal    41   \n",
      "17       Richard Madden    34   \n",
      "18          Sam Claflin    35   \n",
      "19          Mario Casas    34   \n",
      "20         Jamie Dornan    38   \n",
      "21          Sam Heughan    40   \n",
      "22       Sebastian Stan    38   \n",
      "23         Ryan Gosling    40   \n",
      "24       Charlie Hunnam    40   \n",
      "25          Chris Evans    40   \n",
      "26         Yon Gonzalez    34   \n",
      "27          Jason Momoa    41   \n",
      "28      Joe Manganiello    45   \n",
      "29        Travis Fimmel    41   \n",
      "\n",
      "                                               Imagen  \n",
      "0   https://www.okchicas.com/wp-content/uploads/20...  \n",
      "1   https://www.okchicas.com/wp-content/uploads/20...  \n",
      "2   https://www.okchicas.com/wp-content/uploads/20...  \n",
      "3   https://www.okchicas.com/wp-content/uploads/20...  \n",
      "4   https://www.okchicas.com/wp-content/uploads/20...  \n",
      "5   https://www.okchicas.com/wp-content/uploads/20...  \n",
      "6   https://www.okchicas.com/wp-content/uploads/20...  \n",
      "7   https://www.okchicas.com/wp-content/uploads/20...  \n",
      "8   https://www.okchicas.com/wp-content/uploads/20...  \n",
      "9   https://www.okchicas.com/wp-content/uploads/20...  \n",
      "10  https://www.okchicas.com/wp-content/uploads/20...  \n",
      "11  https://www.okchicas.com/wp-content/uploads/20...  \n",
      "12  https://www.okchicas.com/wp-content/uploads/20...  \n",
      "13  https://www.okchicas.com/wp-content/uploads/20...  \n",
      "14  https://www.okchicas.com/wp-content/uploads/20...  \n",
      "15  https://www.okchicas.com/wp-content/uploads/20...  \n",
      "16  https://www.okchicas.com/wp-content/uploads/20...  \n",
      "17  https://www.okchicas.com/wp-content/uploads/20...  \n",
      "18  https://www.okchicas.com/wp-content/uploads/20...  \n",
      "19  https://www.okchicas.com/wp-content/uploads/20...  \n",
      "20  https://www.okchicas.com/wp-content/uploads/20...  \n",
      "21  https://www.okchicas.com/wp-content/uploads/20...  \n",
      "22  https://www.okchicas.com/wp-content/uploads/20...  \n",
      "23  https://www.okchicas.com/wp-content/uploads/20...  \n",
      "24  https://www.okchicas.com/wp-content/uploads/20...  \n",
      "25  https://www.okchicas.com/wp-content/uploads/20...  \n",
      "26  https://www.okchicas.com/wp-content/uploads/20...  \n",
      "27  https://www.okchicas.com/wp-content/uploads/20...  \n",
      "28  https://www.okchicas.com/wp-content/uploads/20...  \n",
      "29  https://www.okchicas.com/wp-content/uploads/20...  \n"
     ]
    }
   ],
   "source": [
    "# Función para corregir los nombres\n",
    "def corregir_nombre(nombre):\n",
    "    # Eliminar caracteres no permitidos (como guiones, comas, etc.)\n",
    "    nombre_corregido = re.sub(r'[^A-Za-z ]', '', nombre)\n",
    "    return nombre_corregido\n",
    "\n",
    "# Aplicar la corrección a la columna \"Nombre\" sin cambiar el orden\n",
    "hombres_guapos[\"Nombre\"] = hombres_guapos[\"Nombre\"].apply(corregir_nombre)\n",
    "\n",
    "# Verificar el resultado\n",
    "print(hombres_guapos)"
   ]
  },
  {
   "cell_type": "code",
   "execution_count": 35,
   "metadata": {},
   "outputs": [
    {
     "name": "stdout",
     "output_type": "stream",
     "text": [
      "Error 429: {\"message\":\"You have exceeded the MONTHLY quota for Requests on your current plan, BASIC. Upgrade your plan at https:\\/\\/rapidapi.com\\/evlar-evlar-default\\/api\\/love-compatibility-calculator-api-apiverve\"}\n",
      "Error 429: {\"message\":\"You have exceeded the MONTHLY quota for Requests on your current plan, BASIC. Upgrade your plan at https:\\/\\/rapidapi.com\\/evlar-evlar-default\\/api\\/love-compatibility-calculator-api-apiverve\"}\n",
      "Error 429: {\"message\":\"You have exceeded the MONTHLY quota for Requests on your current plan, BASIC. Upgrade your plan at https:\\/\\/rapidapi.com\\/evlar-evlar-default\\/api\\/love-compatibility-calculator-api-apiverve\"}\n",
      "Error 429: {\"message\":\"You have exceeded the MONTHLY quota for Requests on your current plan, BASIC. Upgrade your plan at https:\\/\\/rapidapi.com\\/evlar-evlar-default\\/api\\/love-compatibility-calculator-api-apiverve\"}\n",
      "Error 429: {\"message\":\"You have exceeded the MONTHLY quota for Requests on your current plan, BASIC. Upgrade your plan at https:\\/\\/rapidapi.com\\/evlar-evlar-default\\/api\\/love-compatibility-calculator-api-apiverve\"}\n",
      "Error 429: {\"message\":\"You have exceeded the MONTHLY quota for Requests on your current plan, BASIC. Upgrade your plan at https:\\/\\/rapidapi.com\\/evlar-evlar-default\\/api\\/love-compatibility-calculator-api-apiverve\"}\n",
      "Error 429: {\"message\":\"You have exceeded the MONTHLY quota for Requests on your current plan, BASIC. Upgrade your plan at https:\\/\\/rapidapi.com\\/evlar-evlar-default\\/api\\/love-compatibility-calculator-api-apiverve\"}\n",
      "Error 429: {\"message\":\"You have exceeded the MONTHLY quota for Requests on your current plan, BASIC. Upgrade your plan at https:\\/\\/rapidapi.com\\/evlar-evlar-default\\/api\\/love-compatibility-calculator-api-apiverve\"}\n",
      "Error 429: {\"message\":\"You have exceeded the MONTHLY quota for Requests on your current plan, BASIC. Upgrade your plan at https:\\/\\/rapidapi.com\\/evlar-evlar-default\\/api\\/love-compatibility-calculator-api-apiverve\"}\n",
      "Error 429: {\"message\":\"You have exceeded the MONTHLY quota for Requests on your current plan, BASIC. Upgrade your plan at https:\\/\\/rapidapi.com\\/evlar-evlar-default\\/api\\/love-compatibility-calculator-api-apiverve\"}\n",
      "Error 429: {\"message\":\"You have exceeded the MONTHLY quota for Requests on your current plan, BASIC. Upgrade your plan at https:\\/\\/rapidapi.com\\/evlar-evlar-default\\/api\\/love-compatibility-calculator-api-apiverve\"}\n",
      "Error 429: {\"message\":\"You have exceeded the MONTHLY quota for Requests on your current plan, BASIC. Upgrade your plan at https:\\/\\/rapidapi.com\\/evlar-evlar-default\\/api\\/love-compatibility-calculator-api-apiverve\"}\n",
      "Error 429: {\"message\":\"You have exceeded the MONTHLY quota for Requests on your current plan, BASIC. Upgrade your plan at https:\\/\\/rapidapi.com\\/evlar-evlar-default\\/api\\/love-compatibility-calculator-api-apiverve\"}\n",
      "Error 429: {\"message\":\"You have exceeded the MONTHLY quota for Requests on your current plan, BASIC. Upgrade your plan at https:\\/\\/rapidapi.com\\/evlar-evlar-default\\/api\\/love-compatibility-calculator-api-apiverve\"}\n",
      "Error 429: {\"message\":\"You have exceeded the MONTHLY quota for Requests on your current plan, BASIC. Upgrade your plan at https:\\/\\/rapidapi.com\\/evlar-evlar-default\\/api\\/love-compatibility-calculator-api-apiverve\"}\n",
      "Error 429: {\"message\":\"You have exceeded the MONTHLY quota for Requests on your current plan, BASIC. Upgrade your plan at https:\\/\\/rapidapi.com\\/evlar-evlar-default\\/api\\/love-compatibility-calculator-api-apiverve\"}\n",
      "Error 429: {\"message\":\"You have exceeded the MONTHLY quota for Requests on your current plan, BASIC. Upgrade your plan at https:\\/\\/rapidapi.com\\/evlar-evlar-default\\/api\\/love-compatibility-calculator-api-apiverve\"}\n",
      "Error 429: {\"message\":\"You have exceeded the MONTHLY quota for Requests on your current plan, BASIC. Upgrade your plan at https:\\/\\/rapidapi.com\\/evlar-evlar-default\\/api\\/love-compatibility-calculator-api-apiverve\"}\n",
      "Error 429: {\"message\":\"You have exceeded the MONTHLY quota for Requests on your current plan, BASIC. Upgrade your plan at https:\\/\\/rapidapi.com\\/evlar-evlar-default\\/api\\/love-compatibility-calculator-api-apiverve\"}\n",
      "Error 429: {\"message\":\"You have exceeded the MONTHLY quota for Requests on your current plan, BASIC. Upgrade your plan at https:\\/\\/rapidapi.com\\/evlar-evlar-default\\/api\\/love-compatibility-calculator-api-apiverve\"}\n",
      "Error 429: {\"message\":\"You have exceeded the MONTHLY quota for Requests on your current plan, BASIC. Upgrade your plan at https:\\/\\/rapidapi.com\\/evlar-evlar-default\\/api\\/love-compatibility-calculator-api-apiverve\"}\n",
      "Error 429: {\"message\":\"You have exceeded the MONTHLY quota for Requests on your current plan, BASIC. Upgrade your plan at https:\\/\\/rapidapi.com\\/evlar-evlar-default\\/api\\/love-compatibility-calculator-api-apiverve\"}\n",
      "Error 429: {\"message\":\"You have exceeded the MONTHLY quota for Requests on your current plan, BASIC. Upgrade your plan at https:\\/\\/rapidapi.com\\/evlar-evlar-default\\/api\\/love-compatibility-calculator-api-apiverve\"}\n",
      "Error 429: {\"message\":\"You have exceeded the MONTHLY quota for Requests on your current plan, BASIC. Upgrade your plan at https:\\/\\/rapidapi.com\\/evlar-evlar-default\\/api\\/love-compatibility-calculator-api-apiverve\"}\n",
      "Error 429: {\"message\":\"You have exceeded the MONTHLY quota for Requests on your current plan, BASIC. Upgrade your plan at https:\\/\\/rapidapi.com\\/evlar-evlar-default\\/api\\/love-compatibility-calculator-api-apiverve\"}\n",
      "Error 429: {\"message\":\"You have exceeded the MONTHLY quota for Requests on your current plan, BASIC. Upgrade your plan at https:\\/\\/rapidapi.com\\/evlar-evlar-default\\/api\\/love-compatibility-calculator-api-apiverve\"}\n",
      "Error 429: {\"message\":\"You have exceeded the MONTHLY quota for Requests on your current plan, BASIC. Upgrade your plan at https:\\/\\/rapidapi.com\\/evlar-evlar-default\\/api\\/love-compatibility-calculator-api-apiverve\"}\n",
      "Error 429: {\"message\":\"You have exceeded the MONTHLY quota for Requests on your current plan, BASIC. Upgrade your plan at https:\\/\\/rapidapi.com\\/evlar-evlar-default\\/api\\/love-compatibility-calculator-api-apiverve\"}\n",
      "Error 429: {\"message\":\"You have exceeded the MONTHLY quota for Requests on your current plan, BASIC. Upgrade your plan at https:\\/\\/rapidapi.com\\/evlar-evlar-default\\/api\\/love-compatibility-calculator-api-apiverve\"}\n",
      "Error 429: {\"message\":\"You have exceeded the MONTHLY quota for Requests on your current plan, BASIC. Upgrade your plan at https:\\/\\/rapidapi.com\\/evlar-evlar-default\\/api\\/love-compatibility-calculator-api-apiverve\"}\n",
      "Empty DataFrame\n",
      "Columns: []\n",
      "Index: []\n"
     ]
    }
   ],
   "source": [
    "#ahora sí, la api\n",
    "# 2. Con la api, crear un bucle que use la API para obtener el lovePercentage con Diana y todos los nombres de actores\n",
    "#queremos saber la compatibilidad de Diana con cada uno de los actores, por lo que necesitamos hacer una petición a la API por cada actor\n",
    "#usando el df de hombres guapos y la columna nombre.\n",
    "\n",
    "url = \"https://love-compatibility-calculator-api-apiverve.p.rapidapi.com/v1/lovecalculator\" #conectate al API\n",
    "headers = {\n",
    "    \"Accept\": \"application/json\",\n",
    "    \"x-rapidapi-host\": \"love-compatibility-calculator-api-apiverve.p.rapidapi.com\",\n",
    "    \"x-rapidapi-key\": key \n",
    "}\n",
    "\n",
    "# Lista para almacenar los resultados\n",
    "compatibilidad = []\n",
    "\n",
    "# Bucle para recorrer los nombres de los actores\n",
    "for nombre in hombres_guapos[\"Nombre\"]: #l a variable nombre tomará el valor de cada actor en la columna \"Nombre\"\n",
    "    params = { #Aquí, se está creando un diccionario llamado params con dos claves:\n",
    "        \"name1\": \"Diana\",\n",
    "        \"name2\": nombre\n",
    "    }\n",
    "    \n",
    "    response = requests.get(url, headers=headers, params=params)\n",
    "    \n",
    "    if response.status_code == 200: #si todo bien\n",
    "        data = response.json() #guarda la respuesta en formato json\n",
    "        love_percentage = data.get(\"lovePercentage\") #guarda el porcentaje de compatibilidad\n",
    "        compatibilidad.append({\"Diana\": \"Diana\", \"Actor\": nombre, \"Compatibilidad\": love_percentage}) #guarda los resultados en un diccionario\n",
    "    else:\n",
    "        print(f\"Error {response.status_code}: {response.text}\")\n",
    "\n",
    "# Convertimos la lista de resultados en un DataFrame\n",
    "compatibilidad_res = pd.DataFrame(compatibilidad)\n",
    "\n",
    "# Mostramos el DataFrame resultante\n",
    "print(compatibilidad_res)\n",
    "\n",
    "#hay algo mal xq compatibilidad me sale puro none "
   ]
  },
  {
   "cell_type": "code",
   "execution_count": 36,
   "metadata": {},
   "outputs": [
    {
     "name": "stdout",
     "output_type": "stream",
     "text": [
      "Error 429: {\"message\":\"You have exceeded the MONTHLY quota for Requests on your current plan, BASIC. Upgrade your plan at https:\\/\\/rapidapi.com\\/evlar-evlar-default\\/api\\/love-compatibility-calculator-api-apiverve\"}\n",
      "Error 429: {\"message\":\"You have exceeded the MONTHLY quota for Requests on your current plan, BASIC. Upgrade your plan at https:\\/\\/rapidapi.com\\/evlar-evlar-default\\/api\\/love-compatibility-calculator-api-apiverve\"}\n",
      "Error 429: {\"message\":\"You have exceeded the MONTHLY quota for Requests on your current plan, BASIC. Upgrade your plan at https:\\/\\/rapidapi.com\\/evlar-evlar-default\\/api\\/love-compatibility-calculator-api-apiverve\"}\n",
      "Empty DataFrame\n",
      "Columns: []\n",
      "Index: []\n"
     ]
    }
   ],
   "source": [
    "#ahora sí, la api\n",
    "# 2. Con la api, crear un bucle que use la API para obtener el lovePercentage con Diana y todos los nombres de actores\n",
    "#queremos saber la compatibilidad de Diana con cada uno de los actores, por lo que necesitamos hacer una petición a la API por cada actor\n",
    "#usando el df de hombres guapos y la columna nombre.\n",
    "\n",
    "url = \"https://love-compatibility-calculator-api-apiverve.p.rapidapi.com/v1/lovecalculator\" #conectate al API\n",
    "headers = {\n",
    "    \"Accept\": \"application/json\",\n",
    "    \"x-rapidapi-host\": \"love-compatibility-calculator-api-apiverve.p.rapidapi.com\",\n",
    "    \"x-rapidapi-key\": \"25fba63263msh6cd8a16bfec0579p179209jsnf759b9f2a85c\" \n",
    "}\n",
    "\n",
    "# Lista para almacenar los resultados\n",
    "compatibilidad = []\n",
    "\n",
    "# Bucle para recorrer los nombres de los actores\n",
    "for nombre in hombres_guapos[\"Nombre\"][:3]: #l a variable nombre tomará el valor de cada actor en la columna \"Nombre\"\n",
    "    params = { #Aquí, se está creando un diccionario llamado params con dos claves:\n",
    "        \"name1\": \"Diana\",\n",
    "        \"name2\": nombre\n",
    "    }\n",
    "    \n",
    "    response = requests.get(url, headers=headers, params=params)\n",
    "    \n",
    "    if response.status_code == 200: #si todo bien\n",
    "        data = response.json() #guarda la respuesta en formato json\n",
    "        love_percentage = data.get(\"lovePercentage\") #guarda el porcentaje de compatibilidad\n",
    "        compatibilidad.append({\"Diana\": \"Diana\", \"Actor\": nombre, \"Compatibilidad\": love_percentage}) #guarda los resultados en un diccionario\n",
    "    else:\n",
    "        print(f\"Error {response.status_code}: {response.text}\")\n",
    "\n",
    "# Convertimos la lista de resultados en un DataFrame\n",
    "compatibilidad_res = pd.DataFrame(compatibilidad)\n",
    "\n",
    "# Mostramos el DataFrame resultante\n",
    "print(compatibilidad_res)\n",
    "\n",
    "#hay algo mal xq compatibilidad me sale puro none "
   ]
  },
  {
   "cell_type": "code",
   "execution_count": 37,
   "metadata": {},
   "outputs": [
    {
     "name": "stdout",
     "output_type": "stream",
     "text": [
      "Error 429: {\"message\":\"You have exceeded the MONTHLY quota for Requests on your current plan, BASIC. Upgrade your plan at https:\\/\\/rapidapi.com\\/evlar-evlar-default\\/api\\/love-compatibility-calculator-api-apiverve\"}\n",
      "Error 429: {\"message\":\"You have exceeded the MONTHLY quota for Requests on your current plan, BASIC. Upgrade your plan at https:\\/\\/rapidapi.com\\/evlar-evlar-default\\/api\\/love-compatibility-calculator-api-apiverve\"}\n",
      "Error 429: {\"message\":\"You have exceeded the MONTHLY quota for Requests on your current plan, BASIC. Upgrade your plan at https:\\/\\/rapidapi.com\\/evlar-evlar-default\\/api\\/love-compatibility-calculator-api-apiverve\"}\n",
      "Empty DataFrame\n",
      "Columns: []\n",
      "Index: []\n"
     ]
    }
   ],
   "source": [
    "#revisando si es por el porcentaje \n",
    "#spoiler, sí era el porcentaje\n",
    "\n",
    "url = \"https://love-compatibility-calculator-api-apiverve.p.rapidapi.com/v1/lovecalculator\"  # Conéctate al API\n",
    "headers = {\n",
    "    \"Accept\": \"application/json\",\n",
    "    \"x-rapidapi-host\": \"love-compatibility-calculator-api-apiverve.p.rapidapi.com\",\n",
    "    \"x-rapidapi-key\": \"25fba63263msh6cd8a16bfec0579p179209jsnf759b9f2a85c\" \n",
    "}\n",
    "\n",
    "# Lista para almacenar los resultados\n",
    "compatibilidad = []\n",
    "\n",
    "# Bucle para recorrer solo los primeros 3 nombres de los actores\n",
    "for nombre in hombres_guapos[\"Nombre\"][:3]:  # Tomamos solo los primeros 3 nombres\n",
    "    params = {  # Aquí se está creando un diccionario con las claves\n",
    "        \"name1\": \"Diana\",\n",
    "        \"name2\": nombre\n",
    "    }\n",
    "    \n",
    "    response = requests.get(url, headers=headers, params=params)\n",
    "    \n",
    "    if response.status_code == 200:  # Si todo está bien\n",
    "        data = response.json()  # Guarda la respuesta en formato JSON\n",
    "        \n",
    "        # Verifica si la respuesta contiene el campo 'lovePercentage'\n",
    "        love_percentage = data.get(\"data\", {}).get(\"lovePercentage\")\n",
    "        \n",
    "        # Si lovePercentage existe, eliminamos el % y lo convertimos en un número\n",
    "        if love_percentage:\n",
    "            love_percentage = love_percentage.replace('%', '')  # Elimina el '%'\n",
    "            try:\n",
    "                love_percentage = int(love_percentage)  # Convierte a entero\n",
    "            except ValueError:\n",
    "                love_percentage = None  # Si no puede convertir, asignamos None\n",
    "        else:\n",
    "            love_percentage = None\n",
    "        \n",
    "        # Guarda los resultados en un diccionario\n",
    "        compatibilidad.append({\"Diana\": \"Diana\", \"Actor\": nombre, \"Compatibilidad\": love_percentage})\n",
    "    else:\n",
    "        print(f\"Error {response.status_code}: {response.text}\")\n",
    "\n",
    "# Convertimos la lista de resultados en un DataFrame\n",
    "compatibilidad_res = pd.DataFrame(compatibilidad)\n",
    "\n",
    "# Mostramos el DataFrame resultante\n",
    "print(compatibilidad_res)\n"
   ]
  },
  {
   "cell_type": "code",
   "execution_count": 38,
   "metadata": {},
   "outputs": [
    {
     "name": "stdout",
     "output_type": "stream",
     "text": [
      "Error 429: {\"message\":\"You have exceeded the MONTHLY quota for Requests on your current plan, BASIC. Upgrade your plan at https:\\/\\/rapidapi.com\\/evlar-evlar-default\\/api\\/love-compatibility-calculator-api-apiverve\"}\n",
      "Error 429: {\"message\":\"You have exceeded the MONTHLY quota for Requests on your current plan, BASIC. Upgrade your plan at https:\\/\\/rapidapi.com\\/evlar-evlar-default\\/api\\/love-compatibility-calculator-api-apiverve\"}\n",
      "Error 429: {\"message\":\"You have exceeded the MONTHLY quota for Requests on your current plan, BASIC. Upgrade your plan at https:\\/\\/rapidapi.com\\/evlar-evlar-default\\/api\\/love-compatibility-calculator-api-apiverve\"}\n",
      "Empty DataFrame\n",
      "Columns: []\n",
      "Index: []\n"
     ]
    }
   ],
   "source": [
    "#ya corrigiendo para el porcentaje\n",
    "\n",
    "url = \"https://love-compatibility-calculator-api-apiverve.p.rapidapi.com/v1/lovecalculator\"  # Conéctate al API\n",
    "headers = {\n",
    "    \"Accept\": \"application/json\",\n",
    "    \"x-rapidapi-host\": \"love-compatibility-calculator-api-apiverve.p.rapidapi.com\",\n",
    "    \"x-rapidapi-key\": \"25fba63263msh6cd8a16bfec0579p179209jsnf759b9f2a85c\"  \n",
    "}\n",
    "\n",
    "# Lista para almacenar los resultados\n",
    "compatibilidad = []\n",
    "\n",
    "# Bucle para recorrer los primeros 3 nombres de los actores\n",
    "for nombre in hombres_guapos[\"Nombre\"][:3]:  # Tomamos solo los primeros 3 nombres\n",
    "    params = {  # Aquí se está creando un diccionario con las claves\n",
    "        \"name1\": \"Diana\",\n",
    "        \"name2\": nombre\n",
    "    }\n",
    "    \n",
    "    response = requests.get(url, headers=headers, params=params)\n",
    "    \n",
    "    if response.status_code == 200:  # Si todo está bien\n",
    "        data = response.json()  # Guarda la respuesta en formato JSON\n",
    "        \n",
    "        # Verifica si la respuesta contiene el campo 'lovePercentage'\n",
    "        love_percentage = data.get(\"data\", {}).get(\"lovePercentage\")\n",
    "        \n",
    "        # Si lovePercentage existe, eliminamos el '%' y lo convertimos en un número\n",
    "        if love_percentage:\n",
    "            love_percentage = love_percentage.replace('%', '')  # Elimina el '%'\n",
    "            try:\n",
    "                love_percentage = int(love_percentage)  # Convierte a entero\n",
    "                love_percentage = f\"{love_percentage}%\"  # Vuelve a agregar el '%'\n",
    "            except ValueError:\n",
    "                love_percentage = None  # Si no puede convertir, asignamos None\n",
    "        else:\n",
    "            love_percentage = None\n",
    "        \n",
    "        # Guarda los resultados en un diccionario\n",
    "        compatibilidad.append({\"Diana\": \"Diana\", \"Actor\": nombre, \"Compatibilidad\": love_percentage})\n",
    "    else:\n",
    "        print(f\"Error {response.status_code}: {response.text}\")\n",
    "\n",
    "# Convertimos la lista de resultados en un DataFrame\n",
    "compatibilidad_res = pd.DataFrame(compatibilidad)\n",
    "\n",
    "# Mostramos el DataFrame resultante\n",
    "print(compatibilidad_res)\n",
    "\n",
    "#ya funciona!! "
   ]
  },
  {
   "cell_type": "code",
   "execution_count": 39,
   "metadata": {},
   "outputs": [
    {
     "name": "stdout",
     "output_type": "stream",
     "text": [
      "Error 429: {\"message\":\"You have exceeded the MONTHLY quota for Requests on your current plan, BASIC. Upgrade your plan at https:\\/\\/rapidapi.com\\/evlar-evlar-default\\/api\\/love-compatibility-calculator-api-apiverve\"}\n",
      "Error 429: {\"message\":\"You have exceeded the MONTHLY quota for Requests on your current plan, BASIC. Upgrade your plan at https:\\/\\/rapidapi.com\\/evlar-evlar-default\\/api\\/love-compatibility-calculator-api-apiverve\"}\n",
      "Error 429: {\"message\":\"You have exceeded the MONTHLY quota for Requests on your current plan, BASIC. Upgrade your plan at https:\\/\\/rapidapi.com\\/evlar-evlar-default\\/api\\/love-compatibility-calculator-api-apiverve\"}\n",
      "Error 429: {\"message\":\"You have exceeded the MONTHLY quota for Requests on your current plan, BASIC. Upgrade your plan at https:\\/\\/rapidapi.com\\/evlar-evlar-default\\/api\\/love-compatibility-calculator-api-apiverve\"}\n",
      "Error 429: {\"message\":\"You have exceeded the MONTHLY quota for Requests on your current plan, BASIC. Upgrade your plan at https:\\/\\/rapidapi.com\\/evlar-evlar-default\\/api\\/love-compatibility-calculator-api-apiverve\"}\n",
      "Error 429: {\"message\":\"You have exceeded the MONTHLY quota for Requests on your current plan, BASIC. Upgrade your plan at https:\\/\\/rapidapi.com\\/evlar-evlar-default\\/api\\/love-compatibility-calculator-api-apiverve\"}\n",
      "Error 429: {\"message\":\"You have exceeded the MONTHLY quota for Requests on your current plan, BASIC. Upgrade your plan at https:\\/\\/rapidapi.com\\/evlar-evlar-default\\/api\\/love-compatibility-calculator-api-apiverve\"}\n",
      "Error 429: {\"message\":\"You have exceeded the MONTHLY quota for Requests on your current plan, BASIC. Upgrade your plan at https:\\/\\/rapidapi.com\\/evlar-evlar-default\\/api\\/love-compatibility-calculator-api-apiverve\"}\n",
      "Error 429: {\"message\":\"You have exceeded the MONTHLY quota for Requests on your current plan, BASIC. Upgrade your plan at https:\\/\\/rapidapi.com\\/evlar-evlar-default\\/api\\/love-compatibility-calculator-api-apiverve\"}\n",
      "Error 429: {\"message\":\"You have exceeded the MONTHLY quota for Requests on your current plan, BASIC. Upgrade your plan at https:\\/\\/rapidapi.com\\/evlar-evlar-default\\/api\\/love-compatibility-calculator-api-apiverve\"}\n",
      "Error 429: {\"message\":\"You have exceeded the MONTHLY quota for Requests on your current plan, BASIC. Upgrade your plan at https:\\/\\/rapidapi.com\\/evlar-evlar-default\\/api\\/love-compatibility-calculator-api-apiverve\"}\n",
      "Error 429: {\"message\":\"You have exceeded the MONTHLY quota for Requests on your current plan, BASIC. Upgrade your plan at https:\\/\\/rapidapi.com\\/evlar-evlar-default\\/api\\/love-compatibility-calculator-api-apiverve\"}\n",
      "Error 429: {\"message\":\"You have exceeded the MONTHLY quota for Requests on your current plan, BASIC. Upgrade your plan at https:\\/\\/rapidapi.com\\/evlar-evlar-default\\/api\\/love-compatibility-calculator-api-apiverve\"}\n",
      "Error 429: {\"message\":\"You have exceeded the MONTHLY quota for Requests on your current plan, BASIC. Upgrade your plan at https:\\/\\/rapidapi.com\\/evlar-evlar-default\\/api\\/love-compatibility-calculator-api-apiverve\"}\n",
      "Error 429: {\"message\":\"You have exceeded the MONTHLY quota for Requests on your current plan, BASIC. Upgrade your plan at https:\\/\\/rapidapi.com\\/evlar-evlar-default\\/api\\/love-compatibility-calculator-api-apiverve\"}\n",
      "Error 429: {\"message\":\"You have exceeded the MONTHLY quota for Requests on your current plan, BASIC. Upgrade your plan at https:\\/\\/rapidapi.com\\/evlar-evlar-default\\/api\\/love-compatibility-calculator-api-apiverve\"}\n",
      "Error 429: {\"message\":\"You have exceeded the MONTHLY quota for Requests on your current plan, BASIC. Upgrade your plan at https:\\/\\/rapidapi.com\\/evlar-evlar-default\\/api\\/love-compatibility-calculator-api-apiverve\"}\n",
      "Error 429: {\"message\":\"You have exceeded the MONTHLY quota for Requests on your current plan, BASIC. Upgrade your plan at https:\\/\\/rapidapi.com\\/evlar-evlar-default\\/api\\/love-compatibility-calculator-api-apiverve\"}\n",
      "Error 429: {\"message\":\"You have exceeded the MONTHLY quota for Requests on your current plan, BASIC. Upgrade your plan at https:\\/\\/rapidapi.com\\/evlar-evlar-default\\/api\\/love-compatibility-calculator-api-apiverve\"}\n",
      "Error 429: {\"message\":\"You have exceeded the MONTHLY quota for Requests on your current plan, BASIC. Upgrade your plan at https:\\/\\/rapidapi.com\\/evlar-evlar-default\\/api\\/love-compatibility-calculator-api-apiverve\"}\n",
      "Error 429: {\"message\":\"You have exceeded the MONTHLY quota for Requests on your current plan, BASIC. Upgrade your plan at https:\\/\\/rapidapi.com\\/evlar-evlar-default\\/api\\/love-compatibility-calculator-api-apiverve\"}\n",
      "Error 429: {\"message\":\"You have exceeded the MONTHLY quota for Requests on your current plan, BASIC. Upgrade your plan at https:\\/\\/rapidapi.com\\/evlar-evlar-default\\/api\\/love-compatibility-calculator-api-apiverve\"}\n",
      "Error 429: {\"message\":\"You have exceeded the MONTHLY quota for Requests on your current plan, BASIC. Upgrade your plan at https:\\/\\/rapidapi.com\\/evlar-evlar-default\\/api\\/love-compatibility-calculator-api-apiverve\"}\n",
      "Error 429: {\"message\":\"You have exceeded the MONTHLY quota for Requests on your current plan, BASIC. Upgrade your plan at https:\\/\\/rapidapi.com\\/evlar-evlar-default\\/api\\/love-compatibility-calculator-api-apiverve\"}\n",
      "Error 429: {\"message\":\"You have exceeded the MONTHLY quota for Requests on your current plan, BASIC. Upgrade your plan at https:\\/\\/rapidapi.com\\/evlar-evlar-default\\/api\\/love-compatibility-calculator-api-apiverve\"}\n",
      "Error 429: {\"message\":\"You have exceeded the MONTHLY quota for Requests on your current plan, BASIC. Upgrade your plan at https:\\/\\/rapidapi.com\\/evlar-evlar-default\\/api\\/love-compatibility-calculator-api-apiverve\"}\n",
      "Error 429: {\"message\":\"You have exceeded the MONTHLY quota for Requests on your current plan, BASIC. Upgrade your plan at https:\\/\\/rapidapi.com\\/evlar-evlar-default\\/api\\/love-compatibility-calculator-api-apiverve\"}\n",
      "Error 429: {\"message\":\"You have exceeded the MONTHLY quota for Requests on your current plan, BASIC. Upgrade your plan at https:\\/\\/rapidapi.com\\/evlar-evlar-default\\/api\\/love-compatibility-calculator-api-apiverve\"}\n",
      "Error 429: {\"message\":\"You have exceeded the MONTHLY quota for Requests on your current plan, BASIC. Upgrade your plan at https:\\/\\/rapidapi.com\\/evlar-evlar-default\\/api\\/love-compatibility-calculator-api-apiverve\"}\n",
      "Error 429: {\"message\":\"You have exceeded the MONTHLY quota for Requests on your current plan, BASIC. Upgrade your plan at https:\\/\\/rapidapi.com\\/evlar-evlar-default\\/api\\/love-compatibility-calculator-api-apiverve\"}\n",
      "Empty DataFrame\n",
      "Columns: []\n",
      "Index: []\n"
     ]
    }
   ],
   "source": [
    "#ya ahora sí, saquemos todos los nombres\n",
    "#ya corrigiendo para el porcentaje\n",
    "\n",
    "url = \"https://love-compatibility-calculator-api-apiverve.p.rapidapi.com/v1/lovecalculator\"  # Conéctate al API\n",
    "headers = {\n",
    "    \"Accept\": \"application/json\",\n",
    "    \"x-rapidapi-host\": \"love-compatibility-calculator-api-apiverve.p.rapidapi.com\",\n",
    "    \"x-rapidapi-key\": \"25fba63263msh6cd8a16bfec0579p179209jsnf759b9f2a85c\"  \n",
    "}\n",
    "\n",
    "# Lista para almacenar los resultados\n",
    "compatibilidad = []\n",
    "\n",
    "# Bucle para recorrer los primeros 3 nombres de los actores\n",
    "for nombre in hombres_guapos[\"Nombre\"]:  # Tomamos solo los primeros 3 nombres\n",
    "    params = {  # Aquí se está creando un diccionario con las claves\n",
    "        \"name1\": \"Diana\",\n",
    "        \"name2\": nombre\n",
    "    }\n",
    "    \n",
    "    response = requests.get(url, headers=headers, params=params)\n",
    "    \n",
    "    if response.status_code == 200:  # Si todo está bien\n",
    "        data = response.json()  # Guarda la respuesta en formato JSON\n",
    "        \n",
    "        # Verifica si la respuesta contiene el campo 'lovePercentage'\n",
    "        love_percentage = data.get(\"data\", {}).get(\"lovePercentage\")\n",
    "        \n",
    "        # Si lovePercentage existe, eliminamos el '%' y lo convertimos en un número\n",
    "        if love_percentage:\n",
    "            love_percentage = love_percentage.replace('%', '')  # Elimina el '%'\n",
    "            try:\n",
    "                love_percentage = int(love_percentage)  # Convierte a entero\n",
    "                love_percentage = f\"{love_percentage}%\"  # Vuelve a agregar el '%'\n",
    "            except ValueError:\n",
    "                love_percentage = None  # Si no puede convertir, asignamos None\n",
    "        else:\n",
    "            love_percentage = None\n",
    "        \n",
    "        # Guarda los resultados en un diccionario\n",
    "        compatibilidad.append({\"Diana\": \"Diana\", \"Actor\": nombre, \"Compatibilidad\": love_percentage})\n",
    "    else:\n",
    "        print(f\"Error {response.status_code}: {response.text}\")\n",
    "\n",
    "# Convertimos la lista de resultados en un DataFrame\n",
    "compatibilidad_res = pd.DataFrame(compatibilidad)\n",
    "\n",
    "# Mostramos el DataFrame resultante\n",
    "print(compatibilidad_res)\n",
    "\n",
    "#ya funciona!! "
   ]
  },
  {
   "cell_type": "code",
   "execution_count": 40,
   "metadata": {},
   "outputs": [
    {
     "ename": "KeyError",
     "evalue": "'Nombre'",
     "output_type": "error",
     "traceback": [
      "\u001b[0;31m---------------------------------------------------------------------------\u001b[0m",
      "\u001b[0;31mKeyError\u001b[0m                                  Traceback (most recent call last)",
      "\u001b[0;32m/var/folders/cq/7vl2l3fx1m12rllc__rvlkvc0000gn/T/ipykernel_92893/2583996260.py\u001b[0m in \u001b[0;36m?\u001b[0;34m()\u001b[0m\n\u001b[0;32m----> 5\u001b[0;31m \u001b[0;31m#unimos el data frame hombres_guapos con el de  compatibilidad_res por medio de los nombres de actor\u001b[0m\u001b[0;34m\u001b[0m\u001b[0;34m\u001b[0m\u001b[0;34m\u001b[0m\u001b[0m\n\u001b[0m\u001b[1;32m      6\u001b[0m \u001b[0;31m#cambiamos el nombre de la columna \"Actor\" a \"Nombre\" para que coincida con el df hombres_guapos\u001b[0m\u001b[0;34m\u001b[0m\u001b[0;34m\u001b[0m\u001b[0;34m\u001b[0m\u001b[0m\n\u001b[1;32m      7\u001b[0m \u001b[0mcompatibilidad_res\u001b[0m \u001b[0;34m=\u001b[0m \u001b[0mcompatibilidad_res\u001b[0m\u001b[0;34m.\u001b[0m\u001b[0mrename\u001b[0m\u001b[0;34m(\u001b[0m\u001b[0mcolumns\u001b[0m\u001b[0;34m=\u001b[0m\u001b[0;34m{\u001b[0m\u001b[0;34m\"Actor\"\u001b[0m\u001b[0;34m:\u001b[0m \u001b[0;34m\"Nombre\"\u001b[0m\u001b[0;34m}\u001b[0m\u001b[0;34m)\u001b[0m\u001b[0;34m\u001b[0m\u001b[0;34m\u001b[0m\u001b[0m\n\u001b[1;32m      8\u001b[0m \u001b[0;31m#unimos los dataframes\u001b[0m\u001b[0;34m\u001b[0m\u001b[0;34m\u001b[0m\u001b[0;34m\u001b[0m\u001b[0m\n",
      "\u001b[0;32m~/Library/Python/3.9/lib/python/site-packages/pandas/core/reshape/merge.py\u001b[0m in \u001b[0;36m?\u001b[0;34m(left, right, how, on, left_on, right_on, left_index, right_index, sort, suffixes, copy, indicator, validate)\u001b[0m\n\u001b[1;32m    166\u001b[0m             \u001b[0mvalidate\u001b[0m\u001b[0;34m=\u001b[0m\u001b[0mvalidate\u001b[0m\u001b[0;34m,\u001b[0m\u001b[0;34m\u001b[0m\u001b[0;34m\u001b[0m\u001b[0m\n\u001b[1;32m    167\u001b[0m             \u001b[0mcopy\u001b[0m\u001b[0;34m=\u001b[0m\u001b[0mcopy\u001b[0m\u001b[0;34m,\u001b[0m\u001b[0;34m\u001b[0m\u001b[0;34m\u001b[0m\u001b[0m\n\u001b[1;32m    168\u001b[0m         )\n\u001b[1;32m    169\u001b[0m     \u001b[0;32melse\u001b[0m\u001b[0;34m:\u001b[0m\u001b[0;34m\u001b[0m\u001b[0;34m\u001b[0m\u001b[0m\n\u001b[0;32m--> 170\u001b[0;31m         op = _MergeOperation(\n\u001b[0m\u001b[1;32m    171\u001b[0m             \u001b[0mleft_df\u001b[0m\u001b[0;34m,\u001b[0m\u001b[0;34m\u001b[0m\u001b[0;34m\u001b[0m\u001b[0m\n\u001b[1;32m    172\u001b[0m             \u001b[0mright_df\u001b[0m\u001b[0;34m,\u001b[0m\u001b[0;34m\u001b[0m\u001b[0;34m\u001b[0m\u001b[0m\n\u001b[1;32m    173\u001b[0m             \u001b[0mhow\u001b[0m\u001b[0;34m=\u001b[0m\u001b[0mhow\u001b[0m\u001b[0;34m,\u001b[0m\u001b[0;34m\u001b[0m\u001b[0;34m\u001b[0m\u001b[0m\n",
      "\u001b[0;32m~/Library/Python/3.9/lib/python/site-packages/pandas/core/reshape/merge.py\u001b[0m in \u001b[0;36m?\u001b[0;34m(self, left, right, how, on, left_on, right_on, left_index, right_index, sort, suffixes, indicator, validate)\u001b[0m\n\u001b[1;32m    790\u001b[0m             \u001b[0mself\u001b[0m\u001b[0;34m.\u001b[0m\u001b[0mright_join_keys\u001b[0m\u001b[0;34m,\u001b[0m\u001b[0;34m\u001b[0m\u001b[0;34m\u001b[0m\u001b[0m\n\u001b[1;32m    791\u001b[0m             \u001b[0mself\u001b[0m\u001b[0;34m.\u001b[0m\u001b[0mjoin_names\u001b[0m\u001b[0;34m,\u001b[0m\u001b[0;34m\u001b[0m\u001b[0;34m\u001b[0m\u001b[0m\n\u001b[1;32m    792\u001b[0m             \u001b[0mleft_drop\u001b[0m\u001b[0;34m,\u001b[0m\u001b[0;34m\u001b[0m\u001b[0;34m\u001b[0m\u001b[0m\n\u001b[1;32m    793\u001b[0m             \u001b[0mright_drop\u001b[0m\u001b[0;34m,\u001b[0m\u001b[0;34m\u001b[0m\u001b[0;34m\u001b[0m\u001b[0m\n\u001b[0;32m--> 794\u001b[0;31m         ) = self._get_merge_keys()\n\u001b[0m\u001b[1;32m    795\u001b[0m \u001b[0;34m\u001b[0m\u001b[0m\n\u001b[1;32m    796\u001b[0m         \u001b[0;32mif\u001b[0m \u001b[0mleft_drop\u001b[0m\u001b[0;34m:\u001b[0m\u001b[0;34m\u001b[0m\u001b[0;34m\u001b[0m\u001b[0m\n\u001b[1;32m    797\u001b[0m             \u001b[0mself\u001b[0m\u001b[0;34m.\u001b[0m\u001b[0mleft\u001b[0m \u001b[0;34m=\u001b[0m \u001b[0mself\u001b[0m\u001b[0;34m.\u001b[0m\u001b[0mleft\u001b[0m\u001b[0;34m.\u001b[0m\u001b[0m_drop_labels_or_levels\u001b[0m\u001b[0;34m(\u001b[0m\u001b[0mleft_drop\u001b[0m\u001b[0;34m)\u001b[0m\u001b[0;34m\u001b[0m\u001b[0;34m\u001b[0m\u001b[0m\n",
      "\u001b[0;32m~/Library/Python/3.9/lib/python/site-packages/pandas/core/reshape/merge.py\u001b[0m in \u001b[0;36m?\u001b[0;34m(self)\u001b[0m\n\u001b[1;32m   1293\u001b[0m                         \u001b[0;31m# Then we're either Hashable or a wrong-length arraylike,\u001b[0m\u001b[0;34m\u001b[0m\u001b[0;34m\u001b[0m\u001b[0;34m\u001b[0m\u001b[0m\n\u001b[1;32m   1294\u001b[0m                         \u001b[0;31m#  the latter of which will raise\u001b[0m\u001b[0;34m\u001b[0m\u001b[0;34m\u001b[0m\u001b[0;34m\u001b[0m\u001b[0m\n\u001b[1;32m   1295\u001b[0m                         \u001b[0mrk\u001b[0m \u001b[0;34m=\u001b[0m \u001b[0mcast\u001b[0m\u001b[0;34m(\u001b[0m\u001b[0mHashable\u001b[0m\u001b[0;34m,\u001b[0m \u001b[0mrk\u001b[0m\u001b[0;34m)\u001b[0m\u001b[0;34m\u001b[0m\u001b[0;34m\u001b[0m\u001b[0m\n\u001b[1;32m   1296\u001b[0m                         \u001b[0;32mif\u001b[0m \u001b[0mrk\u001b[0m \u001b[0;32mis\u001b[0m \u001b[0;32mnot\u001b[0m \u001b[0;32mNone\u001b[0m\u001b[0;34m:\u001b[0m\u001b[0;34m\u001b[0m\u001b[0;34m\u001b[0m\u001b[0m\n\u001b[0;32m-> 1297\u001b[0;31m                             \u001b[0mright_keys\u001b[0m\u001b[0;34m.\u001b[0m\u001b[0mappend\u001b[0m\u001b[0;34m(\u001b[0m\u001b[0mright\u001b[0m\u001b[0;34m.\u001b[0m\u001b[0m_get_label_or_level_values\u001b[0m\u001b[0;34m(\u001b[0m\u001b[0mrk\u001b[0m\u001b[0;34m)\u001b[0m\u001b[0;34m)\u001b[0m\u001b[0;34m\u001b[0m\u001b[0;34m\u001b[0m\u001b[0m\n\u001b[0m\u001b[1;32m   1298\u001b[0m                         \u001b[0;32melse\u001b[0m\u001b[0;34m:\u001b[0m\u001b[0;34m\u001b[0m\u001b[0;34m\u001b[0m\u001b[0m\n\u001b[1;32m   1299\u001b[0m                             \u001b[0;31m# work-around for merge_asof(right_index=True)\u001b[0m\u001b[0;34m\u001b[0m\u001b[0;34m\u001b[0m\u001b[0;34m\u001b[0m\u001b[0m\n\u001b[1;32m   1300\u001b[0m                             \u001b[0mright_keys\u001b[0m\u001b[0;34m.\u001b[0m\u001b[0mappend\u001b[0m\u001b[0;34m(\u001b[0m\u001b[0mright\u001b[0m\u001b[0;34m.\u001b[0m\u001b[0mindex\u001b[0m\u001b[0;34m.\u001b[0m\u001b[0m_values\u001b[0m\u001b[0;34m)\u001b[0m\u001b[0;34m\u001b[0m\u001b[0;34m\u001b[0m\u001b[0m\n",
      "\u001b[0;32m~/Library/Python/3.9/lib/python/site-packages/pandas/core/generic.py\u001b[0m in \u001b[0;36m?\u001b[0;34m(self, key, axis)\u001b[0m\n\u001b[1;32m   1907\u001b[0m             \u001b[0mvalues\u001b[0m \u001b[0;34m=\u001b[0m \u001b[0mself\u001b[0m\u001b[0;34m.\u001b[0m\u001b[0mxs\u001b[0m\u001b[0;34m(\u001b[0m\u001b[0mkey\u001b[0m\u001b[0;34m,\u001b[0m \u001b[0maxis\u001b[0m\u001b[0;34m=\u001b[0m\u001b[0mother_axes\u001b[0m\u001b[0;34m[\u001b[0m\u001b[0;36m0\u001b[0m\u001b[0;34m]\u001b[0m\u001b[0;34m)\u001b[0m\u001b[0;34m.\u001b[0m\u001b[0m_values\u001b[0m\u001b[0;34m\u001b[0m\u001b[0;34m\u001b[0m\u001b[0m\n\u001b[1;32m   1908\u001b[0m         \u001b[0;32melif\u001b[0m \u001b[0mself\u001b[0m\u001b[0;34m.\u001b[0m\u001b[0m_is_level_reference\u001b[0m\u001b[0;34m(\u001b[0m\u001b[0mkey\u001b[0m\u001b[0;34m,\u001b[0m \u001b[0maxis\u001b[0m\u001b[0;34m=\u001b[0m\u001b[0maxis\u001b[0m\u001b[0;34m)\u001b[0m\u001b[0;34m:\u001b[0m\u001b[0;34m\u001b[0m\u001b[0;34m\u001b[0m\u001b[0m\n\u001b[1;32m   1909\u001b[0m             \u001b[0mvalues\u001b[0m \u001b[0;34m=\u001b[0m \u001b[0mself\u001b[0m\u001b[0;34m.\u001b[0m\u001b[0maxes\u001b[0m\u001b[0;34m[\u001b[0m\u001b[0maxis\u001b[0m\u001b[0;34m]\u001b[0m\u001b[0;34m.\u001b[0m\u001b[0mget_level_values\u001b[0m\u001b[0;34m(\u001b[0m\u001b[0mkey\u001b[0m\u001b[0;34m)\u001b[0m\u001b[0;34m.\u001b[0m\u001b[0m_values\u001b[0m\u001b[0;34m\u001b[0m\u001b[0;34m\u001b[0m\u001b[0m\n\u001b[1;32m   1910\u001b[0m         \u001b[0;32melse\u001b[0m\u001b[0;34m:\u001b[0m\u001b[0;34m\u001b[0m\u001b[0;34m\u001b[0m\u001b[0m\n\u001b[0;32m-> 1911\u001b[0;31m             \u001b[0;32mraise\u001b[0m \u001b[0mKeyError\u001b[0m\u001b[0;34m(\u001b[0m\u001b[0mkey\u001b[0m\u001b[0;34m)\u001b[0m\u001b[0;34m\u001b[0m\u001b[0;34m\u001b[0m\u001b[0m\n\u001b[0m\u001b[1;32m   1912\u001b[0m \u001b[0;34m\u001b[0m\u001b[0m\n\u001b[1;32m   1913\u001b[0m         \u001b[0;31m# Check for duplicates\u001b[0m\u001b[0;34m\u001b[0m\u001b[0;34m\u001b[0m\u001b[0;34m\u001b[0m\u001b[0m\n\u001b[1;32m   1914\u001b[0m         \u001b[0;32mif\u001b[0m \u001b[0mvalues\u001b[0m\u001b[0;34m.\u001b[0m\u001b[0mndim\u001b[0m \u001b[0;34m>\u001b[0m \u001b[0;36m1\u001b[0m\u001b[0;34m:\u001b[0m\u001b[0;34m\u001b[0m\u001b[0;34m\u001b[0m\u001b[0m\n",
      "\u001b[0;31mKeyError\u001b[0m: 'Nombre'"
     ]
    }
   ],
   "source": [
    "#unimos el data frame hombres_guapos con el de  compatibilidad_res por medio de los nombres de actor\n",
    "#cambiamos el nombre de la columna \"Actor\" a \"Nombre\" para que coincida con el df hombres_guapos\n",
    "compatibilidad_res = compatibilidad_res.rename(columns={\"Actor\": \"Nombre\"})\n",
    "#unimos los dataframes\n",
    "Novios_Diana = pd.merge(hombres_guapos, compatibilidad_res, on=\"Nombre\")\n",
    "compatibilidad_res"
   ]
  },
  {
   "cell_type": "code",
   "execution_count": null,
   "metadata": {},
   "outputs": [],
   "source": [
    "guardar_resultado_api = compatibilidad_res"
   ]
  },
  {
   "cell_type": "code",
   "execution_count": null,
   "metadata": {},
   "outputs": [
    {
     "data": {
      "application/vnd.microsoft.datawrangler.viewer.v0+json": {
       "columns": [
        {
         "name": "index",
         "rawType": "int64",
         "type": "integer"
        },
        {
         "name": "Nombre",
         "rawType": "object",
         "type": "string"
        },
        {
         "name": "Edad",
         "rawType": "int64",
         "type": "integer"
        },
        {
         "name": "Imagen",
         "rawType": "object",
         "type": "string"
        },
        {
         "name": "Diana",
         "rawType": "object",
         "type": "string"
        },
        {
         "name": "Compatibilidad",
         "rawType": "object",
         "type": "string"
        }
       ],
       "conversionMethod": "pd.DataFrame",
       "ref": "f1582b84-1c6c-4ab3-a92b-35ff56315cbf",
       "rows": [
        [
         "0",
         "Theo James",
         "37",
         "https://www.okchicas.com/wp-content/uploads/2021/04/actores-menores-de-45-guapos-atractivos-628x700.png",
         "Diana",
         "83%"
        ],
        [
         "1",
         "Aaron TaylorJohnson",
         "30",
         "https://www.okchicas.com/wp-content/uploads/2021/04/actores-menores-de-45-guapos-atractivos-2-628x700.png",
         "Diana",
         "85%"
        ],
        [
         "2",
         "Liam Hemsworth",
         "31",
         "https://www.okchicas.com/wp-content/uploads/2021/04/actores-menores-de-45-guapos-atractivos-3-628x700.png",
         "Diana",
         "83%"
        ],
        [
         "3",
         "Tyler Hoechlin",
         "33",
         "https://www.okchicas.com/wp-content/uploads/2021/04/actores-menores-de-45-guapos-atractivos-4-628x700.png",
         "Diana",
         "95%"
        ],
        [
         "4",
         "Robert Pattinson",
         "35",
         "https://www.okchicas.com/wp-content/uploads/2021/04/actores-menores-de-45-guapos-atractivos-5-628x700.png",
         "Diana",
         "63%"
        ],
        [
         "5",
         "Tom Hardy",
         "44",
         "https://www.okchicas.com/wp-content/uploads/2021/04/actores-menores-de-45-guapos-atractivos-6-628x700.png",
         "Diana",
         "71%"
        ],
        [
         "6",
         "Justin Baldoni",
         "37",
         "https://www.okchicas.com/wp-content/uploads/2021/04/actores-menores-de-45-guapos-atractivos-7-628x700.png",
         "Diana",
         "72%"
        ],
        [
         "7",
         "Chris Hemsworth",
         "37",
         "https://www.okchicas.com/wp-content/uploads/2021/04/actores-menores-de-45-guapos-atractivos-8-628x700.png",
         "Diana",
         "92%"
        ],
        [
         "8",
         "Martio Rivas",
         "36",
         "https://www.okchicas.com/wp-content/uploads/2021/04/actores-menores-de-45-guapos-atractivos-9-627x700.png",
         "Diana",
         "82%"
        ],
        [
         "9",
         "Tom Ellis",
         "42",
         "https://www.okchicas.com/wp-content/uploads/2021/04/actores-menores-de-45-guapos-atractivos-10-628x700.png",
         "Diana",
         "74%"
        ],
        [
         "10",
         "Alexander Skarsgrd",
         "44",
         "https://www.okchicas.com/wp-content/uploads/2021/04/actores-menores-de-45-guapos-atractivos-11-628x700.png",
         "Diana",
         "53%"
        ],
        [
         "11",
         "Michael Fassbender",
         "44",
         "https://www.okchicas.com/wp-content/uploads/2021/04/actores-menores-de-45-guapos-atractivos-12-628x700.png",
         "Diana",
         "94%"
        ],
        [
         "12",
         "Tom Hiddleston",
         "40",
         "https://www.okchicas.com/wp-content/uploads/2021/04/actores-menores-de-45-guapos-atractivos-13-628x700.png",
         "Diana",
         "84%"
        ],
        [
         "13",
         "Evan Peters",
         "34",
         "https://www.okchicas.com/wp-content/uploads/2021/04/actores-menores-de-45-guapos-atractivos-14-628x700.png",
         "Diana",
         "54%"
        ],
        [
         "14",
         "Michele Morrone",
         "30",
         "https://www.okchicas.com/wp-content/uploads/2021/04/actores-menores-de-45-guapos-atractivos-15-628x700.png",
         "Diana",
         "56%"
        ],
        [
         "15",
         "Henry Cavill",
         "38",
         "https://www.okchicas.com/wp-content/uploads/2021/04/actores-menores-de-45-guapos-atractivos-16-628x700.png",
         "Diana",
         "74%"
        ],
        [
         "16",
         "Jake Gyllenhaal",
         "41",
         "https://www.okchicas.com/wp-content/uploads/2021/04/actores-menores-de-45-guapos-atractivos-17-628x700.png",
         "Diana",
         "75%"
        ],
        [
         "17",
         "Richard Madden",
         "34",
         "https://www.okchicas.com/wp-content/uploads/2021/04/actores-menores-de-45-guapos-atractivos-18-628x700.png",
         "Diana",
         "81%"
        ],
        [
         "18",
         "Sam Claflin",
         "35",
         "https://www.okchicas.com/wp-content/uploads/2021/04/actores-menores-de-45-guapos-atractivos-19-628x700.png",
         "Diana",
         "52%"
        ],
        [
         "19",
         "Mario Casas",
         "34",
         "https://www.okchicas.com/wp-content/uploads/2021/04/actores-menores-de-45-guapos-atractivos-20-628x700.png",
         "Diana",
         "61%"
        ],
        [
         "20",
         "Jamie Dornan",
         "38",
         "https://www.okchicas.com/wp-content/uploads/2021/04/actores-menores-de-45-guapos-atractivos-21-628x700.png",
         "Diana",
         "72%"
        ],
        [
         "21",
         "Sam Heughan",
         "40",
         "https://www.okchicas.com/wp-content/uploads/2021/04/actores-menores-de-45-guapos-atractivos-22-628x700.png",
         "Diana",
         "71%"
        ],
        [
         "22",
         "Sebastian Stan",
         "38",
         "https://www.okchicas.com/wp-content/uploads/2021/04/actores-menores-de-45-guapos-atractivos-23-628x700.png",
         "Diana",
         "81%"
        ],
        [
         "23",
         "Ryan Gosling",
         "40",
         "https://www.okchicas.com/wp-content/uploads/2021/04/actores-menores-de-45-guapos-atractivos-24-628x700.png",
         "Diana",
         "62%"
        ],
        [
         "24",
         "Charlie Hunnam",
         "40",
         "https://www.okchicas.com/wp-content/uploads/2021/04/actores-menores-de-45-guapos-atractivos-25-628x700.png",
         "Diana",
         "82%"
        ],
        [
         "25",
         "Chris Evans",
         "40",
         "https://www.okchicas.com/wp-content/uploads/2021/04/actores-menores-de-45-guapos-atractivos-26-628x700.png",
         "Diana",
         "72%"
        ],
        [
         "26",
         "Yon Gonzalez",
         "34",
         "https://www.okchicas.com/wp-content/uploads/2021/04/actores-menores-de-45-guapos-atractivos-27-628x700.png",
         "Diana",
         "64%"
        ],
        [
         "27",
         "Jason Momoa",
         "41",
         "https://www.okchicas.com/wp-content/uploads/2021/04/actores-menores-de-45-guapos-atractivos-28-628x700.png",
         "Diana",
         "53%"
        ],
        [
         "28",
         "Joe Manganiello",
         "45",
         "https://www.okchicas.com/wp-content/uploads/2021/04/actores-menores-de-45-guapos-atractivos-29-628x700.png",
         "Diana",
         "76%"
        ],
        [
         "29",
         "Travis Fimmel",
         "41",
         "https://www.okchicas.com/wp-content/uploads/2021/04/actores-menores-de-45-guapos-atractivos-30-628x700.png",
         "Diana",
         "83%"
        ]
       ],
       "shape": {
        "columns": 5,
        "rows": 30
       }
      },
      "text/html": [
       "<div>\n",
       "<style scoped>\n",
       "    .dataframe tbody tr th:only-of-type {\n",
       "        vertical-align: middle;\n",
       "    }\n",
       "\n",
       "    .dataframe tbody tr th {\n",
       "        vertical-align: top;\n",
       "    }\n",
       "\n",
       "    .dataframe thead th {\n",
       "        text-align: right;\n",
       "    }\n",
       "</style>\n",
       "<table border=\"1\" class=\"dataframe\">\n",
       "  <thead>\n",
       "    <tr style=\"text-align: right;\">\n",
       "      <th></th>\n",
       "      <th>Nombre</th>\n",
       "      <th>Edad</th>\n",
       "      <th>Imagen</th>\n",
       "      <th>Diana</th>\n",
       "      <th>Compatibilidad</th>\n",
       "    </tr>\n",
       "  </thead>\n",
       "  <tbody>\n",
       "    <tr>\n",
       "      <th>0</th>\n",
       "      <td>Theo James</td>\n",
       "      <td>37</td>\n",
       "      <td>https://www.okchicas.com/wp-content/uploads/20...</td>\n",
       "      <td>Diana</td>\n",
       "      <td>83%</td>\n",
       "    </tr>\n",
       "    <tr>\n",
       "      <th>1</th>\n",
       "      <td>Aaron TaylorJohnson</td>\n",
       "      <td>30</td>\n",
       "      <td>https://www.okchicas.com/wp-content/uploads/20...</td>\n",
       "      <td>Diana</td>\n",
       "      <td>85%</td>\n",
       "    </tr>\n",
       "    <tr>\n",
       "      <th>2</th>\n",
       "      <td>Liam Hemsworth</td>\n",
       "      <td>31</td>\n",
       "      <td>https://www.okchicas.com/wp-content/uploads/20...</td>\n",
       "      <td>Diana</td>\n",
       "      <td>83%</td>\n",
       "    </tr>\n",
       "    <tr>\n",
       "      <th>3</th>\n",
       "      <td>Tyler Hoechlin</td>\n",
       "      <td>33</td>\n",
       "      <td>https://www.okchicas.com/wp-content/uploads/20...</td>\n",
       "      <td>Diana</td>\n",
       "      <td>95%</td>\n",
       "    </tr>\n",
       "    <tr>\n",
       "      <th>4</th>\n",
       "      <td>Robert Pattinson</td>\n",
       "      <td>35</td>\n",
       "      <td>https://www.okchicas.com/wp-content/uploads/20...</td>\n",
       "      <td>Diana</td>\n",
       "      <td>63%</td>\n",
       "    </tr>\n",
       "    <tr>\n",
       "      <th>5</th>\n",
       "      <td>Tom Hardy</td>\n",
       "      <td>44</td>\n",
       "      <td>https://www.okchicas.com/wp-content/uploads/20...</td>\n",
       "      <td>Diana</td>\n",
       "      <td>71%</td>\n",
       "    </tr>\n",
       "    <tr>\n",
       "      <th>6</th>\n",
       "      <td>Justin Baldoni</td>\n",
       "      <td>37</td>\n",
       "      <td>https://www.okchicas.com/wp-content/uploads/20...</td>\n",
       "      <td>Diana</td>\n",
       "      <td>72%</td>\n",
       "    </tr>\n",
       "    <tr>\n",
       "      <th>7</th>\n",
       "      <td>Chris Hemsworth</td>\n",
       "      <td>37</td>\n",
       "      <td>https://www.okchicas.com/wp-content/uploads/20...</td>\n",
       "      <td>Diana</td>\n",
       "      <td>92%</td>\n",
       "    </tr>\n",
       "    <tr>\n",
       "      <th>8</th>\n",
       "      <td>Martio Rivas</td>\n",
       "      <td>36</td>\n",
       "      <td>https://www.okchicas.com/wp-content/uploads/20...</td>\n",
       "      <td>Diana</td>\n",
       "      <td>82%</td>\n",
       "    </tr>\n",
       "    <tr>\n",
       "      <th>9</th>\n",
       "      <td>Tom Ellis</td>\n",
       "      <td>42</td>\n",
       "      <td>https://www.okchicas.com/wp-content/uploads/20...</td>\n",
       "      <td>Diana</td>\n",
       "      <td>74%</td>\n",
       "    </tr>\n",
       "    <tr>\n",
       "      <th>10</th>\n",
       "      <td>Alexander Skarsgrd</td>\n",
       "      <td>44</td>\n",
       "      <td>https://www.okchicas.com/wp-content/uploads/20...</td>\n",
       "      <td>Diana</td>\n",
       "      <td>53%</td>\n",
       "    </tr>\n",
       "    <tr>\n",
       "      <th>11</th>\n",
       "      <td>Michael Fassbender</td>\n",
       "      <td>44</td>\n",
       "      <td>https://www.okchicas.com/wp-content/uploads/20...</td>\n",
       "      <td>Diana</td>\n",
       "      <td>94%</td>\n",
       "    </tr>\n",
       "    <tr>\n",
       "      <th>12</th>\n",
       "      <td>Tom Hiddleston</td>\n",
       "      <td>40</td>\n",
       "      <td>https://www.okchicas.com/wp-content/uploads/20...</td>\n",
       "      <td>Diana</td>\n",
       "      <td>84%</td>\n",
       "    </tr>\n",
       "    <tr>\n",
       "      <th>13</th>\n",
       "      <td>Evan Peters</td>\n",
       "      <td>34</td>\n",
       "      <td>https://www.okchicas.com/wp-content/uploads/20...</td>\n",
       "      <td>Diana</td>\n",
       "      <td>54%</td>\n",
       "    </tr>\n",
       "    <tr>\n",
       "      <th>14</th>\n",
       "      <td>Michele Morrone</td>\n",
       "      <td>30</td>\n",
       "      <td>https://www.okchicas.com/wp-content/uploads/20...</td>\n",
       "      <td>Diana</td>\n",
       "      <td>56%</td>\n",
       "    </tr>\n",
       "    <tr>\n",
       "      <th>15</th>\n",
       "      <td>Henry Cavill</td>\n",
       "      <td>38</td>\n",
       "      <td>https://www.okchicas.com/wp-content/uploads/20...</td>\n",
       "      <td>Diana</td>\n",
       "      <td>74%</td>\n",
       "    </tr>\n",
       "    <tr>\n",
       "      <th>16</th>\n",
       "      <td>Jake Gyllenhaal</td>\n",
       "      <td>41</td>\n",
       "      <td>https://www.okchicas.com/wp-content/uploads/20...</td>\n",
       "      <td>Diana</td>\n",
       "      <td>75%</td>\n",
       "    </tr>\n",
       "    <tr>\n",
       "      <th>17</th>\n",
       "      <td>Richard Madden</td>\n",
       "      <td>34</td>\n",
       "      <td>https://www.okchicas.com/wp-content/uploads/20...</td>\n",
       "      <td>Diana</td>\n",
       "      <td>81%</td>\n",
       "    </tr>\n",
       "    <tr>\n",
       "      <th>18</th>\n",
       "      <td>Sam Claflin</td>\n",
       "      <td>35</td>\n",
       "      <td>https://www.okchicas.com/wp-content/uploads/20...</td>\n",
       "      <td>Diana</td>\n",
       "      <td>52%</td>\n",
       "    </tr>\n",
       "    <tr>\n",
       "      <th>19</th>\n",
       "      <td>Mario Casas</td>\n",
       "      <td>34</td>\n",
       "      <td>https://www.okchicas.com/wp-content/uploads/20...</td>\n",
       "      <td>Diana</td>\n",
       "      <td>61%</td>\n",
       "    </tr>\n",
       "    <tr>\n",
       "      <th>20</th>\n",
       "      <td>Jamie Dornan</td>\n",
       "      <td>38</td>\n",
       "      <td>https://www.okchicas.com/wp-content/uploads/20...</td>\n",
       "      <td>Diana</td>\n",
       "      <td>72%</td>\n",
       "    </tr>\n",
       "    <tr>\n",
       "      <th>21</th>\n",
       "      <td>Sam Heughan</td>\n",
       "      <td>40</td>\n",
       "      <td>https://www.okchicas.com/wp-content/uploads/20...</td>\n",
       "      <td>Diana</td>\n",
       "      <td>71%</td>\n",
       "    </tr>\n",
       "    <tr>\n",
       "      <th>22</th>\n",
       "      <td>Sebastian Stan</td>\n",
       "      <td>38</td>\n",
       "      <td>https://www.okchicas.com/wp-content/uploads/20...</td>\n",
       "      <td>Diana</td>\n",
       "      <td>81%</td>\n",
       "    </tr>\n",
       "    <tr>\n",
       "      <th>23</th>\n",
       "      <td>Ryan Gosling</td>\n",
       "      <td>40</td>\n",
       "      <td>https://www.okchicas.com/wp-content/uploads/20...</td>\n",
       "      <td>Diana</td>\n",
       "      <td>62%</td>\n",
       "    </tr>\n",
       "    <tr>\n",
       "      <th>24</th>\n",
       "      <td>Charlie Hunnam</td>\n",
       "      <td>40</td>\n",
       "      <td>https://www.okchicas.com/wp-content/uploads/20...</td>\n",
       "      <td>Diana</td>\n",
       "      <td>82%</td>\n",
       "    </tr>\n",
       "    <tr>\n",
       "      <th>25</th>\n",
       "      <td>Chris Evans</td>\n",
       "      <td>40</td>\n",
       "      <td>https://www.okchicas.com/wp-content/uploads/20...</td>\n",
       "      <td>Diana</td>\n",
       "      <td>72%</td>\n",
       "    </tr>\n",
       "    <tr>\n",
       "      <th>26</th>\n",
       "      <td>Yon Gonzalez</td>\n",
       "      <td>34</td>\n",
       "      <td>https://www.okchicas.com/wp-content/uploads/20...</td>\n",
       "      <td>Diana</td>\n",
       "      <td>64%</td>\n",
       "    </tr>\n",
       "    <tr>\n",
       "      <th>27</th>\n",
       "      <td>Jason Momoa</td>\n",
       "      <td>41</td>\n",
       "      <td>https://www.okchicas.com/wp-content/uploads/20...</td>\n",
       "      <td>Diana</td>\n",
       "      <td>53%</td>\n",
       "    </tr>\n",
       "    <tr>\n",
       "      <th>28</th>\n",
       "      <td>Joe Manganiello</td>\n",
       "      <td>45</td>\n",
       "      <td>https://www.okchicas.com/wp-content/uploads/20...</td>\n",
       "      <td>Diana</td>\n",
       "      <td>76%</td>\n",
       "    </tr>\n",
       "    <tr>\n",
       "      <th>29</th>\n",
       "      <td>Travis Fimmel</td>\n",
       "      <td>41</td>\n",
       "      <td>https://www.okchicas.com/wp-content/uploads/20...</td>\n",
       "      <td>Diana</td>\n",
       "      <td>83%</td>\n",
       "    </tr>\n",
       "  </tbody>\n",
       "</table>\n",
       "</div>"
      ],
      "text/plain": [
       "                 Nombre  Edad  \\\n",
       "0            Theo James    37   \n",
       "1   Aaron TaylorJohnson    30   \n",
       "2        Liam Hemsworth    31   \n",
       "3        Tyler Hoechlin    33   \n",
       "4      Robert Pattinson    35   \n",
       "5             Tom Hardy    44   \n",
       "6        Justin Baldoni    37   \n",
       "7       Chris Hemsworth    37   \n",
       "8          Martio Rivas    36   \n",
       "9             Tom Ellis    42   \n",
       "10   Alexander Skarsgrd    44   \n",
       "11   Michael Fassbender    44   \n",
       "12       Tom Hiddleston    40   \n",
       "13          Evan Peters    34   \n",
       "14      Michele Morrone    30   \n",
       "15         Henry Cavill    38   \n",
       "16      Jake Gyllenhaal    41   \n",
       "17       Richard Madden    34   \n",
       "18          Sam Claflin    35   \n",
       "19          Mario Casas    34   \n",
       "20         Jamie Dornan    38   \n",
       "21          Sam Heughan    40   \n",
       "22       Sebastian Stan    38   \n",
       "23         Ryan Gosling    40   \n",
       "24       Charlie Hunnam    40   \n",
       "25          Chris Evans    40   \n",
       "26         Yon Gonzalez    34   \n",
       "27          Jason Momoa    41   \n",
       "28      Joe Manganiello    45   \n",
       "29        Travis Fimmel    41   \n",
       "\n",
       "                                               Imagen  Diana Compatibilidad  \n",
       "0   https://www.okchicas.com/wp-content/uploads/20...  Diana            83%  \n",
       "1   https://www.okchicas.com/wp-content/uploads/20...  Diana            85%  \n",
       "2   https://www.okchicas.com/wp-content/uploads/20...  Diana            83%  \n",
       "3   https://www.okchicas.com/wp-content/uploads/20...  Diana            95%  \n",
       "4   https://www.okchicas.com/wp-content/uploads/20...  Diana            63%  \n",
       "5   https://www.okchicas.com/wp-content/uploads/20...  Diana            71%  \n",
       "6   https://www.okchicas.com/wp-content/uploads/20...  Diana            72%  \n",
       "7   https://www.okchicas.com/wp-content/uploads/20...  Diana            92%  \n",
       "8   https://www.okchicas.com/wp-content/uploads/20...  Diana            82%  \n",
       "9   https://www.okchicas.com/wp-content/uploads/20...  Diana            74%  \n",
       "10  https://www.okchicas.com/wp-content/uploads/20...  Diana            53%  \n",
       "11  https://www.okchicas.com/wp-content/uploads/20...  Diana            94%  \n",
       "12  https://www.okchicas.com/wp-content/uploads/20...  Diana            84%  \n",
       "13  https://www.okchicas.com/wp-content/uploads/20...  Diana            54%  \n",
       "14  https://www.okchicas.com/wp-content/uploads/20...  Diana            56%  \n",
       "15  https://www.okchicas.com/wp-content/uploads/20...  Diana            74%  \n",
       "16  https://www.okchicas.com/wp-content/uploads/20...  Diana            75%  \n",
       "17  https://www.okchicas.com/wp-content/uploads/20...  Diana            81%  \n",
       "18  https://www.okchicas.com/wp-content/uploads/20...  Diana            52%  \n",
       "19  https://www.okchicas.com/wp-content/uploads/20...  Diana            61%  \n",
       "20  https://www.okchicas.com/wp-content/uploads/20...  Diana            72%  \n",
       "21  https://www.okchicas.com/wp-content/uploads/20...  Diana            71%  \n",
       "22  https://www.okchicas.com/wp-content/uploads/20...  Diana            81%  \n",
       "23  https://www.okchicas.com/wp-content/uploads/20...  Diana            62%  \n",
       "24  https://www.okchicas.com/wp-content/uploads/20...  Diana            82%  \n",
       "25  https://www.okchicas.com/wp-content/uploads/20...  Diana            72%  \n",
       "26  https://www.okchicas.com/wp-content/uploads/20...  Diana            64%  \n",
       "27  https://www.okchicas.com/wp-content/uploads/20...  Diana            53%  \n",
       "28  https://www.okchicas.com/wp-content/uploads/20...  Diana            76%  \n",
       "29  https://www.okchicas.com/wp-content/uploads/20...  Diana            83%  "
      ]
     },
     "execution_count": 127,
     "metadata": {},
     "output_type": "execute_result"
    }
   ],
   "source": [
    "Novios_Diana"
   ]
  },
  {
   "cell_type": "code",
   "execution_count": null,
   "metadata": {},
   "outputs": [
    {
     "ename": "NameError",
     "evalue": "name 'Novios_Diana' is not defined",
     "output_type": "error",
     "traceback": [
      "\u001b[0;31m---------------------------------------------------------------------------\u001b[0m",
      "\u001b[0;31mNameError\u001b[0m                                 Traceback (most recent call last)",
      "Cell \u001b[0;32mIn[4], line 1\u001b[0m\n\u001b[0;32m----> 1\u001b[0m \u001b[43mNovios_Diana\u001b[49m\n\u001b[1;32m      2\u001b[0m \u001b[38;5;66;03m#eliminamos la columna Diana \u001b[39;00m\n\u001b[1;32m      3\u001b[0m Novios_Diana \u001b[38;5;241m=\u001b[39m Novios_Diana\u001b[38;5;241m.\u001b[39mdrop(columns\u001b[38;5;241m=\u001b[39m\u001b[38;5;124m\"\u001b[39m\u001b[38;5;124mDiana\u001b[39m\u001b[38;5;124m\"\u001b[39m)\n",
      "\u001b[0;31mNameError\u001b[0m: name 'Novios_Diana' is not defined"
     ]
    }
   ],
   "source": [
    "Novios_Diana\n",
    "#eliminamos la columna Diana \n",
    "Novios_Diana = Novios_Diana.drop(columns=\"Diana\")\n",
    "Novios_Diana\n"
   ]
  },
  {
   "cell_type": "code",
   "execution_count": 41,
   "metadata": {},
   "outputs": [
    {
     "ename": "NameError",
     "evalue": "name 'Novios_Diana' is not defined",
     "output_type": "error",
     "traceback": [
      "\u001b[0;31m---------------------------------------------------------------------------\u001b[0m",
      "\u001b[0;31mNameError\u001b[0m                                 Traceback (most recent call last)",
      "Cell \u001b[0;32mIn[41], line 2\u001b[0m\n\u001b[1;32m      1\u001b[0m \u001b[38;5;66;03m#quiero que la columna después de Nombre sea la de compatibilidad\u001b[39;00m\n\u001b[0;32m----> 2\u001b[0m columnas \u001b[38;5;241m=\u001b[39m \u001b[43mNovios_Diana\u001b[49m\u001b[38;5;241m.\u001b[39mcolumns\u001b[38;5;241m.\u001b[39mtolist()\n\u001b[1;32m      3\u001b[0m columnas\n\u001b[1;32m      4\u001b[0m columnas \u001b[38;5;241m=\u001b[39m [\u001b[38;5;124m\"\u001b[39m\u001b[38;5;124mNombre\u001b[39m\u001b[38;5;124m\"\u001b[39m, \u001b[38;5;124m\"\u001b[39m\u001b[38;5;124mCompatibilidad\u001b[39m\u001b[38;5;124m\"\u001b[39m, \u001b[38;5;124m\"\u001b[39m\u001b[38;5;124mEdad\u001b[39m\u001b[38;5;124m\"\u001b[39m, \u001b[38;5;124m\"\u001b[39m\u001b[38;5;124mImagen\u001b[39m\u001b[38;5;124m\"\u001b[39m]\n",
      "\u001b[0;31mNameError\u001b[0m: name 'Novios_Diana' is not defined"
     ]
    }
   ],
   "source": [
    "#quiero que la columna después de Nombre sea la de compatibilidad\n",
    "columnas = Novios_Diana.columns.tolist()\n",
    "columnas\n",
    "columnas = [\"Nombre\", \"Compatibilidad\", \"Edad\", \"Imagen\"]\n",
    "columnas\n",
    "Novios_Diana = Novios_Diana[columnas]\n",
    "Novios_Diana"
   ]
  },
  {
   "cell_type": "markdown",
   "metadata": {},
   "source": [
    "AQUÍ TERMINA EL PROCESO DE CONSTRUCCIÓN DEL DF\n",
    "Ahora vamos con streamlit\n",
    "\n"
   ]
  },
  {
   "cell_type": "code",
   "execution_count": null,
   "metadata": {},
   "outputs": [],
   "source": [
    "# Guardar el DataFrame en un archivo CSV\n",
    "Novios_Diana.to_csv('compatibilidad_diana.csv', index=False)\n"
   ]
  },
  {
   "cell_type": "code",
   "execution_count": null,
   "metadata": {},
   "outputs": [
    {
     "name": "stdout",
     "output_type": "stream",
     "text": [
      "Note: you may need to restart the kernel to use updated packages.\n"
     ]
    }
   ],
   "source": [
    "pip freeze > requirements.txt\n"
   ]
  },
  {
   "cell_type": "code",
   "execution_count": null,
   "metadata": {},
   "outputs": [
    {
     "ename": "NameError",
     "evalue": "name 'read_csv' is not defined",
     "output_type": "error",
     "traceback": [
      "\u001b[0;31m---------------------------------------------------------------------------\u001b[0m",
      "\u001b[0;31mNameError\u001b[0m                                 Traceback (most recent call last)",
      "Cell \u001b[0;32mIn[8], line 6\u001b[0m\n\u001b[1;32m      1\u001b[0m \u001b[38;5;66;03m#analisis de la var compatibilidad\u001b[39;00m\n\u001b[1;32m      2\u001b[0m \u001b[38;5;66;03m#minimo\u001b[39;00m\n\u001b[1;32m      3\u001b[0m \u001b[38;5;28;01mimport\u001b[39;00m\u001b[38;5;250m \u001b[39m\u001b[38;5;21;01mcsv\u001b[39;00m\n\u001b[0;32m----> 6\u001b[0m Novios_Diana \u001b[38;5;241m=\u001b[39m \u001b[43mread_csv\u001b[49m(\u001b[38;5;124m\"\u001b[39m\u001b[38;5;124mcompatibilidad_diana.csv\u001b[39m\u001b[38;5;124m\"\u001b[39m)\n\u001b[1;32m      8\u001b[0m Novios_Diana[\u001b[38;5;124m\"\u001b[39m\u001b[38;5;124mCompatibilidad\u001b[39m\u001b[38;5;124m\"\u001b[39m]\u001b[38;5;241m.\u001b[39mmin()\n\u001b[1;32m      9\u001b[0m \u001b[38;5;66;03m#max\u001b[39;00m\n",
      "\u001b[0;31mNameError\u001b[0m: name 'read_csv' is not defined"
     ]
    }
   ],
   "source": [
    "\n",
    "\n",
    "Novios_Diana[\"Compatibilidad\"].min()\n",
    "#max\n",
    "Novios_Diana[\"Compatibilidad\"].max()\n",
    "#dividiendo en cuartiles\n",
    "Novios_Diana[\"Compatibilidad\"].quantile([0.25, 0.5, 0.75])\n"
   ]
  }
 ],
 "metadata": {
  "kernelspec": {
   "display_name": "Python 3",
   "language": "python",
   "name": "python3"
  },
  "language_info": {
   "codemirror_mode": {
    "name": "ipython",
    "version": 3
   },
   "file_extension": ".py",
   "mimetype": "text/x-python",
   "name": "python",
   "nbconvert_exporter": "python",
   "pygments_lexer": "ipython3",
   "version": "3.9.6"
  }
 },
 "nbformat": 4,
 "nbformat_minor": 2
}
