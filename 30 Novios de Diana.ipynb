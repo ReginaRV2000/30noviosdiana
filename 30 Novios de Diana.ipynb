{
 "cells": [
  {
   "cell_type": "markdown",
   "metadata": {},
   "source": [
    "## 30 Novios de Diana Proceso\n",
    "#1. Webscrapear nombres de actores, sus fotos y sus edades\n",
    "#2. Con la api, crear un bucle que use la API para obtener el lovePercentage con Diana y todos los nombres de actores\n",
    "#3. Guardar los resultados dataframe \n",
    "#4. Streamlit"
   ]
  },
  {
   "cell_type": "markdown",
   "metadata": {},
   "source": [
    "# WebScrapping \n"
   ]
  },
  {
   "cell_type": "code",
   "execution_count": 1,
   "metadata": {},
   "outputs": [
    {
     "name": "stderr",
     "output_type": "stream",
     "text": [
      "/Users/regina/Library/Python/3.9/lib/python/site-packages/urllib3/__init__.py:35: NotOpenSSLWarning: urllib3 v2 only supports OpenSSL 1.1.1+, currently the 'ssl' module is compiled with 'LibreSSL 2.8.3'. See: https://github.com/urllib3/urllib3/issues/3020\n",
      "  warnings.warn(\n"
     ]
    }
   ],
   "source": [
    "import requests\n",
    "from bs4 import BeautifulSoup\n",
    "import pandas as pd\n",
    "import streamlit as st\n",
    "import pandas as pd\n",
    "from streamlit_extras.let_it_rain import rain\n",
    "\n",
    "url = \"https://www.okchicas.com/tu/hombres/actores-menores-de-45-guapos/\"\n",
    "response = requests.get(url)\n",
    "soup = BeautifulSoup(response.text, \"html.parser\")\n"
   ]
  },
  {
   "cell_type": "code",
   "execution_count": 80,
   "metadata": {},
   "outputs": [
    {
     "name": "stdout",
     "output_type": "stream",
     "text": [
      "Defaulting to user installation because normal site-packages is not writeable\n",
      "\u001b[31mERROR: Could not find a version that satisfies the requirement streamlit.components.v1 (from versions: none)\u001b[0m\n",
      "\u001b[31mERROR: No matching distribution found for streamlit.components.v1\u001b[0m\n",
      "\u001b[33mWARNING: You are using pip version 21.2.4; however, version 25.0.1 is available.\n",
      "You should consider upgrading via the '/Library/Developer/CommandLineTools/usr/bin/python3 -m pip install --upgrade pip' command.\u001b[0m\n",
      "Note: you may need to restart the kernel to use updated packages.\n"
     ]
    }
   ],
   "source": [
    "pip install streamlit.components.v1"
   ]
  },
  {
   "cell_type": "code",
   "execution_count": 63,
   "metadata": {},
   "outputs": [
    {
     "data": {
      "text/plain": [
       "['Theo James',\n",
       " 'Aaron Taylor-Johnson',\n",
       " 'Liam Hemsworth',\n",
       " 'Tyler Hoechlin',\n",
       " 'Robert Pattinson',\n",
       " 'Tom Hardy',\n",
       " 'Justin Baldoni',\n",
       " 'Chris Hemsworth',\n",
       " 'Martiño Rivas',\n",
       " 'Tom Ellis',\n",
       " 'Alexander Skarsgård',\n",
       " 'Michael Fassbender',\n",
       " 'Tom Hiddleston',\n",
       " 'Evan Peters',\n",
       " 'Michele Morrone',\n",
       " 'Henry Cavill',\n",
       " 'Jake Gyllenhaal',\n",
       " 'Richard Madden',\n",
       " 'Sam Claflin',\n",
       " 'Mario Casas',\n",
       " 'Jamie Dornan',\n",
       " 'Sam Heughan',\n",
       " 'Sebastian Stan',\n",
       " 'Ryan Gosling',\n",
       " 'Charlie Hunnam',\n",
       " 'Chris Evans',\n",
       " 'Yon Gonzalez',\n",
       " 'Jason Momoa',\n",
       " 'Joe Manganiello',\n",
       " 'Travis Fimmel']"
      ]
     },
     "execution_count": 63,
     "metadata": {},
     "output_type": "execute_result"
    }
   ],
   "source": [
    "#obtener los nombres de los actores\n",
    "soup.find_all(\"h2\")\n",
    "lista_actores = soup.find_all(\"h2\")\n",
    "lista_actores\n",
    "\n",
    "#eliminar el \"1.\" de cada nombre\n",
    "lista_actores = [actor.text[3:] for actor in lista_actores]\n",
    "lista_actores\n",
    "\n",
    "#eliminar el espacio \" \" al principio de los nombres que tengan ese espacio\n",
    "lista_actores = [actor[1:] if actor[0] == \" \" else actor for actor in lista_actores]\n",
    "\n",
    "#eliminar el último elemento de la lista\n",
    "lista_actores = lista_actores[:-1]\n",
    "lista_actores\n",
    "\n",
    "\n"
   ]
  },
  {
   "cell_type": "code",
   "execution_count": 64,
   "metadata": {},
   "outputs": [
    {
     "data": {
      "text/plain": [
       "['37',\n",
       " '30',\n",
       " '31',\n",
       " '33',\n",
       " '35',\n",
       " '44',\n",
       " '37',\n",
       " '37',\n",
       " '36',\n",
       " '42',\n",
       " '44',\n",
       " '44',\n",
       " '40',\n",
       " '34',\n",
       " '30',\n",
       " '38',\n",
       " '41',\n",
       " '34',\n",
       " '35',\n",
       " '34',\n",
       " '38',\n",
       " '40',\n",
       " '38',\n",
       " '40',\n",
       " '40',\n",
       " '40',\n",
       " '34',\n",
       " '41',\n",
       " '45',\n",
       " '41']"
      ]
     },
     "execution_count": 64,
     "metadata": {},
     "output_type": "execute_result"
    }
   ],
   "source": [
    "#obtener la edad de los actores\n",
    "import re \n",
    "soup.find_all(\"div\", class_=\"entry-content\", itemprop=\"text\")[0].find_all(\"p\")\n",
    "#sacar todos los números antes de \"años\" \"añitos\"\n",
    "todoslosparrafos = soup.find_all(\"div\", class_=\"entry-content\", itemprop=\"text\")[0].find_all(\"p\")\n",
    "todoslosparrafos\n",
    "#siguiente paso, asilar los números de los textos\n",
    "pattern = r\"(\\d{1,2})\\s*(años|añitos)\"\n",
    "edades = []\n",
    "for p in todoslosparrafos:\n",
    "    texto = p.get_text()  # Extrae el texto del Tag\n",
    "    edad = re.findall(pattern, texto)  # Aplica la expresión regular al texto\n",
    "    if edad:\n",
    "        edades.append(edad[0][0])\n",
    "\n",
    "edades\n",
    "#oops, a Tom Hiddleston no le pusieron \"40 años\" si no \"cuarto piso\"\n",
    "\n",
    "edades.insert(12, '40')\n",
    " #oops mismo error para la posición 22\n",
    "# Inserta el valor 40 en la posición 22 (índice 21)\n",
    "edades.insert(21, '40')\n",
    "#oops a . Travis Fimmel le pusieron \"41 añotes\"\n",
    "# Añade '41' al final de la lista\n",
    "edades.append('41')\n",
    "edades\n"
   ]
  },
  {
   "cell_type": "code",
   "execution_count": 65,
   "metadata": {},
   "outputs": [
    {
     "name": "stdout",
     "output_type": "stream",
     "text": [
      "['https://www.okchicas.com/wp-content/uploads/2021/04/actores-menores-de-45-guapos-atractivos-628x700.png', 'https://www.okchicas.com/wp-content/uploads/2021/04/actores-menores-de-45-guapos-atractivos-2-628x700.png', 'https://www.okchicas.com/wp-content/uploads/2021/04/actores-menores-de-45-guapos-atractivos-3-628x700.png', 'https://www.okchicas.com/wp-content/uploads/2021/04/actores-menores-de-45-guapos-atractivos-4-628x700.png', 'https://www.okchicas.com/wp-content/uploads/2021/04/actores-menores-de-45-guapos-atractivos-5-628x700.png', 'https://www.okchicas.com/wp-content/uploads/2021/04/actores-menores-de-45-guapos-atractivos-6-628x700.png', 'https://www.okchicas.com/wp-content/uploads/2021/04/actores-menores-de-45-guapos-atractivos-7-628x700.png', 'https://www.okchicas.com/wp-content/uploads/2021/04/actores-menores-de-45-guapos-atractivos-8-628x700.png', 'https://www.okchicas.com/wp-content/uploads/2021/04/actores-menores-de-45-guapos-atractivos-9-627x700.png', 'https://www.okchicas.com/wp-content/uploads/2021/04/actores-menores-de-45-guapos-atractivos-10-628x700.png', 'https://www.okchicas.com/wp-content/uploads/2021/04/actores-menores-de-45-guapos-atractivos-11-628x700.png', 'https://www.okchicas.com/wp-content/uploads/2021/04/actores-menores-de-45-guapos-atractivos-12-628x700.png', 'https://www.okchicas.com/wp-content/uploads/2021/04/actores-menores-de-45-guapos-atractivos-13-628x700.png', 'https://www.okchicas.com/wp-content/uploads/2021/04/actores-menores-de-45-guapos-atractivos-14-628x700.png', 'https://www.okchicas.com/wp-content/uploads/2021/04/actores-menores-de-45-guapos-atractivos-15-628x700.png', 'https://www.okchicas.com/wp-content/uploads/2021/04/actores-menores-de-45-guapos-atractivos-16-628x700.png', 'https://www.okchicas.com/wp-content/uploads/2021/04/actores-menores-de-45-guapos-atractivos-17-628x700.png', 'https://www.okchicas.com/wp-content/uploads/2021/04/actores-menores-de-45-guapos-atractivos-18-628x700.png', 'https://www.okchicas.com/wp-content/uploads/2021/04/actores-menores-de-45-guapos-atractivos-19-628x700.png', 'https://www.okchicas.com/wp-content/uploads/2021/04/actores-menores-de-45-guapos-atractivos-20-628x700.png', 'https://www.okchicas.com/wp-content/uploads/2021/04/actores-menores-de-45-guapos-atractivos-21-628x700.png', 'https://www.okchicas.com/wp-content/uploads/2021/04/actores-menores-de-45-guapos-atractivos-22-628x700.png', 'https://www.okchicas.com/wp-content/uploads/2021/04/actores-menores-de-45-guapos-atractivos-23-628x700.png', 'https://www.okchicas.com/wp-content/uploads/2021/04/actores-menores-de-45-guapos-atractivos-24-628x700.png', 'https://www.okchicas.com/wp-content/uploads/2021/04/actores-menores-de-45-guapos-atractivos-25-628x700.png', 'https://www.okchicas.com/wp-content/uploads/2021/04/actores-menores-de-45-guapos-atractivos-26-628x700.png', 'https://www.okchicas.com/wp-content/uploads/2021/04/actores-menores-de-45-guapos-atractivos-27-628x700.png', 'https://www.okchicas.com/wp-content/uploads/2021/04/actores-menores-de-45-guapos-atractivos-28-628x700.png', 'https://www.okchicas.com/wp-content/uploads/2021/04/actores-menores-de-45-guapos-atractivos-29-628x700.png', 'https://www.okchicas.com/wp-content/uploads/2021/04/actores-menores-de-45-guapos-atractivos-30-628x700.png']\n"
     ]
    },
    {
     "data": {
      "text/html": [
       "<img src=\"https://www.okchicas.com/wp-content/uploads/2021/04/actores-menores-de-45-guapos-atractivos-628x700.png\"/>"
      ],
      "text/plain": [
       "<IPython.core.display.Image object>"
      ]
     },
     "metadata": {},
     "output_type": "display_data"
    },
    {
     "data": {
      "text/html": [
       "<img src=\"https://www.okchicas.com/wp-content/uploads/2021/04/actores-menores-de-45-guapos-atractivos-2-628x700.png\"/>"
      ],
      "text/plain": [
       "<IPython.core.display.Image object>"
      ]
     },
     "metadata": {},
     "output_type": "display_data"
    },
    {
     "data": {
      "text/html": [
       "<img src=\"https://www.okchicas.com/wp-content/uploads/2021/04/actores-menores-de-45-guapos-atractivos-3-628x700.png\"/>"
      ],
      "text/plain": [
       "<IPython.core.display.Image object>"
      ]
     },
     "metadata": {},
     "output_type": "display_data"
    },
    {
     "data": {
      "text/html": [
       "<img src=\"https://www.okchicas.com/wp-content/uploads/2021/04/actores-menores-de-45-guapos-atractivos-4-628x700.png\"/>"
      ],
      "text/plain": [
       "<IPython.core.display.Image object>"
      ]
     },
     "metadata": {},
     "output_type": "display_data"
    },
    {
     "data": {
      "text/html": [
       "<img src=\"https://www.okchicas.com/wp-content/uploads/2021/04/actores-menores-de-45-guapos-atractivos-5-628x700.png\"/>"
      ],
      "text/plain": [
       "<IPython.core.display.Image object>"
      ]
     },
     "metadata": {},
     "output_type": "display_data"
    },
    {
     "data": {
      "text/html": [
       "<img src=\"https://www.okchicas.com/wp-content/uploads/2021/04/actores-menores-de-45-guapos-atractivos-6-628x700.png\"/>"
      ],
      "text/plain": [
       "<IPython.core.display.Image object>"
      ]
     },
     "metadata": {},
     "output_type": "display_data"
    },
    {
     "data": {
      "text/html": [
       "<img src=\"https://www.okchicas.com/wp-content/uploads/2021/04/actores-menores-de-45-guapos-atractivos-7-628x700.png\"/>"
      ],
      "text/plain": [
       "<IPython.core.display.Image object>"
      ]
     },
     "metadata": {},
     "output_type": "display_data"
    },
    {
     "data": {
      "text/html": [
       "<img src=\"https://www.okchicas.com/wp-content/uploads/2021/04/actores-menores-de-45-guapos-atractivos-8-628x700.png\"/>"
      ],
      "text/plain": [
       "<IPython.core.display.Image object>"
      ]
     },
     "metadata": {},
     "output_type": "display_data"
    },
    {
     "data": {
      "text/html": [
       "<img src=\"https://www.okchicas.com/wp-content/uploads/2021/04/actores-menores-de-45-guapos-atractivos-9-627x700.png\"/>"
      ],
      "text/plain": [
       "<IPython.core.display.Image object>"
      ]
     },
     "metadata": {},
     "output_type": "display_data"
    },
    {
     "data": {
      "text/html": [
       "<img src=\"https://www.okchicas.com/wp-content/uploads/2021/04/actores-menores-de-45-guapos-atractivos-10-628x700.png\"/>"
      ],
      "text/plain": [
       "<IPython.core.display.Image object>"
      ]
     },
     "metadata": {},
     "output_type": "display_data"
    },
    {
     "data": {
      "text/html": [
       "<img src=\"https://www.okchicas.com/wp-content/uploads/2021/04/actores-menores-de-45-guapos-atractivos-11-628x700.png\"/>"
      ],
      "text/plain": [
       "<IPython.core.display.Image object>"
      ]
     },
     "metadata": {},
     "output_type": "display_data"
    },
    {
     "data": {
      "text/html": [
       "<img src=\"https://www.okchicas.com/wp-content/uploads/2021/04/actores-menores-de-45-guapos-atractivos-12-628x700.png\"/>"
      ],
      "text/plain": [
       "<IPython.core.display.Image object>"
      ]
     },
     "metadata": {},
     "output_type": "display_data"
    },
    {
     "data": {
      "text/html": [
       "<img src=\"https://www.okchicas.com/wp-content/uploads/2021/04/actores-menores-de-45-guapos-atractivos-13-628x700.png\"/>"
      ],
      "text/plain": [
       "<IPython.core.display.Image object>"
      ]
     },
     "metadata": {},
     "output_type": "display_data"
    },
    {
     "data": {
      "text/html": [
       "<img src=\"https://www.okchicas.com/wp-content/uploads/2021/04/actores-menores-de-45-guapos-atractivos-14-628x700.png\"/>"
      ],
      "text/plain": [
       "<IPython.core.display.Image object>"
      ]
     },
     "metadata": {},
     "output_type": "display_data"
    },
    {
     "data": {
      "text/html": [
       "<img src=\"https://www.okchicas.com/wp-content/uploads/2021/04/actores-menores-de-45-guapos-atractivos-15-628x700.png\"/>"
      ],
      "text/plain": [
       "<IPython.core.display.Image object>"
      ]
     },
     "metadata": {},
     "output_type": "display_data"
    },
    {
     "data": {
      "text/html": [
       "<img src=\"https://www.okchicas.com/wp-content/uploads/2021/04/actores-menores-de-45-guapos-atractivos-16-628x700.png\"/>"
      ],
      "text/plain": [
       "<IPython.core.display.Image object>"
      ]
     },
     "metadata": {},
     "output_type": "display_data"
    },
    {
     "data": {
      "text/html": [
       "<img src=\"https://www.okchicas.com/wp-content/uploads/2021/04/actores-menores-de-45-guapos-atractivos-17-628x700.png\"/>"
      ],
      "text/plain": [
       "<IPython.core.display.Image object>"
      ]
     },
     "metadata": {},
     "output_type": "display_data"
    },
    {
     "data": {
      "text/html": [
       "<img src=\"https://www.okchicas.com/wp-content/uploads/2021/04/actores-menores-de-45-guapos-atractivos-18-628x700.png\"/>"
      ],
      "text/plain": [
       "<IPython.core.display.Image object>"
      ]
     },
     "metadata": {},
     "output_type": "display_data"
    },
    {
     "data": {
      "text/html": [
       "<img src=\"https://www.okchicas.com/wp-content/uploads/2021/04/actores-menores-de-45-guapos-atractivos-19-628x700.png\"/>"
      ],
      "text/plain": [
       "<IPython.core.display.Image object>"
      ]
     },
     "metadata": {},
     "output_type": "display_data"
    },
    {
     "data": {
      "text/html": [
       "<img src=\"https://www.okchicas.com/wp-content/uploads/2021/04/actores-menores-de-45-guapos-atractivos-20-628x700.png\"/>"
      ],
      "text/plain": [
       "<IPython.core.display.Image object>"
      ]
     },
     "metadata": {},
     "output_type": "display_data"
    },
    {
     "data": {
      "text/html": [
       "<img src=\"https://www.okchicas.com/wp-content/uploads/2021/04/actores-menores-de-45-guapos-atractivos-21-628x700.png\"/>"
      ],
      "text/plain": [
       "<IPython.core.display.Image object>"
      ]
     },
     "metadata": {},
     "output_type": "display_data"
    },
    {
     "data": {
      "text/html": [
       "<img src=\"https://www.okchicas.com/wp-content/uploads/2021/04/actores-menores-de-45-guapos-atractivos-22-628x700.png\"/>"
      ],
      "text/plain": [
       "<IPython.core.display.Image object>"
      ]
     },
     "metadata": {},
     "output_type": "display_data"
    },
    {
     "data": {
      "text/html": [
       "<img src=\"https://www.okchicas.com/wp-content/uploads/2021/04/actores-menores-de-45-guapos-atractivos-23-628x700.png\"/>"
      ],
      "text/plain": [
       "<IPython.core.display.Image object>"
      ]
     },
     "metadata": {},
     "output_type": "display_data"
    },
    {
     "data": {
      "text/html": [
       "<img src=\"https://www.okchicas.com/wp-content/uploads/2021/04/actores-menores-de-45-guapos-atractivos-24-628x700.png\"/>"
      ],
      "text/plain": [
       "<IPython.core.display.Image object>"
      ]
     },
     "metadata": {},
     "output_type": "display_data"
    },
    {
     "data": {
      "text/html": [
       "<img src=\"https://www.okchicas.com/wp-content/uploads/2021/04/actores-menores-de-45-guapos-atractivos-25-628x700.png\"/>"
      ],
      "text/plain": [
       "<IPython.core.display.Image object>"
      ]
     },
     "metadata": {},
     "output_type": "display_data"
    },
    {
     "data": {
      "text/html": [
       "<img src=\"https://www.okchicas.com/wp-content/uploads/2021/04/actores-menores-de-45-guapos-atractivos-26-628x700.png\"/>"
      ],
      "text/plain": [
       "<IPython.core.display.Image object>"
      ]
     },
     "metadata": {},
     "output_type": "display_data"
    },
    {
     "data": {
      "text/html": [
       "<img src=\"https://www.okchicas.com/wp-content/uploads/2021/04/actores-menores-de-45-guapos-atractivos-27-628x700.png\"/>"
      ],
      "text/plain": [
       "<IPython.core.display.Image object>"
      ]
     },
     "metadata": {},
     "output_type": "display_data"
    },
    {
     "data": {
      "text/html": [
       "<img src=\"https://www.okchicas.com/wp-content/uploads/2021/04/actores-menores-de-45-guapos-atractivos-28-628x700.png\"/>"
      ],
      "text/plain": [
       "<IPython.core.display.Image object>"
      ]
     },
     "metadata": {},
     "output_type": "display_data"
    },
    {
     "data": {
      "text/html": [
       "<img src=\"https://www.okchicas.com/wp-content/uploads/2021/04/actores-menores-de-45-guapos-atractivos-29-628x700.png\"/>"
      ],
      "text/plain": [
       "<IPython.core.display.Image object>"
      ]
     },
     "metadata": {},
     "output_type": "display_data"
    },
    {
     "data": {
      "text/html": [
       "<img src=\"https://www.okchicas.com/wp-content/uploads/2021/04/actores-menores-de-45-guapos-atractivos-30-628x700.png\"/>"
      ],
      "text/plain": [
       "<IPython.core.display.Image object>"
      ]
     },
     "metadata": {},
     "output_type": "display_data"
    }
   ],
   "source": [
    "#obtener las imagenes de los actores \n",
    "# Extraer todos los párrafos con imágenes\n",
    "parrafos_con_imagenes = soup.find_all(\"div\", class_=\"entry-content\", itemprop=\"text\")[0].find_all(\"p\")\n",
    "\n",
    "# Lista para almacenar las URLs de las imágenes\n",
    "urls_imagenes_p = []\n",
    "\n",
    "# Buscar las imágenes dentro de los párrafos\n",
    "for p in parrafos_con_imagenes:\n",
    "    # Si el párrafo contiene una etiqueta <img>\n",
    "    img_tag = p.find('img')\n",
    "    if img_tag and 'src' in img_tag.attrs:\n",
    "        # Verificar que la imagen tiene la extensión .png\n",
    "        if img_tag['src'].endswith('.png'):\n",
    "            urls_imagenes_p.append(img_tag['src'])\n",
    "\n",
    "# Mostrar las URLs de las imágenes .png\n",
    "print(urls_imagenes_p)\n",
    "# PREPARATE PARA VER 30 HOMBRES GUAPOS\n",
    "# ver imagenes# ! New library to display images\n",
    "from IPython.display import Image\n",
    "\n",
    "# Lista de URLs de las imágenes (por ejemplo, las que obtuviste previamente)\n",
    "urls_imagenes_p\n",
    "# Mostrar las imágenes\n",
    "for url in urls_imagenes_p:\n",
    "    display(Image(url=url))\n"
   ]
  },
  {
   "cell_type": "code",
   "execution_count": 66,
   "metadata": {},
   "outputs": [
    {
     "name": "stdout",
     "output_type": "stream",
     "text": [
      "<class 'pandas.core.frame.DataFrame'>\n",
      "RangeIndex: 30 entries, 0 to 29\n",
      "Data columns (total 3 columns):\n",
      " #   Column  Non-Null Count  Dtype \n",
      "---  ------  --------------  ----- \n",
      " 0   Nombre  30 non-null     object\n",
      " 1   Edad    30 non-null     int64 \n",
      " 2   Imagen  30 non-null     object\n",
      "dtypes: int64(1), object(2)\n",
      "memory usage: 848.0+ bytes\n"
     ]
    },
    {
     "data": {
      "image/png": "[encoded data removed]",
      "text/plain": [
       "<Figure size 640x480 with 1 Axes>"
      ]
     },
     "metadata": {},
     "output_type": "display_data"
    }
   ],
   "source": [
    "\n",
    "\n",
    "#juntar nombres, edades e imagenes en un dataframe\n",
    "hombres_guapos = pd.DataFrame({\n",
    "    \"Nombre\": lista_actores,\n",
    "    \"Edad\": edades,\n",
    "    \"Imagen\": urls_imagenes_p\n",
    "})\n",
    "\n",
    "\n",
    "#cambiar edad a numero \n",
    "hombres_guapos[\"Edad\"] = hombres_guapos[\"Edad\"].astype(int)\n",
    "#cambiar nombre a string\n",
    "hombres_guapos[\"Nombre\"] = hombres_guapos[\"Nombre\"].astype(str)\n",
    "#EDA \n",
    "hombres_guapos.info()\n",
    "hombres_guapos.describe()\n",
    "hombres_guapos.head()\n",
    "hombres_guapos.tail()\n",
    "\n",
    "# boxplot de edades\n",
    "# instalar seaborn\n",
    "#import sys\n",
    "#!{sys.executable} -m pip install seaborn\n",
    "\n",
    "#import sys\n",
    "#!{sys.executable} -m pip install matplotlib\n",
    "\n",
    "import seaborn as sns\n",
    "import matplotlib.pyplot as plt\n",
    "\n",
    "sns.boxplot(data=hombres_guapos, x=\"Edad\")\n",
    "plt.show()\n"
   ]
  },
  {
   "cell_type": "code",
   "execution_count": 67,
   "metadata": {},
   "outputs": [
    {
     "data": {
      "application/vnd.microsoft.datawrangler.viewer.v0+json": {
       "columns": [
        {
         "name": "index",
         "rawType": "int64",
         "type": "integer"
        },
        {
         "name": "Nombre",
         "rawType": "object",
         "type": "string"
        },
        {
         "name": "Edad",
         "rawType": "int64",
         "type": "integer"
        },
        {
         "name": "Imagen",
         "rawType": "object",
         "type": "string"
        }
       ],
       "conversionMethod": "pd.DataFrame",
       "ref": "61c0ea45-be59-4068-aa2f-4d4ad98e30b8",
       "rows": [
        [
         "0",
         "Theo James",
         "37",
         "https://www.okchicas.com/wp-content/uploads/2021/04/actores-menores-de-45-guapos-atractivos-628x700.png"
        ],
        [
         "1",
         "Aaron TaylorJohnson",
         "30",
         "https://www.okchicas.com/wp-content/uploads/2021/04/actores-menores-de-45-guapos-atractivos-2-628x700.png"
        ],
        [
         "2",
         "Liam Hemsworth",
         "31",
         "https://www.okchicas.com/wp-content/uploads/2021/04/actores-menores-de-45-guapos-atractivos-3-628x700.png"
        ],
        [
         "3",
         "Tyler Hoechlin",
         "33",
         "https://www.okchicas.com/wp-content/uploads/2021/04/actores-menores-de-45-guapos-atractivos-4-628x700.png"
        ],
        [
         "4",
         "Robert Pattinson",
         "35",
         "https://www.okchicas.com/wp-content/uploads/2021/04/actores-menores-de-45-guapos-atractivos-5-628x700.png"
        ],
        [
         "5",
         "Tom Hardy",
         "44",
         "https://www.okchicas.com/wp-content/uploads/2021/04/actores-menores-de-45-guapos-atractivos-6-628x700.png"
        ],
        [
         "6",
         "Justin Baldoni",
         "37",
         "https://www.okchicas.com/wp-content/uploads/2021/04/actores-menores-de-45-guapos-atractivos-7-628x700.png"
        ],
        [
         "7",
         "Chris Hemsworth",
         "37",
         "https://www.okchicas.com/wp-content/uploads/2021/04/actores-menores-de-45-guapos-atractivos-8-628x700.png"
        ],
        [
         "8",
         "Martio Rivas",
         "36",
         "https://www.okchicas.com/wp-content/uploads/2021/04/actores-menores-de-45-guapos-atractivos-9-627x700.png"
        ],
        [
         "9",
         "Tom Ellis",
         "42",
         "https://www.okchicas.com/wp-content/uploads/2021/04/actores-menores-de-45-guapos-atractivos-10-628x700.png"
        ],
        [
         "10",
         "Alexander Skarsgrd",
         "44",
         "https://www.okchicas.com/wp-content/uploads/2021/04/actores-menores-de-45-guapos-atractivos-11-628x700.png"
        ],
        [
         "11",
         "Michael Fassbender",
         "44",
         "https://www.okchicas.com/wp-content/uploads/2021/04/actores-menores-de-45-guapos-atractivos-12-628x700.png"
        ],
        [
         "12",
         "Tom Hiddleston",
         "40",
         "https://www.okchicas.com/wp-content/uploads/2021/04/actores-menores-de-45-guapos-atractivos-13-628x700.png"
        ],
        [
         "13",
         "Evan Peters",
         "34",
         "https://www.okchicas.com/wp-content/uploads/2021/04/actores-menores-de-45-guapos-atractivos-14-628x700.png"
        ],
        [
         "14",
         "Michele Morrone",
         "30",
         "https://www.okchicas.com/wp-content/uploads/2021/04/actores-menores-de-45-guapos-atractivos-15-628x700.png"
        ],
        [
         "15",
         "Henry Cavill",
         "38",
         "https://www.okchicas.com/wp-content/uploads/2021/04/actores-menores-de-45-guapos-atractivos-16-628x700.png"
        ],
        [
         "16",
         "Jake Gyllenhaal",
         "41",
         "https://www.okchicas.com/wp-content/uploads/2021/04/actores-menores-de-45-guapos-atractivos-17-628x700.png"
        ],
        [
         "17",
         "Richard Madden",
         "34",
         "https://www.okchicas.com/wp-content/uploads/2021/04/actores-menores-de-45-guapos-atractivos-18-628x700.png"
        ],
        [
         "18",
         "Sam Claflin",
         "35",
         "https://www.okchicas.com/wp-content/uploads/2021/04/actores-menores-de-45-guapos-atractivos-19-628x700.png"
        ],
        [
         "19",
         "Mario Casas",
         "34",
         "https://www.okchicas.com/wp-content/uploads/2021/04/actores-menores-de-45-guapos-atractivos-20-628x700.png"
        ],
        [
         "20",
         "Jamie Dornan",
         "38",
         "https://www.okchicas.com/wp-content/uploads/2021/04/actores-menores-de-45-guapos-atractivos-21-628x700.png"
        ],
        [
         "21",
         "Sam Heughan",
         "40",
         "https://www.okchicas.com/wp-content/uploads/2021/04/actores-menores-de-45-guapos-atractivos-22-628x700.png"
        ],
        [
         "22",
         "Sebastian Stan",
         "38",
         "https://www.okchicas.com/wp-content/uploads/2021/04/actores-menores-de-45-guapos-atractivos-23-628x700.png"
        ],
        [
         "23",
         "Ryan Gosling",
         "40",
         "https://www.okchicas.com/wp-content/uploads/2021/04/actores-menores-de-45-guapos-atractivos-24-628x700.png"
        ],
        [
         "24",
         "Charlie Hunnam",
         "40",
         "https://www.okchicas.com/wp-content/uploads/2021/04/actores-menores-de-45-guapos-atractivos-25-628x700.png"
        ],
        [
         "25",
         "Chris Evans",
         "40",
         "https://www.okchicas.com/wp-content/uploads/2021/04/actores-menores-de-45-guapos-atractivos-26-628x700.png"
        ],
        [
         "26",
         "Yon Gonzalez",
         "34",
         "https://www.okchicas.com/wp-content/uploads/2021/04/actores-menores-de-45-guapos-atractivos-27-628x700.png"
        ],
        [
         "27",
         "Jason Momoa",
         "41",
         "https://www.okchicas.com/wp-content/uploads/2021/04/actores-menores-de-45-guapos-atractivos-28-628x700.png"
        ],
        [
         "28",
         "Joe Manganiello",
         "45",
         "https://www.okchicas.com/wp-content/uploads/2021/04/actores-menores-de-45-guapos-atractivos-29-628x700.png"
        ],
        [
         "29",
         "Travis Fimmel",
         "41",
         "https://www.okchicas.com/wp-content/uploads/2021/04/actores-menores-de-45-guapos-atractivos-30-628x700.png"
        ]
       ],
       "shape": {
        "columns": 3,
        "rows": 30
       }
      },
      "text/html": [
       "<div>\n",
       "<style scoped>\n",
       "    .dataframe tbody tr th:only-of-type {\n",
       "        vertical-align: middle;\n",
       "    }\n",
       "\n",
       "    .dataframe tbody tr th {\n",
       "        vertical-align: top;\n",
       "    }\n",
       "\n",
       "    .dataframe thead th {\n",
       "        text-align: right;\n",
       "    }\n",
       "</style>\n",
       "<table border=\"1\" class=\"dataframe\">\n",
       "  <thead>\n",
       "    <tr style=\"text-align: right;\">\n",
       "      <th></th>\n",
       "      <th>Nombre</th>\n",
       "      <th>Edad</th>\n",
       "      <th>Imagen</th>\n",
       "    </tr>\n",
       "  </thead>\n",
       "  <tbody>\n",
       "    <tr>\n",
       "      <th>0</th>\n",
       "      <td>Theo James</td>\n",
       "      <td>37</td>\n",
       "      <td>https://www.okchicas.com/wp-content/uploads/20...</td>\n",
       "    </tr>\n",
       "    <tr>\n",
       "      <th>1</th>\n",
       "      <td>Aaron TaylorJohnson</td>\n",
       "      <td>30</td>\n",
       "      <td>https://www.okchicas.com/wp-content/uploads/20...</td>\n",
       "    </tr>\n",
       "    <tr>\n",
       "      <th>2</th>\n",
       "      <td>Liam Hemsworth</td>\n",
       "      <td>31</td>\n",
       "      <td>https://www.okchicas.com/wp-content/uploads/20...</td>\n",
       "    </tr>\n",
       "    <tr>\n",
       "      <th>3</th>\n",
       "      <td>Tyler Hoechlin</td>\n",
       "      <td>33</td>\n",
       "      <td>https://www.okchicas.com/wp-content/uploads/20...</td>\n",
       "    </tr>\n",
       "    <tr>\n",
       "      <th>4</th>\n",
       "      <td>Robert Pattinson</td>\n",
       "      <td>35</td>\n",
       "      <td>https://www.okchicas.com/wp-content/uploads/20...</td>\n",
       "    </tr>\n",
       "    <tr>\n",
       "      <th>5</th>\n",
       "      <td>Tom Hardy</td>\n",
       "      <td>44</td>\n",
       "      <td>https://www.okchicas.com/wp-content/uploads/20...</td>\n",
       "    </tr>\n",
       "    <tr>\n",
       "      <th>6</th>\n",
       "      <td>Justin Baldoni</td>\n",
       "      <td>37</td>\n",
       "      <td>https://www.okchicas.com/wp-content/uploads/20...</td>\n",
       "    </tr>\n",
       "    <tr>\n",
       "      <th>7</th>\n",
       "      <td>Chris Hemsworth</td>\n",
       "      <td>37</td>\n",
       "      <td>https://www.okchicas.com/wp-content/uploads/20...</td>\n",
       "    </tr>\n",
       "    <tr>\n",
       "      <th>8</th>\n",
       "      <td>Martio Rivas</td>\n",
       "      <td>36</td>\n",
       "      <td>https://www.okchicas.com/wp-content/uploads/20...</td>\n",
       "    </tr>\n",
       "    <tr>\n",
       "      <th>9</th>\n",
       "      <td>Tom Ellis</td>\n",
       "      <td>42</td>\n",
       "      <td>https://www.okchicas.com/wp-content/uploads/20...</td>\n",
       "    </tr>\n",
       "    <tr>\n",
       "      <th>10</th>\n",
       "      <td>Alexander Skarsgrd</td>\n",
       "      <td>44</td>\n",
       "      <td>https://www.okchicas.com/wp-content/uploads/20...</td>\n",
       "    </tr>\n",
       "    <tr>\n",
       "      <th>11</th>\n",
       "      <td>Michael Fassbender</td>\n",
       "      <td>44</td>\n",
       "      <td>https://www.okchicas.com/wp-content/uploads/20...</td>\n",
       "    </tr>\n",
       "    <tr>\n",
       "      <th>12</th>\n",
       "      <td>Tom Hiddleston</td>\n",
       "      <td>40</td>\n",
       "      <td>https://www.okchicas.com/wp-content/uploads/20...</td>\n",
       "    </tr>\n",
       "    <tr>\n",
       "      <th>13</th>\n",
       "      <td>Evan Peters</td>\n",
       "      <td>34</td>\n",
       "      <td>https://www.okchicas.com/wp-content/uploads/20...</td>\n",
       "    </tr>\n",
       "    <tr>\n",
       "      <th>14</th>\n",
       "      <td>Michele Morrone</td>\n",
       "      <td>30</td>\n",
       "      <td>https://www.okchicas.com/wp-content/uploads/20...</td>\n",
       "    </tr>\n",
       "    <tr>\n",
       "      <th>15</th>\n",
       "      <td>Henry Cavill</td>\n",
       "      <td>38</td>\n",
       "      <td>https://www.okchicas.com/wp-content/uploads/20...</td>\n",
       "    </tr>\n",
       "    <tr>\n",
       "      <th>16</th>\n",
       "      <td>Jake Gyllenhaal</td>\n",
       "      <td>41</td>\n",
       "      <td>https://www.okchicas.com/wp-content/uploads/20...</td>\n",
       "    </tr>\n",
       "    <tr>\n",
       "      <th>17</th>\n",
       "      <td>Richard Madden</td>\n",
       "      <td>34</td>\n",
       "      <td>https://www.okchicas.com/wp-content/uploads/20...</td>\n",
       "    </tr>\n",
       "    <tr>\n",
       "      <th>18</th>\n",
       "      <td>Sam Claflin</td>\n",
       "      <td>35</td>\n",
       "      <td>https://www.okchicas.com/wp-content/uploads/20...</td>\n",
       "    </tr>\n",
       "    <tr>\n",
       "      <th>19</th>\n",
       "      <td>Mario Casas</td>\n",
       "      <td>34</td>\n",
       "      <td>https://www.okchicas.com/wp-content/uploads/20...</td>\n",
       "    </tr>\n",
       "    <tr>\n",
       "      <th>20</th>\n",
       "      <td>Jamie Dornan</td>\n",
       "      <td>38</td>\n",
       "      <td>https://www.okchicas.com/wp-content/uploads/20...</td>\n",
       "    </tr>\n",
       "    <tr>\n",
       "      <th>21</th>\n",
       "      <td>Sam Heughan</td>\n",
       "      <td>40</td>\n",
       "      <td>https://www.okchicas.com/wp-content/uploads/20...</td>\n",
       "    </tr>\n",
       "    <tr>\n",
       "      <th>22</th>\n",
       "      <td>Sebastian Stan</td>\n",
       "      <td>38</td>\n",
       "      <td>https://www.okchicas.com/wp-content/uploads/20...</td>\n",
       "    </tr>\n",
       "    <tr>\n",
       "      <th>23</th>\n",
       "      <td>Ryan Gosling</td>\n",
       "      <td>40</td>\n",
       "      <td>https://www.okchicas.com/wp-content/uploads/20...</td>\n",
       "    </tr>\n",
       "    <tr>\n",
       "      <th>24</th>\n",
       "      <td>Charlie Hunnam</td>\n",
       "      <td>40</td>\n",
       "      <td>https://www.okchicas.com/wp-content/uploads/20...</td>\n",
       "    </tr>\n",
       "    <tr>\n",
       "      <th>25</th>\n",
       "      <td>Chris Evans</td>\n",
       "      <td>40</td>\n",
       "      <td>https://www.okchicas.com/wp-content/uploads/20...</td>\n",
       "    </tr>\n",
       "    <tr>\n",
       "      <th>26</th>\n",
       "      <td>Yon Gonzalez</td>\n",
       "      <td>34</td>\n",
       "      <td>https://www.okchicas.com/wp-content/uploads/20...</td>\n",
       "    </tr>\n",
       "    <tr>\n",
       "      <th>27</th>\n",
       "      <td>Jason Momoa</td>\n",
       "      <td>41</td>\n",
       "      <td>https://www.okchicas.com/wp-content/uploads/20...</td>\n",
       "    </tr>\n",
       "    <tr>\n",
       "      <th>28</th>\n",
       "      <td>Joe Manganiello</td>\n",
       "      <td>45</td>\n",
       "      <td>https://www.okchicas.com/wp-content/uploads/20...</td>\n",
       "    </tr>\n",
       "    <tr>\n",
       "      <th>29</th>\n",
       "      <td>Travis Fimmel</td>\n",
       "      <td>41</td>\n",
       "      <td>https://www.okchicas.com/wp-content/uploads/20...</td>\n",
       "    </tr>\n",
       "  </tbody>\n",
       "</table>\n",
       "</div>"
      ],
      "text/plain": [
       "                 Nombre  Edad  \\\n",
       "0            Theo James    37   \n",
       "1   Aaron TaylorJohnson    30   \n",
       "2        Liam Hemsworth    31   \n",
       "3        Tyler Hoechlin    33   \n",
       "4      Robert Pattinson    35   \n",
       "5             Tom Hardy    44   \n",
       "6        Justin Baldoni    37   \n",
       "7       Chris Hemsworth    37   \n",
       "8          Martio Rivas    36   \n",
       "9             Tom Ellis    42   \n",
       "10   Alexander Skarsgrd    44   \n",
       "11   Michael Fassbender    44   \n",
       "12       Tom Hiddleston    40   \n",
       "13          Evan Peters    34   \n",
       "14      Michele Morrone    30   \n",
       "15         Henry Cavill    38   \n",
       "16      Jake Gyllenhaal    41   \n",
       "17       Richard Madden    34   \n",
       "18          Sam Claflin    35   \n",
       "19          Mario Casas    34   \n",
       "20         Jamie Dornan    38   \n",
       "21          Sam Heughan    40   \n",
       "22       Sebastian Stan    38   \n",
       "23         Ryan Gosling    40   \n",
       "24       Charlie Hunnam    40   \n",
       "25          Chris Evans    40   \n",
       "26         Yon Gonzalez    34   \n",
       "27          Jason Momoa    41   \n",
       "28      Joe Manganiello    45   \n",
       "29        Travis Fimmel    41   \n",
       "\n",
       "                                               Imagen  \n",
       "0   https://www.okchicas.com/wp-content/uploads/20...  \n",
       "1   https://www.okchicas.com/wp-content/uploads/20...  \n",
       "2   https://www.okchicas.com/wp-content/uploads/20...  \n",
       "3   https://www.okchicas.com/wp-content/uploads/20...  \n",
       "4   https://www.okchicas.com/wp-content/uploads/20...  \n",
       "5   https://www.okchicas.com/wp-content/uploads/20...  \n",
       "6   https://www.okchicas.com/wp-content/uploads/20...  \n",
       "7   https://www.okchicas.com/wp-content/uploads/20...  \n",
       "8   https://www.okchicas.com/wp-content/uploads/20...  \n",
       "9   https://www.okchicas.com/wp-content/uploads/20...  \n",
       "10  https://www.okchicas.com/wp-content/uploads/20...  \n",
       "11  https://www.okchicas.com/wp-content/uploads/20...  \n",
       "12  https://www.okchicas.com/wp-content/uploads/20...  \n",
       "13  https://www.okchicas.com/wp-content/uploads/20...  \n",
       "14  https://www.okchicas.com/wp-content/uploads/20...  \n",
       "15  https://www.okchicas.com/wp-content/uploads/20...  \n",
       "16  https://www.okchicas.com/wp-content/uploads/20...  \n",
       "17  https://www.okchicas.com/wp-content/uploads/20...  \n",
       "18  https://www.okchicas.com/wp-content/uploads/20...  \n",
       "19  https://www.okchicas.com/wp-content/uploads/20...  \n",
       "20  https://www.okchicas.com/wp-content/uploads/20...  \n",
       "21  https://www.okchicas.com/wp-content/uploads/20...  \n",
       "22  https://www.okchicas.com/wp-content/uploads/20...  \n",
       "23  https://www.okchicas.com/wp-content/uploads/20...  \n",
       "24  https://www.okchicas.com/wp-content/uploads/20...  \n",
       "25  https://www.okchicas.com/wp-content/uploads/20...  \n",
       "26  https://www.okchicas.com/wp-content/uploads/20...  \n",
       "27  https://www.okchicas.com/wp-content/uploads/20...  \n",
       "28  https://www.okchicas.com/wp-content/uploads/20...  \n",
       "29  https://www.okchicas.com/wp-content/uploads/20...  "
      ]
     },
     "execution_count": 67,
     "metadata": {},
     "output_type": "execute_result"
    }
   ],
   "source": [
    "# Función para corregir los nombres\n",
    "def corregir_nombre(nombre):\n",
    "    # Eliminar caracteres no permitidos (como guiones, comas, etc.)\n",
    "    nombre_corregido = re.sub(r'[^A-Za-z ]', '', nombre)\n",
    "    return nombre_corregido\n",
    "\n",
    "# Aplicar la corrección a la columna \"Nombre\" sin cambiar el orden\n",
    "hombres_guapos[\"Nombre\"] = hombres_guapos[\"Nombre\"].apply(corregir_nombre)\n",
    "hombres_guapos"
   ]
  },
  {
   "cell_type": "code",
   "execution_count": 68,
   "metadata": {},
   "outputs": [
    {
     "data": {
      "application/vnd.microsoft.datawrangler.viewer.v0+json": {
       "columns": [
        {
         "name": "index",
         "rawType": "int64",
         "type": "integer"
        },
        {
         "name": "Nombre",
         "rawType": "object",
         "type": "string"
        },
        {
         "name": "Edad",
         "rawType": "int64",
         "type": "integer"
        },
        {
         "name": "Imagen",
         "rawType": "object",
         "type": "string"
        }
       ],
       "conversionMethod": "pd.DataFrame",
       "ref": "8e22a78f-7236-4955-ba41-0394ce8138b0",
       "rows": [
        [
         "0",
         "Theo James",
         "37",
         "https://www.okchicas.com/wp-content/uploads/2021/04/actores-menores-de-45-guapos-atractivos-628x700.png"
        ],
        [
         "1",
         "Aaron TaylorJohnson",
         "30",
         "https://www.okchicas.com/wp-content/uploads/2021/04/actores-menores-de-45-guapos-atractivos-2-628x700.png"
        ],
        [
         "2",
         "Liam Hemsworth",
         "31",
         "https://www.okchicas.com/wp-content/uploads/2021/04/actores-menores-de-45-guapos-atractivos-3-628x700.png"
        ],
        [
         "3",
         "Tyler Hoechlin",
         "33",
         "https://www.okchicas.com/wp-content/uploads/2021/04/actores-menores-de-45-guapos-atractivos-4-628x700.png"
        ],
        [
         "4",
         "Robert Pattinson",
         "35",
         "https://www.okchicas.com/wp-content/uploads/2021/04/actores-menores-de-45-guapos-atractivos-5-628x700.png"
        ],
        [
         "5",
         "Tom Hardy",
         "44",
         "https://www.okchicas.com/wp-content/uploads/2021/04/actores-menores-de-45-guapos-atractivos-6-628x700.png"
        ],
        [
         "6",
         "Justin Baldoni",
         "37",
         "https://www.okchicas.com/wp-content/uploads/2021/04/actores-menores-de-45-guapos-atractivos-7-628x700.png"
        ],
        [
         "7",
         "Chris Hemsworth",
         "37",
         "https://www.okchicas.com/wp-content/uploads/2021/04/actores-menores-de-45-guapos-atractivos-8-628x700.png"
        ],
        [
         "8",
         "Martio Rivas",
         "36",
         "https://www.okchicas.com/wp-content/uploads/2021/04/actores-menores-de-45-guapos-atractivos-9-627x700.png"
        ],
        [
         "9",
         "Tom Ellis",
         "42",
         "https://www.okchicas.com/wp-content/uploads/2021/04/actores-menores-de-45-guapos-atractivos-10-628x700.png"
        ],
        [
         "10",
         "Alexander Skarsgrd",
         "44",
         "https://www.okchicas.com/wp-content/uploads/2021/04/actores-menores-de-45-guapos-atractivos-11-628x700.png"
        ],
        [
         "11",
         "Michael Fassbender",
         "44",
         "https://www.okchicas.com/wp-content/uploads/2021/04/actores-menores-de-45-guapos-atractivos-12-628x700.png"
        ],
        [
         "12",
         "Tom Hiddleston",
         "40",
         "https://www.okchicas.com/wp-content/uploads/2021/04/actores-menores-de-45-guapos-atractivos-13-628x700.png"
        ],
        [
         "13",
         "Evan Peters",
         "34",
         "https://www.okchicas.com/wp-content/uploads/2021/04/actores-menores-de-45-guapos-atractivos-14-628x700.png"
        ],
        [
         "14",
         "Michele Morrone",
         "30",
         "https://www.okchicas.com/wp-content/uploads/2021/04/actores-menores-de-45-guapos-atractivos-15-628x700.png"
        ],
        [
         "15",
         "Henry Cavill",
         "38",
         "https://www.okchicas.com/wp-content/uploads/2021/04/actores-menores-de-45-guapos-atractivos-16-628x700.png"
        ],
        [
         "16",
         "Jake Gyllenhaal",
         "41",
         "https://www.okchicas.com/wp-content/uploads/2021/04/actores-menores-de-45-guapos-atractivos-17-628x700.png"
        ],
        [
         "17",
         "Richard Madden",
         "34",
         "https://www.okchicas.com/wp-content/uploads/2021/04/actores-menores-de-45-guapos-atractivos-18-628x700.png"
        ],
        [
         "18",
         "Sam Claflin",
         "35",
         "https://www.okchicas.com/wp-content/uploads/2021/04/actores-menores-de-45-guapos-atractivos-19-628x700.png"
        ],
        [
         "19",
         "Mario Casas",
         "34",
         "https://www.okchicas.com/wp-content/uploads/2021/04/actores-menores-de-45-guapos-atractivos-20-628x700.png"
        ],
        [
         "20",
         "Jamie Dornan",
         "38",
         "https://www.okchicas.com/wp-content/uploads/2021/04/actores-menores-de-45-guapos-atractivos-21-628x700.png"
        ],
        [
         "21",
         "Sam Heughan",
         "40",
         "https://www.okchicas.com/wp-content/uploads/2021/04/actores-menores-de-45-guapos-atractivos-22-628x700.png"
        ],
        [
         "22",
         "Sebastian Stan",
         "38",
         "https://www.okchicas.com/wp-content/uploads/2021/04/actores-menores-de-45-guapos-atractivos-23-628x700.png"
        ],
        [
         "23",
         "Ryan Gosling",
         "40",
         "https://www.okchicas.com/wp-content/uploads/2021/04/actores-menores-de-45-guapos-atractivos-24-628x700.png"
        ],
        [
         "24",
         "Charlie Hunnam",
         "40",
         "https://www.okchicas.com/wp-content/uploads/2021/04/actores-menores-de-45-guapos-atractivos-25-628x700.png"
        ],
        [
         "25",
         "Chris Evans",
         "40",
         "https://www.okchicas.com/wp-content/uploads/2021/04/actores-menores-de-45-guapos-atractivos-26-628x700.png"
        ],
        [
         "26",
         "Yon Gonzalez",
         "34",
         "https://www.okchicas.com/wp-content/uploads/2021/04/actores-menores-de-45-guapos-atractivos-27-628x700.png"
        ],
        [
         "27",
         "Jason Momoa",
         "41",
         "https://www.okchicas.com/wp-content/uploads/2021/04/actores-menores-de-45-guapos-atractivos-28-628x700.png"
        ],
        [
         "28",
         "Joe Manganiello",
         "45",
         "https://www.okchicas.com/wp-content/uploads/2021/04/actores-menores-de-45-guapos-atractivos-29-628x700.png"
        ],
        [
         "29",
         "Travis Fimmel",
         "41",
         "https://www.okchicas.com/wp-content/uploads/2021/04/actores-menores-de-45-guapos-atractivos-30-628x700.png"
        ]
       ],
       "shape": {
        "columns": 3,
        "rows": 30
       }
      },
      "text/html": [
       "<div>\n",
       "<style scoped>\n",
       "    .dataframe tbody tr th:only-of-type {\n",
       "        vertical-align: middle;\n",
       "    }\n",
       "\n",
       "    .dataframe tbody tr th {\n",
       "        vertical-align: top;\n",
       "    }\n",
       "\n",
       "    .dataframe thead th {\n",
       "        text-align: right;\n",
       "    }\n",
       "</style>\n",
       "<table border=\"1\" class=\"dataframe\">\n",
       "  <thead>\n",
       "    <tr style=\"text-align: right;\">\n",
       "      <th></th>\n",
       "      <th>Nombre</th>\n",
       "      <th>Edad</th>\n",
       "      <th>Imagen</th>\n",
       "    </tr>\n",
       "  </thead>\n",
       "  <tbody>\n",
       "    <tr>\n",
       "      <th>0</th>\n",
       "      <td>Theo James</td>\n",
       "      <td>37</td>\n",
       "      <td>https://www.okchicas.com/wp-content/uploads/20...</td>\n",
       "    </tr>\n",
       "    <tr>\n",
       "      <th>1</th>\n",
       "      <td>Aaron TaylorJohnson</td>\n",
       "      <td>30</td>\n",
       "      <td>https://www.okchicas.com/wp-content/uploads/20...</td>\n",
       "    </tr>\n",
       "    <tr>\n",
       "      <th>2</th>\n",
       "      <td>Liam Hemsworth</td>\n",
       "      <td>31</td>\n",
       "      <td>https://www.okchicas.com/wp-content/uploads/20...</td>\n",
       "    </tr>\n",
       "    <tr>\n",
       "      <th>3</th>\n",
       "      <td>Tyler Hoechlin</td>\n",
       "      <td>33</td>\n",
       "      <td>https://www.okchicas.com/wp-content/uploads/20...</td>\n",
       "    </tr>\n",
       "    <tr>\n",
       "      <th>4</th>\n",
       "      <td>Robert Pattinson</td>\n",
       "      <td>35</td>\n",
       "      <td>https://www.okchicas.com/wp-content/uploads/20...</td>\n",
       "    </tr>\n",
       "    <tr>\n",
       "      <th>5</th>\n",
       "      <td>Tom Hardy</td>\n",
       "      <td>44</td>\n",
       "      <td>https://www.okchicas.com/wp-content/uploads/20...</td>\n",
       "    </tr>\n",
       "    <tr>\n",
       "      <th>6</th>\n",
       "      <td>Justin Baldoni</td>\n",
       "      <td>37</td>\n",
       "      <td>https://www.okchicas.com/wp-content/uploads/20...</td>\n",
       "    </tr>\n",
       "    <tr>\n",
       "      <th>7</th>\n",
       "      <td>Chris Hemsworth</td>\n",
       "      <td>37</td>\n",
       "      <td>https://www.okchicas.com/wp-content/uploads/20...</td>\n",
       "    </tr>\n",
       "    <tr>\n",
       "      <th>8</th>\n",
       "      <td>Martio Rivas</td>\n",
       "      <td>36</td>\n",
       "      <td>https://www.okchicas.com/wp-content/uploads/20...</td>\n",
       "    </tr>\n",
       "    <tr>\n",
       "      <th>9</th>\n",
       "      <td>Tom Ellis</td>\n",
       "      <td>42</td>\n",
       "      <td>https://www.okchicas.com/wp-content/uploads/20...</td>\n",
       "    </tr>\n",
       "    <tr>\n",
       "      <th>10</th>\n",
       "      <td>Alexander Skarsgrd</td>\n",
       "      <td>44</td>\n",
       "      <td>https://www.okchicas.com/wp-content/uploads/20...</td>\n",
       "    </tr>\n",
       "    <tr>\n",
       "      <th>11</th>\n",
       "      <td>Michael Fassbender</td>\n",
       "      <td>44</td>\n",
       "      <td>https://www.okchicas.com/wp-content/uploads/20...</td>\n",
       "    </tr>\n",
       "    <tr>\n",
       "      <th>12</th>\n",
       "      <td>Tom Hiddleston</td>\n",
       "      <td>40</td>\n",
       "      <td>https://www.okchicas.com/wp-content/uploads/20...</td>\n",
       "    </tr>\n",
       "    <tr>\n",
       "      <th>13</th>\n",
       "      <td>Evan Peters</td>\n",
       "      <td>34</td>\n",
       "      <td>https://www.okchicas.com/wp-content/uploads/20...</td>\n",
       "    </tr>\n",
       "    <tr>\n",
       "      <th>14</th>\n",
       "      <td>Michele Morrone</td>\n",
       "      <td>30</td>\n",
       "      <td>https://www.okchicas.com/wp-content/uploads/20...</td>\n",
       "    </tr>\n",
       "    <tr>\n",
       "      <th>15</th>\n",
       "      <td>Henry Cavill</td>\n",
       "      <td>38</td>\n",
       "      <td>https://www.okchicas.com/wp-content/uploads/20...</td>\n",
       "    </tr>\n",
       "    <tr>\n",
       "      <th>16</th>\n",
       "      <td>Jake Gyllenhaal</td>\n",
       "      <td>41</td>\n",
       "      <td>https://www.okchicas.com/wp-content/uploads/20...</td>\n",
       "    </tr>\n",
       "    <tr>\n",
       "      <th>17</th>\n",
       "      <td>Richard Madden</td>\n",
       "      <td>34</td>\n",
       "      <td>https://www.okchicas.com/wp-content/uploads/20...</td>\n",
       "    </tr>\n",
       "    <tr>\n",
       "      <th>18</th>\n",
       "      <td>Sam Claflin</td>\n",
       "      <td>35</td>\n",
       "      <td>https://www.okchicas.com/wp-content/uploads/20...</td>\n",
       "    </tr>\n",
       "    <tr>\n",
       "      <th>19</th>\n",
       "      <td>Mario Casas</td>\n",
       "      <td>34</td>\n",
       "      <td>https://www.okchicas.com/wp-content/uploads/20...</td>\n",
       "    </tr>\n",
       "    <tr>\n",
       "      <th>20</th>\n",
       "      <td>Jamie Dornan</td>\n",
       "      <td>38</td>\n",
       "      <td>https://www.okchicas.com/wp-content/uploads/20...</td>\n",
       "    </tr>\n",
       "    <tr>\n",
       "      <th>21</th>\n",
       "      <td>Sam Heughan</td>\n",
       "      <td>40</td>\n",
       "      <td>https://www.okchicas.com/wp-content/uploads/20...</td>\n",
       "    </tr>\n",
       "    <tr>\n",
       "      <th>22</th>\n",
       "      <td>Sebastian Stan</td>\n",
       "      <td>38</td>\n",
       "      <td>https://www.okchicas.com/wp-content/uploads/20...</td>\n",
       "    </tr>\n",
       "    <tr>\n",
       "      <th>23</th>\n",
       "      <td>Ryan Gosling</td>\n",
       "      <td>40</td>\n",
       "      <td>https://www.okchicas.com/wp-content/uploads/20...</td>\n",
       "    </tr>\n",
       "    <tr>\n",
       "      <th>24</th>\n",
       "      <td>Charlie Hunnam</td>\n",
       "      <td>40</td>\n",
       "      <td>https://www.okchicas.com/wp-content/uploads/20...</td>\n",
       "    </tr>\n",
       "    <tr>\n",
       "      <th>25</th>\n",
       "      <td>Chris Evans</td>\n",
       "      <td>40</td>\n",
       "      <td>https://www.okchicas.com/wp-content/uploads/20...</td>\n",
       "    </tr>\n",
       "    <tr>\n",
       "      <th>26</th>\n",
       "      <td>Yon Gonzalez</td>\n",
       "      <td>34</td>\n",
       "      <td>https://www.okchicas.com/wp-content/uploads/20...</td>\n",
       "    </tr>\n",
       "    <tr>\n",
       "      <th>27</th>\n",
       "      <td>Jason Momoa</td>\n",
       "      <td>41</td>\n",
       "      <td>https://www.okchicas.com/wp-content/uploads/20...</td>\n",
       "    </tr>\n",
       "    <tr>\n",
       "      <th>28</th>\n",
       "      <td>Joe Manganiello</td>\n",
       "      <td>45</td>\n",
       "      <td>https://www.okchicas.com/wp-content/uploads/20...</td>\n",
       "    </tr>\n",
       "    <tr>\n",
       "      <th>29</th>\n",
       "      <td>Travis Fimmel</td>\n",
       "      <td>41</td>\n",
       "      <td>https://www.okchicas.com/wp-content/uploads/20...</td>\n",
       "    </tr>\n",
       "  </tbody>\n",
       "</table>\n",
       "</div>"
      ],
      "text/plain": [
       "                 Nombre  Edad  \\\n",
       "0            Theo James    37   \n",
       "1   Aaron TaylorJohnson    30   \n",
       "2        Liam Hemsworth    31   \n",
       "3        Tyler Hoechlin    33   \n",
       "4      Robert Pattinson    35   \n",
       "5             Tom Hardy    44   \n",
       "6        Justin Baldoni    37   \n",
       "7       Chris Hemsworth    37   \n",
       "8          Martio Rivas    36   \n",
       "9             Tom Ellis    42   \n",
       "10   Alexander Skarsgrd    44   \n",
       "11   Michael Fassbender    44   \n",
       "12       Tom Hiddleston    40   \n",
       "13          Evan Peters    34   \n",
       "14      Michele Morrone    30   \n",
       "15         Henry Cavill    38   \n",
       "16      Jake Gyllenhaal    41   \n",
       "17       Richard Madden    34   \n",
       "18          Sam Claflin    35   \n",
       "19          Mario Casas    34   \n",
       "20         Jamie Dornan    38   \n",
       "21          Sam Heughan    40   \n",
       "22       Sebastian Stan    38   \n",
       "23         Ryan Gosling    40   \n",
       "24       Charlie Hunnam    40   \n",
       "25          Chris Evans    40   \n",
       "26         Yon Gonzalez    34   \n",
       "27          Jason Momoa    41   \n",
       "28      Joe Manganiello    45   \n",
       "29        Travis Fimmel    41   \n",
       "\n",
       "                                               Imagen  \n",
       "0   https://www.okchicas.com/wp-content/uploads/20...  \n",
       "1   https://www.okchicas.com/wp-content/uploads/20...  \n",
       "2   https://www.okchicas.com/wp-content/uploads/20...  \n",
       "3   https://www.okchicas.com/wp-content/uploads/20...  \n",
       "4   https://www.okchicas.com/wp-content/uploads/20...  \n",
       "5   https://www.okchicas.com/wp-content/uploads/20...  \n",
       "6   https://www.okchicas.com/wp-content/uploads/20...  \n",
       "7   https://www.okchicas.com/wp-content/uploads/20...  \n",
       "8   https://www.okchicas.com/wp-content/uploads/20...  \n",
       "9   https://www.okchicas.com/wp-content/uploads/20...  \n",
       "10  https://www.okchicas.com/wp-content/uploads/20...  \n",
       "11  https://www.okchicas.com/wp-content/uploads/20...  \n",
       "12  https://www.okchicas.com/wp-content/uploads/20...  \n",
       "13  https://www.okchicas.com/wp-content/uploads/20...  \n",
       "14  https://www.okchicas.com/wp-content/uploads/20...  \n",
       "15  https://www.okchicas.com/wp-content/uploads/20...  \n",
       "16  https://www.okchicas.com/wp-content/uploads/20...  \n",
       "17  https://www.okchicas.com/wp-content/uploads/20...  \n",
       "18  https://www.okchicas.com/wp-content/uploads/20...  \n",
       "19  https://www.okchicas.com/wp-content/uploads/20...  \n",
       "20  https://www.okchicas.com/wp-content/uploads/20...  \n",
       "21  https://www.okchicas.com/wp-content/uploads/20...  \n",
       "22  https://www.okchicas.com/wp-content/uploads/20...  \n",
       "23  https://www.okchicas.com/wp-content/uploads/20...  \n",
       "24  https://www.okchicas.com/wp-content/uploads/20...  \n",
       "25  https://www.okchicas.com/wp-content/uploads/20...  \n",
       "26  https://www.okchicas.com/wp-content/uploads/20...  \n",
       "27  https://www.okchicas.com/wp-content/uploads/20...  \n",
       "28  https://www.okchicas.com/wp-content/uploads/20...  \n",
       "29  https://www.okchicas.com/wp-content/uploads/20...  "
      ]
     },
     "execution_count": 68,
     "metadata": {},
     "output_type": "execute_result"
    }
   ],
   "source": [
    "hombres_guapos"
   ]
  },
  {
   "cell_type": "markdown",
   "metadata": {},
   "source": [
    "# Conectar a Api para obtener compatibilidad"
   ]
  },
  {
   "cell_type": "code",
   "execution_count": 69,
   "metadata": {},
   "outputs": [],
   "source": [
    "key = \"edc250de13mshd7b5c8303b11655p13d9e8jsn4a57037e62a9\" #modificar con tu llave"
   ]
  },
  {
   "cell_type": "code",
   "execution_count": 70,
   "metadata": {},
   "outputs": [
    {
     "name": "stdout",
     "output_type": "stream",
     "text": [
      "    Diana                Actor Compatibilidad\n",
      "0   Diana           Theo James            83%\n",
      "1   Diana  Aaron TaylorJohnson            85%\n",
      "2   Diana       Liam Hemsworth            83%\n",
      "3   Diana       Tyler Hoechlin            95%\n",
      "4   Diana     Robert Pattinson            63%\n",
      "5   Diana            Tom Hardy            71%\n",
      "6   Diana       Justin Baldoni            72%\n",
      "7   Diana      Chris Hemsworth            92%\n",
      "8   Diana         Martio Rivas            82%\n",
      "9   Diana            Tom Ellis            74%\n",
      "10  Diana   Alexander Skarsgrd            53%\n",
      "11  Diana   Michael Fassbender            94%\n",
      "12  Diana       Tom Hiddleston            84%\n",
      "13  Diana          Evan Peters            54%\n",
      "14  Diana      Michele Morrone            56%\n",
      "15  Diana         Henry Cavill            74%\n",
      "16  Diana      Jake Gyllenhaal            75%\n",
      "17  Diana       Richard Madden            81%\n",
      "18  Diana          Sam Claflin            52%\n",
      "19  Diana          Mario Casas            61%\n",
      "20  Diana         Jamie Dornan            72%\n",
      "21  Diana          Sam Heughan            71%\n",
      "22  Diana       Sebastian Stan            81%\n",
      "23  Diana         Ryan Gosling            62%\n",
      "24  Diana       Charlie Hunnam            82%\n",
      "25  Diana          Chris Evans            72%\n",
      "26  Diana         Yon Gonzalez            64%\n",
      "27  Diana          Jason Momoa            53%\n",
      "28  Diana      Joe Manganiello            76%\n",
      "29  Diana        Travis Fimmel            83%\n"
     ]
    }
   ],
   "source": [
    "#Explicación del código:\n",
    "#hacemos un loop para cada nombre de la lista de actores\n",
    "#creamos un diccionario con los nombres de las personas a comparar\n",
    "#hacemos una petición GET al API con los nombres de las personas a comparar\n",
    "#si la petición es exitosa, guardamos la respuesta en formato JSON\n",
    "#verificamos si la respuesta contiene el campo 'lovePercentage'\n",
    "#si 'lovePercentage' existe, eliminamos el '%' y lo convertimos en un número\n",
    "#guardamos los resultados en un diccionario\n",
    "#convertimos la lista de resultados en un DataFrame\n",
    "#mostramos el DataFrame resultante\n",
    "\n",
    "url = \"https://love-compatibility-calculator-api-apiverve.p.rapidapi.com/v1/lovecalculator\"  # Conéctate al API\n",
    "headers = {\n",
    "    \"Accept\": \"application/json\",\n",
    "    \"x-rapidapi-host\": \"love-compatibility-calculator-api-apiverve.p.rapidapi.com\",\n",
    "    \"x-rapidapi-key\": key  \n",
    "}\n",
    "\n",
    "# Lista para almacenar los resultados\n",
    "compatibilidad = []\n",
    "\n",
    "# Bucle para recorrer los nombres de los actores\n",
    "for nombre in hombres_guapos[\"Nombre\"]:  \n",
    "    params = {  # Aquí se está creando un diccionario con las claves\n",
    "        \"name1\": \"Diana\", #aquí podrías poner tu nombre\n",
    "        \"name2\": nombre\n",
    "    }\n",
    "    \n",
    "    response = requests.get(url, headers=headers, params=params)\n",
    "    \n",
    "    if response.status_code == 200:  # Si todo está bien\n",
    "        data = response.json()  # Guarda la respuesta en formato JSON\n",
    "        \n",
    "        # Verifica si la respuesta contiene el campo 'lovePercentage'\n",
    "        love_percentage = data.get(\"data\", {}).get(\"lovePercentage\")\n",
    "        \n",
    "        # Si lovePercentage existe, eliminamos el '%' y lo convertimos en un número, tuvimos k hacer esto xq no nos permitia guardrlo correctamente\n",
    "        if love_percentage:\n",
    "            love_percentage = love_percentage.replace('%', '')  # Elimina el '%'\n",
    "            try:\n",
    "                love_percentage = int(love_percentage)  # Convierte a entero\n",
    "                love_percentage = f\"{love_percentage}%\"  # Vuelve a agregar el '%'\n",
    "            except ValueError:\n",
    "                love_percentage = None  # Si no puede convertir, asignamos None\n",
    "        else:\n",
    "            love_percentage = None\n",
    "        \n",
    "        # Guarda los resultados en un diccionario\n",
    "        compatibilidad.append({\"Diana\": \"Diana\", \"Actor\": nombre, \"Compatibilidad\": love_percentage})\n",
    "    else:\n",
    "        print(f\"Error {response.status_code}: {response.text}\")\n",
    "\n",
    "# Convertimos la lista de resultados en un DataFrame\n",
    "compatibilidad_res = pd.DataFrame(compatibilidad)\n",
    "\n",
    "# Mostramos el DataFrame resultante\n",
    "print(compatibilidad_res)\n",
    "\n",
    "#ya funciona!! "
   ]
  },
  {
   "cell_type": "code",
   "execution_count": 71,
   "metadata": {},
   "outputs": [
    {
     "data": {
      "application/vnd.microsoft.datawrangler.viewer.v0+json": {
       "columns": [
        {
         "name": "index",
         "rawType": "int64",
         "type": "integer"
        },
        {
         "name": "Nombre",
         "rawType": "object",
         "type": "string"
        },
        {
         "name": "Compatibilidad",
         "rawType": "object",
         "type": "string"
        },
        {
         "name": "Edad",
         "rawType": "int64",
         "type": "integer"
        },
        {
         "name": "Imagen",
         "rawType": "object",
         "type": "string"
        }
       ],
       "conversionMethod": "pd.DataFrame",
       "ref": "bc3525f8-c679-40e2-826b-82c54086bcb2",
       "rows": [
        [
         "0",
         "Theo James",
         "83%",
         "37",
         "https://www.okchicas.com/wp-content/uploads/2021/04/actores-menores-de-45-guapos-atractivos-628x700.png"
        ],
        [
         "1",
         "Aaron TaylorJohnson",
         "85%",
         "30",
         "https://www.okchicas.com/wp-content/uploads/2021/04/actores-menores-de-45-guapos-atractivos-2-628x700.png"
        ],
        [
         "2",
         "Liam Hemsworth",
         "83%",
         "31",
         "https://www.okchicas.com/wp-content/uploads/2021/04/actores-menores-de-45-guapos-atractivos-3-628x700.png"
        ],
        [
         "3",
         "Tyler Hoechlin",
         "95%",
         "33",
         "https://www.okchicas.com/wp-content/uploads/2021/04/actores-menores-de-45-guapos-atractivos-4-628x700.png"
        ],
        [
         "4",
         "Robert Pattinson",
         "63%",
         "35",
         "https://www.okchicas.com/wp-content/uploads/2021/04/actores-menores-de-45-guapos-atractivos-5-628x700.png"
        ],
        [
         "5",
         "Tom Hardy",
         "71%",
         "44",
         "https://www.okchicas.com/wp-content/uploads/2021/04/actores-menores-de-45-guapos-atractivos-6-628x700.png"
        ],
        [
         "6",
         "Justin Baldoni",
         "72%",
         "37",
         "https://www.okchicas.com/wp-content/uploads/2021/04/actores-menores-de-45-guapos-atractivos-7-628x700.png"
        ],
        [
         "7",
         "Chris Hemsworth",
         "92%",
         "37",
         "https://www.okchicas.com/wp-content/uploads/2021/04/actores-menores-de-45-guapos-atractivos-8-628x700.png"
        ],
        [
         "8",
         "Martio Rivas",
         "82%",
         "36",
         "https://www.okchicas.com/wp-content/uploads/2021/04/actores-menores-de-45-guapos-atractivos-9-627x700.png"
        ],
        [
         "9",
         "Tom Ellis",
         "74%",
         "42",
         "https://www.okchicas.com/wp-content/uploads/2021/04/actores-menores-de-45-guapos-atractivos-10-628x700.png"
        ],
        [
         "10",
         "Alexander Skarsgrd",
         "53%",
         "44",
         "https://www.okchicas.com/wp-content/uploads/2021/04/actores-menores-de-45-guapos-atractivos-11-628x700.png"
        ],
        [
         "11",
         "Michael Fassbender",
         "94%",
         "44",
         "https://www.okchicas.com/wp-content/uploads/2021/04/actores-menores-de-45-guapos-atractivos-12-628x700.png"
        ],
        [
         "12",
         "Tom Hiddleston",
         "84%",
         "40",
         "https://www.okchicas.com/wp-content/uploads/2021/04/actores-menores-de-45-guapos-atractivos-13-628x700.png"
        ],
        [
         "13",
         "Evan Peters",
         "54%",
         "34",
         "https://www.okchicas.com/wp-content/uploads/2021/04/actores-menores-de-45-guapos-atractivos-14-628x700.png"
        ],
        [
         "14",
         "Michele Morrone",
         "56%",
         "30",
         "https://www.okchicas.com/wp-content/uploads/2021/04/actores-menores-de-45-guapos-atractivos-15-628x700.png"
        ],
        [
         "15",
         "Henry Cavill",
         "74%",
         "38",
         "https://www.okchicas.com/wp-content/uploads/2021/04/actores-menores-de-45-guapos-atractivos-16-628x700.png"
        ],
        [
         "16",
         "Jake Gyllenhaal",
         "75%",
         "41",
         "https://www.okchicas.com/wp-content/uploads/2021/04/actores-menores-de-45-guapos-atractivos-17-628x700.png"
        ],
        [
         "17",
         "Richard Madden",
         "81%",
         "34",
         "https://www.okchicas.com/wp-content/uploads/2021/04/actores-menores-de-45-guapos-atractivos-18-628x700.png"
        ],
        [
         "18",
         "Sam Claflin",
         "52%",
         "35",
         "https://www.okchicas.com/wp-content/uploads/2021/04/actores-menores-de-45-guapos-atractivos-19-628x700.png"
        ],
        [
         "19",
         "Mario Casas",
         "61%",
         "34",
         "https://www.okchicas.com/wp-content/uploads/2021/04/actores-menores-de-45-guapos-atractivos-20-628x700.png"
        ],
        [
         "20",
         "Jamie Dornan",
         "72%",
         "38",
         "https://www.okchicas.com/wp-content/uploads/2021/04/actores-menores-de-45-guapos-atractivos-21-628x700.png"
        ],
        [
         "21",
         "Sam Heughan",
         "71%",
         "40",
         "https://www.okchicas.com/wp-content/uploads/2021/04/actores-menores-de-45-guapos-atractivos-22-628x700.png"
        ],
        [
         "22",
         "Sebastian Stan",
         "81%",
         "38",
         "https://www.okchicas.com/wp-content/uploads/2021/04/actores-menores-de-45-guapos-atractivos-23-628x700.png"
        ],
        [
         "23",
         "Ryan Gosling",
         "62%",
         "40",
         "https://www.okchicas.com/wp-content/uploads/2021/04/actores-menores-de-45-guapos-atractivos-24-628x700.png"
        ],
        [
         "24",
         "Charlie Hunnam",
         "82%",
         "40",
         "https://www.okchicas.com/wp-content/uploads/2021/04/actores-menores-de-45-guapos-atractivos-25-628x700.png"
        ],
        [
         "25",
         "Chris Evans",
         "72%",
         "40",
         "https://www.okchicas.com/wp-content/uploads/2021/04/actores-menores-de-45-guapos-atractivos-26-628x700.png"
        ],
        [
         "26",
         "Yon Gonzalez",
         "64%",
         "34",
         "https://www.okchicas.com/wp-content/uploads/2021/04/actores-menores-de-45-guapos-atractivos-27-628x700.png"
        ],
        [
         "27",
         "Jason Momoa",
         "53%",
         "41",
         "https://www.okchicas.com/wp-content/uploads/2021/04/actores-menores-de-45-guapos-atractivos-28-628x700.png"
        ],
        [
         "28",
         "Joe Manganiello",
         "76%",
         "45",
         "https://www.okchicas.com/wp-content/uploads/2021/04/actores-menores-de-45-guapos-atractivos-29-628x700.png"
        ],
        [
         "29",
         "Travis Fimmel",
         "83%",
         "41",
         "https://www.okchicas.com/wp-content/uploads/2021/04/actores-menores-de-45-guapos-atractivos-30-628x700.png"
        ]
       ],
       "shape": {
        "columns": 4,
        "rows": 30
       }
      },
      "text/html": [
       "<div>\n",
       "<style scoped>\n",
       "    .dataframe tbody tr th:only-of-type {\n",
       "        vertical-align: middle;\n",
       "    }\n",
       "\n",
       "    .dataframe tbody tr th {\n",
       "        vertical-align: top;\n",
       "    }\n",
       "\n",
       "    .dataframe thead th {\n",
       "        text-align: right;\n",
       "    }\n",
       "</style>\n",
       "<table border=\"1\" class=\"dataframe\">\n",
       "  <thead>\n",
       "    <tr style=\"text-align: right;\">\n",
       "      <th></th>\n",
       "      <th>Nombre</th>\n",
       "      <th>Compatibilidad</th>\n",
       "      <th>Edad</th>\n",
       "      <th>Imagen</th>\n",
       "    </tr>\n",
       "  </thead>\n",
       "  <tbody>\n",
       "    <tr>\n",
       "      <th>0</th>\n",
       "      <td>Theo James</td>\n",
       "      <td>83%</td>\n",
       "      <td>37</td>\n",
       "      <td>https://www.okchicas.com/wp-content/uploads/20...</td>\n",
       "    </tr>\n",
       "    <tr>\n",
       "      <th>1</th>\n",
       "      <td>Aaron TaylorJohnson</td>\n",
       "      <td>85%</td>\n",
       "      <td>30</td>\n",
       "      <td>https://www.okchicas.com/wp-content/uploads/20...</td>\n",
       "    </tr>\n",
       "    <tr>\n",
       "      <th>2</th>\n",
       "      <td>Liam Hemsworth</td>\n",
       "      <td>83%</td>\n",
       "      <td>31</td>\n",
       "      <td>https://www.okchicas.com/wp-content/uploads/20...</td>\n",
       "    </tr>\n",
       "    <tr>\n",
       "      <th>3</th>\n",
       "      <td>Tyler Hoechlin</td>\n",
       "      <td>95%</td>\n",
       "      <td>33</td>\n",
       "      <td>https://www.okchicas.com/wp-content/uploads/20...</td>\n",
       "    </tr>\n",
       "    <tr>\n",
       "      <th>4</th>\n",
       "      <td>Robert Pattinson</td>\n",
       "      <td>63%</td>\n",
       "      <td>35</td>\n",
       "      <td>https://www.okchicas.com/wp-content/uploads/20...</td>\n",
       "    </tr>\n",
       "    <tr>\n",
       "      <th>5</th>\n",
       "      <td>Tom Hardy</td>\n",
       "      <td>71%</td>\n",
       "      <td>44</td>\n",
       "      <td>https://www.okchicas.com/wp-content/uploads/20...</td>\n",
       "    </tr>\n",
       "    <tr>\n",
       "      <th>6</th>\n",
       "      <td>Justin Baldoni</td>\n",
       "      <td>72%</td>\n",
       "      <td>37</td>\n",
       "      <td>https://www.okchicas.com/wp-content/uploads/20...</td>\n",
       "    </tr>\n",
       "    <tr>\n",
       "      <th>7</th>\n",
       "      <td>Chris Hemsworth</td>\n",
       "      <td>92%</td>\n",
       "      <td>37</td>\n",
       "      <td>https://www.okchicas.com/wp-content/uploads/20...</td>\n",
       "    </tr>\n",
       "    <tr>\n",
       "      <th>8</th>\n",
       "      <td>Martio Rivas</td>\n",
       "      <td>82%</td>\n",
       "      <td>36</td>\n",
       "      <td>https://www.okchicas.com/wp-content/uploads/20...</td>\n",
       "    </tr>\n",
       "    <tr>\n",
       "      <th>9</th>\n",
       "      <td>Tom Ellis</td>\n",
       "      <td>74%</td>\n",
       "      <td>42</td>\n",
       "      <td>https://www.okchicas.com/wp-content/uploads/20...</td>\n",
       "    </tr>\n",
       "    <tr>\n",
       "      <th>10</th>\n",
       "      <td>Alexander Skarsgrd</td>\n",
       "      <td>53%</td>\n",
       "      <td>44</td>\n",
       "      <td>https://www.okchicas.com/wp-content/uploads/20...</td>\n",
       "    </tr>\n",
       "    <tr>\n",
       "      <th>11</th>\n",
       "      <td>Michael Fassbender</td>\n",
       "      <td>94%</td>\n",
       "      <td>44</td>\n",
       "      <td>https://www.okchicas.com/wp-content/uploads/20...</td>\n",
       "    </tr>\n",
       "    <tr>\n",
       "      <th>12</th>\n",
       "      <td>Tom Hiddleston</td>\n",
       "      <td>84%</td>\n",
       "      <td>40</td>\n",
       "      <td>https://www.okchicas.com/wp-content/uploads/20...</td>\n",
       "    </tr>\n",
       "    <tr>\n",
       "      <th>13</th>\n",
       "      <td>Evan Peters</td>\n",
       "      <td>54%</td>\n",
       "      <td>34</td>\n",
       "      <td>https://www.okchicas.com/wp-content/uploads/20...</td>\n",
       "    </tr>\n",
       "    <tr>\n",
       "      <th>14</th>\n",
       "      <td>Michele Morrone</td>\n",
       "      <td>56%</td>\n",
       "      <td>30</td>\n",
       "      <td>https://www.okchicas.com/wp-content/uploads/20...</td>\n",
       "    </tr>\n",
       "    <tr>\n",
       "      <th>15</th>\n",
       "      <td>Henry Cavill</td>\n",
       "      <td>74%</td>\n",
       "      <td>38</td>\n",
       "      <td>https://www.okchicas.com/wp-content/uploads/20...</td>\n",
       "    </tr>\n",
       "    <tr>\n",
       "      <th>16</th>\n",
       "      <td>Jake Gyllenhaal</td>\n",
       "      <td>75%</td>\n",
       "      <td>41</td>\n",
       "      <td>https://www.okchicas.com/wp-content/uploads/20...</td>\n",
       "    </tr>\n",
       "    <tr>\n",
       "      <th>17</th>\n",
       "      <td>Richard Madden</td>\n",
       "      <td>81%</td>\n",
       "      <td>34</td>\n",
       "      <td>https://www.okchicas.com/wp-content/uploads/20...</td>\n",
       "    </tr>\n",
       "    <tr>\n",
       "      <th>18</th>\n",
       "      <td>Sam Claflin</td>\n",
       "      <td>52%</td>\n",
       "      <td>35</td>\n",
       "      <td>https://www.okchicas.com/wp-content/uploads/20...</td>\n",
       "    </tr>\n",
       "    <tr>\n",
       "      <th>19</th>\n",
       "      <td>Mario Casas</td>\n",
       "      <td>61%</td>\n",
       "      <td>34</td>\n",
       "      <td>https://www.okchicas.com/wp-content/uploads/20...</td>\n",
       "    </tr>\n",
       "    <tr>\n",
       "      <th>20</th>\n",
       "      <td>Jamie Dornan</td>\n",
       "      <td>72%</td>\n",
       "      <td>38</td>\n",
       "      <td>https://www.okchicas.com/wp-content/uploads/20...</td>\n",
       "    </tr>\n",
       "    <tr>\n",
       "      <th>21</th>\n",
       "      <td>Sam Heughan</td>\n",
       "      <td>71%</td>\n",
       "      <td>40</td>\n",
       "      <td>https://www.okchicas.com/wp-content/uploads/20...</td>\n",
       "    </tr>\n",
       "    <tr>\n",
       "      <th>22</th>\n",
       "      <td>Sebastian Stan</td>\n",
       "      <td>81%</td>\n",
       "      <td>38</td>\n",
       "      <td>https://www.okchicas.com/wp-content/uploads/20...</td>\n",
       "    </tr>\n",
       "    <tr>\n",
       "      <th>23</th>\n",
       "      <td>Ryan Gosling</td>\n",
       "      <td>62%</td>\n",
       "      <td>40</td>\n",
       "      <td>https://www.okchicas.com/wp-content/uploads/20...</td>\n",
       "    </tr>\n",
       "    <tr>\n",
       "      <th>24</th>\n",
       "      <td>Charlie Hunnam</td>\n",
       "      <td>82%</td>\n",
       "      <td>40</td>\n",
       "      <td>https://www.okchicas.com/wp-content/uploads/20...</td>\n",
       "    </tr>\n",
       "    <tr>\n",
       "      <th>25</th>\n",
       "      <td>Chris Evans</td>\n",
       "      <td>72%</td>\n",
       "      <td>40</td>\n",
       "      <td>https://www.okchicas.com/wp-content/uploads/20...</td>\n",
       "    </tr>\n",
       "    <tr>\n",
       "      <th>26</th>\n",
       "      <td>Yon Gonzalez</td>\n",
       "      <td>64%</td>\n",
       "      <td>34</td>\n",
       "      <td>https://www.okchicas.com/wp-content/uploads/20...</td>\n",
       "    </tr>\n",
       "    <tr>\n",
       "      <th>27</th>\n",
       "      <td>Jason Momoa</td>\n",
       "      <td>53%</td>\n",
       "      <td>41</td>\n",
       "      <td>https://www.okchicas.com/wp-content/uploads/20...</td>\n",
       "    </tr>\n",
       "    <tr>\n",
       "      <th>28</th>\n",
       "      <td>Joe Manganiello</td>\n",
       "      <td>76%</td>\n",
       "      <td>45</td>\n",
       "      <td>https://www.okchicas.com/wp-content/uploads/20...</td>\n",
       "    </tr>\n",
       "    <tr>\n",
       "      <th>29</th>\n",
       "      <td>Travis Fimmel</td>\n",
       "      <td>83%</td>\n",
       "      <td>41</td>\n",
       "      <td>https://www.okchicas.com/wp-content/uploads/20...</td>\n",
       "    </tr>\n",
       "  </tbody>\n",
       "</table>\n",
       "</div>"
      ],
      "text/plain": [
       "                 Nombre Compatibilidad  Edad  \\\n",
       "0            Theo James            83%    37   \n",
       "1   Aaron TaylorJohnson            85%    30   \n",
       "2        Liam Hemsworth            83%    31   \n",
       "3        Tyler Hoechlin            95%    33   \n",
       "4      Robert Pattinson            63%    35   \n",
       "5             Tom Hardy            71%    44   \n",
       "6        Justin Baldoni            72%    37   \n",
       "7       Chris Hemsworth            92%    37   \n",
       "8          Martio Rivas            82%    36   \n",
       "9             Tom Ellis            74%    42   \n",
       "10   Alexander Skarsgrd            53%    44   \n",
       "11   Michael Fassbender            94%    44   \n",
       "12       Tom Hiddleston            84%    40   \n",
       "13          Evan Peters            54%    34   \n",
       "14      Michele Morrone            56%    30   \n",
       "15         Henry Cavill            74%    38   \n",
       "16      Jake Gyllenhaal            75%    41   \n",
       "17       Richard Madden            81%    34   \n",
       "18          Sam Claflin            52%    35   \n",
       "19          Mario Casas            61%    34   \n",
       "20         Jamie Dornan            72%    38   \n",
       "21          Sam Heughan            71%    40   \n",
       "22       Sebastian Stan            81%    38   \n",
       "23         Ryan Gosling            62%    40   \n",
       "24       Charlie Hunnam            82%    40   \n",
       "25          Chris Evans            72%    40   \n",
       "26         Yon Gonzalez            64%    34   \n",
       "27          Jason Momoa            53%    41   \n",
       "28      Joe Manganiello            76%    45   \n",
       "29        Travis Fimmel            83%    41   \n",
       "\n",
       "                                               Imagen  \n",
       "0   https://www.okchicas.com/wp-content/uploads/20...  \n",
       "1   https://www.okchicas.com/wp-content/uploads/20...  \n",
       "2   https://www.okchicas.com/wp-content/uploads/20...  \n",
       "3   https://www.okchicas.com/wp-content/uploads/20...  \n",
       "4   https://www.okchicas.com/wp-content/uploads/20...  \n",
       "5   https://www.okchicas.com/wp-content/uploads/20...  \n",
       "6   https://www.okchicas.com/wp-content/uploads/20...  \n",
       "7   https://www.okchicas.com/wp-content/uploads/20...  \n",
       "8   https://www.okchicas.com/wp-content/uploads/20...  \n",
       "9   https://www.okchicas.com/wp-content/uploads/20...  \n",
       "10  https://www.okchicas.com/wp-content/uploads/20...  \n",
       "11  https://www.okchicas.com/wp-content/uploads/20...  \n",
       "12  https://www.okchicas.com/wp-content/uploads/20...  \n",
       "13  https://www.okchicas.com/wp-content/uploads/20...  \n",
       "14  https://www.okchicas.com/wp-content/uploads/20...  \n",
       "15  https://www.okchicas.com/wp-content/uploads/20...  \n",
       "16  https://www.okchicas.com/wp-content/uploads/20...  \n",
       "17  https://www.okchicas.com/wp-content/uploads/20...  \n",
       "18  https://www.okchicas.com/wp-content/uploads/20...  \n",
       "19  https://www.okchicas.com/wp-content/uploads/20...  \n",
       "20  https://www.okchicas.com/wp-content/uploads/20...  \n",
       "21  https://www.okchicas.com/wp-content/uploads/20...  \n",
       "22  https://www.okchicas.com/wp-content/uploads/20...  \n",
       "23  https://www.okchicas.com/wp-content/uploads/20...  \n",
       "24  https://www.okchicas.com/wp-content/uploads/20...  \n",
       "25  https://www.okchicas.com/wp-content/uploads/20...  \n",
       "26  https://www.okchicas.com/wp-content/uploads/20...  \n",
       "27  https://www.okchicas.com/wp-content/uploads/20...  \n",
       "28  https://www.okchicas.com/wp-content/uploads/20...  \n",
       "29  https://www.okchicas.com/wp-content/uploads/20...  "
      ]
     },
     "execution_count": 71,
     "metadata": {},
     "output_type": "execute_result"
    }
   ],
   "source": [
    "#unimos el data frame hombres_guapos con el de  compatibilidad_res por medio de los nombres de actor\n",
    "#cambiamos el nombre de la columna \"Actor\" a \"Nombre\" para que coincida con el df hombres_guapos\n",
    "compatibilidad_res = compatibilidad_res.rename(columns={\"Actor\": \"Nombre\"})\n",
    "#unimos los dataframes\n",
    "Novios_Diana = pd.merge(hombres_guapos, compatibilidad_res, on=\"Nombre\")\n",
    "\n",
    "#eliminamos la columna Diana \n",
    "Novios_Diana = Novios_Diana.drop(columns=\"Diana\")\n",
    "\n",
    "#quiero que la columna después de Nombre sea la de compatibilidad\n",
    "columnas = Novios_Diana.columns.tolist()\n",
    "columnas\n",
    "columnas = [\"Nombre\", \"Compatibilidad\", \"Edad\", \"Imagen\"]\n",
    "columnas\n",
    "Novios_Diana = Novios_Diana[columnas]\n",
    "Novios_Diana"
   ]
  },
  {
   "cell_type": "code",
   "execution_count": 72,
   "metadata": {},
   "outputs": [
    {
     "data": {
      "application/vnd.microsoft.datawrangler.viewer.v0+json": {
       "columns": [
        {
         "name": "index",
         "rawType": "int64",
         "type": "integer"
        },
        {
         "name": "Nombre",
         "rawType": "object",
         "type": "string"
        },
        {
         "name": "Compatibilidad",
         "rawType": "object",
         "type": "string"
        },
        {
         "name": "Edad",
         "rawType": "int64",
         "type": "integer"
        },
        {
         "name": "Imagen",
         "rawType": "object",
         "type": "string"
        },
        {
         "name": "Compatibilidad_num",
         "rawType": "float64",
         "type": "float"
        }
       ],
       "conversionMethod": "pd.DataFrame",
       "ref": "6c35d9c9-9e27-47ff-9772-b6b3c8a1d6d7",
       "rows": [
        [
         "0",
         "Theo James",
         "83%",
         "37",
         "https://www.okchicas.com/wp-content/uploads/2021/04/actores-menores-de-45-guapos-atractivos-628x700.png",
         "83.0"
        ],
        [
         "1",
         "Aaron TaylorJohnson",
         "85%",
         "30",
         "https://www.okchicas.com/wp-content/uploads/2021/04/actores-menores-de-45-guapos-atractivos-2-628x700.png",
         "85.0"
        ],
        [
         "2",
         "Liam Hemsworth",
         "83%",
         "31",
         "https://www.okchicas.com/wp-content/uploads/2021/04/actores-menores-de-45-guapos-atractivos-3-628x700.png",
         "83.0"
        ],
        [
         "3",
         "Tyler Hoechlin",
         "95%",
         "33",
         "https://www.okchicas.com/wp-content/uploads/2021/04/actores-menores-de-45-guapos-atractivos-4-628x700.png",
         "95.0"
        ],
        [
         "4",
         "Robert Pattinson",
         "63%",
         "35",
         "https://www.okchicas.com/wp-content/uploads/2021/04/actores-menores-de-45-guapos-atractivos-5-628x700.png",
         "63.0"
        ],
        [
         "5",
         "Tom Hardy",
         "71%",
         "44",
         "https://www.okchicas.com/wp-content/uploads/2021/04/actores-menores-de-45-guapos-atractivos-6-628x700.png",
         "71.0"
        ],
        [
         "6",
         "Justin Baldoni",
         "72%",
         "37",
         "https://www.okchicas.com/wp-content/uploads/2021/04/actores-menores-de-45-guapos-atractivos-7-628x700.png",
         "72.0"
        ],
        [
         "7",
         "Chris Hemsworth",
         "92%",
         "37",
         "https://www.okchicas.com/wp-content/uploads/2021/04/actores-menores-de-45-guapos-atractivos-8-628x700.png",
         "92.0"
        ],
        [
         "8",
         "Martio Rivas",
         "82%",
         "36",
         "https://www.okchicas.com/wp-content/uploads/2021/04/actores-menores-de-45-guapos-atractivos-9-627x700.png",
         "82.0"
        ],
        [
         "9",
         "Tom Ellis",
         "74%",
         "42",
         "https://www.okchicas.com/wp-content/uploads/2021/04/actores-menores-de-45-guapos-atractivos-10-628x700.png",
         "74.0"
        ],
        [
         "10",
         "Alexander Skarsgrd",
         "53%",
         "44",
         "https://www.okchicas.com/wp-content/uploads/2021/04/actores-menores-de-45-guapos-atractivos-11-628x700.png",
         "53.0"
        ],
        [
         "11",
         "Michael Fassbender",
         "94%",
         "44",
         "https://www.okchicas.com/wp-content/uploads/2021/04/actores-menores-de-45-guapos-atractivos-12-628x700.png",
         "94.0"
        ],
        [
         "12",
         "Tom Hiddleston",
         "84%",
         "40",
         "https://www.okchicas.com/wp-content/uploads/2021/04/actores-menores-de-45-guapos-atractivos-13-628x700.png",
         "84.0"
        ],
        [
         "13",
         "Evan Peters",
         "54%",
         "34",
         "https://www.okchicas.com/wp-content/uploads/2021/04/actores-menores-de-45-guapos-atractivos-14-628x700.png",
         "54.0"
        ],
        [
         "14",
         "Michele Morrone",
         "56%",
         "30",
         "https://www.okchicas.com/wp-content/uploads/2021/04/actores-menores-de-45-guapos-atractivos-15-628x700.png",
         "56.0"
        ],
        [
         "15",
         "Henry Cavill",
         "74%",
         "38",
         "https://www.okchicas.com/wp-content/uploads/2021/04/actores-menores-de-45-guapos-atractivos-16-628x700.png",
         "74.0"
        ],
        [
         "16",
         "Jake Gyllenhaal",
         "75%",
         "41",
         "https://www.okchicas.com/wp-content/uploads/2021/04/actores-menores-de-45-guapos-atractivos-17-628x700.png",
         "75.0"
        ],
        [
         "17",
         "Richard Madden",
         "81%",
         "34",
         "https://www.okchicas.com/wp-content/uploads/2021/04/actores-menores-de-45-guapos-atractivos-18-628x700.png",
         "81.0"
        ],
        [
         "18",
         "Sam Claflin",
         "52%",
         "35",
         "https://www.okchicas.com/wp-content/uploads/2021/04/actores-menores-de-45-guapos-atractivos-19-628x700.png",
         "52.0"
        ],
        [
         "19",
         "Mario Casas",
         "61%",
         "34",
         "https://www.okchicas.com/wp-content/uploads/2021/04/actores-menores-de-45-guapos-atractivos-20-628x700.png",
         "61.0"
        ],
        [
         "20",
         "Jamie Dornan",
         "72%",
         "38",
         "https://www.okchicas.com/wp-content/uploads/2021/04/actores-menores-de-45-guapos-atractivos-21-628x700.png",
         "72.0"
        ],
        [
         "21",
         "Sam Heughan",
         "71%",
         "40",
         "https://www.okchicas.com/wp-content/uploads/2021/04/actores-menores-de-45-guapos-atractivos-22-628x700.png",
         "71.0"
        ],
        [
         "22",
         "Sebastian Stan",
         "81%",
         "38",
         "https://www.okchicas.com/wp-content/uploads/2021/04/actores-menores-de-45-guapos-atractivos-23-628x700.png",
         "81.0"
        ],
        [
         "23",
         "Ryan Gosling",
         "62%",
         "40",
         "https://www.okchicas.com/wp-content/uploads/2021/04/actores-menores-de-45-guapos-atractivos-24-628x700.png",
         "62.0"
        ],
        [
         "24",
         "Charlie Hunnam",
         "82%",
         "40",
         "https://www.okchicas.com/wp-content/uploads/2021/04/actores-menores-de-45-guapos-atractivos-25-628x700.png",
         "82.0"
        ],
        [
         "25",
         "Chris Evans",
         "72%",
         "40",
         "https://www.okchicas.com/wp-content/uploads/2021/04/actores-menores-de-45-guapos-atractivos-26-628x700.png",
         "72.0"
        ],
        [
         "26",
         "Yon Gonzalez",
         "64%",
         "34",
         "https://www.okchicas.com/wp-content/uploads/2021/04/actores-menores-de-45-guapos-atractivos-27-628x700.png",
         "64.0"
        ],
        [
         "27",
         "Jason Momoa",
         "53%",
         "41",
         "https://www.okchicas.com/wp-content/uploads/2021/04/actores-menores-de-45-guapos-atractivos-28-628x700.png",
         "53.0"
        ],
        [
         "28",
         "Joe Manganiello",
         "76%",
         "45",
         "https://www.okchicas.com/wp-content/uploads/2021/04/actores-menores-de-45-guapos-atractivos-29-628x700.png",
         "76.0"
        ],
        [
         "29",
         "Travis Fimmel",
         "83%",
         "41",
         "https://www.okchicas.com/wp-content/uploads/2021/04/actores-menores-de-45-guapos-atractivos-30-628x700.png",
         "83.0"
        ]
       ],
       "shape": {
        "columns": 5,
        "rows": 30
       }
      },
      "text/html": [
       "<div>\n",
       "<style scoped>\n",
       "    .dataframe tbody tr th:only-of-type {\n",
       "        vertical-align: middle;\n",
       "    }\n",
       "\n",
       "    .dataframe tbody tr th {\n",
       "        vertical-align: top;\n",
       "    }\n",
       "\n",
       "    .dataframe thead th {\n",
       "        text-align: right;\n",
       "    }\n",
       "</style>\n",
       "<table border=\"1\" class=\"dataframe\">\n",
       "  <thead>\n",
       "    <tr style=\"text-align: right;\">\n",
       "      <th></th>\n",
       "      <th>Nombre</th>\n",
       "      <th>Compatibilidad</th>\n",
       "      <th>Edad</th>\n",
       "      <th>Imagen</th>\n",
       "      <th>Compatibilidad_num</th>\n",
       "    </tr>\n",
       "  </thead>\n",
       "  <tbody>\n",
       "    <tr>\n",
       "      <th>0</th>\n",
       "      <td>Theo James</td>\n",
       "      <td>83%</td>\n",
       "      <td>37</td>\n",
       "      <td>https://www.okchicas.com/wp-content/uploads/20...</td>\n",
       "      <td>83.0</td>\n",
       "    </tr>\n",
       "    <tr>\n",
       "      <th>1</th>\n",
       "      <td>Aaron TaylorJohnson</td>\n",
       "      <td>85%</td>\n",
       "      <td>30</td>\n",
       "      <td>https://www.okchicas.com/wp-content/uploads/20...</td>\n",
       "      <td>85.0</td>\n",
       "    </tr>\n",
       "    <tr>\n",
       "      <th>2</th>\n",
       "      <td>Liam Hemsworth</td>\n",
       "      <td>83%</td>\n",
       "      <td>31</td>\n",
       "      <td>https://www.okchicas.com/wp-content/uploads/20...</td>\n",
       "      <td>83.0</td>\n",
       "    </tr>\n",
       "    <tr>\n",
       "      <th>3</th>\n",
       "      <td>Tyler Hoechlin</td>\n",
       "      <td>95%</td>\n",
       "      <td>33</td>\n",
       "      <td>https://www.okchicas.com/wp-content/uploads/20...</td>\n",
       "      <td>95.0</td>\n",
       "    </tr>\n",
       "    <tr>\n",
       "      <th>4</th>\n",
       "      <td>Robert Pattinson</td>\n",
       "      <td>63%</td>\n",
       "      <td>35</td>\n",
       "      <td>https://www.okchicas.com/wp-content/uploads/20...</td>\n",
       "      <td>63.0</td>\n",
       "    </tr>\n",
       "    <tr>\n",
       "      <th>5</th>\n",
       "      <td>Tom Hardy</td>\n",
       "      <td>71%</td>\n",
       "      <td>44</td>\n",
       "      <td>https://www.okchicas.com/wp-content/uploads/20...</td>\n",
       "      <td>71.0</td>\n",
       "    </tr>\n",
       "    <tr>\n",
       "      <th>6</th>\n",
       "      <td>Justin Baldoni</td>\n",
       "      <td>72%</td>\n",
       "      <td>37</td>\n",
       "      <td>https://www.okchicas.com/wp-content/uploads/20...</td>\n",
       "      <td>72.0</td>\n",
       "    </tr>\n",
       "    <tr>\n",
       "      <th>7</th>\n",
       "      <td>Chris Hemsworth</td>\n",
       "      <td>92%</td>\n",
       "      <td>37</td>\n",
       "      <td>https://www.okchicas.com/wp-content/uploads/20...</td>\n",
       "      <td>92.0</td>\n",
       "    </tr>\n",
       "    <tr>\n",
       "      <th>8</th>\n",
       "      <td>Martio Rivas</td>\n",
       "      <td>82%</td>\n",
       "      <td>36</td>\n",
       "      <td>https://www.okchicas.com/wp-content/uploads/20...</td>\n",
       "      <td>82.0</td>\n",
       "    </tr>\n",
       "    <tr>\n",
       "      <th>9</th>\n",
       "      <td>Tom Ellis</td>\n",
       "      <td>74%</td>\n",
       "      <td>42</td>\n",
       "      <td>https://www.okchicas.com/wp-content/uploads/20...</td>\n",
       "      <td>74.0</td>\n",
       "    </tr>\n",
       "    <tr>\n",
       "      <th>10</th>\n",
       "      <td>Alexander Skarsgrd</td>\n",
       "      <td>53%</td>\n",
       "      <td>44</td>\n",
       "      <td>https://www.okchicas.com/wp-content/uploads/20...</td>\n",
       "      <td>53.0</td>\n",
       "    </tr>\n",
       "    <tr>\n",
       "      <th>11</th>\n",
       "      <td>Michael Fassbender</td>\n",
       "      <td>94%</td>\n",
       "      <td>44</td>\n",
       "      <td>https://www.okchicas.com/wp-content/uploads/20...</td>\n",
       "      <td>94.0</td>\n",
       "    </tr>\n",
       "    <tr>\n",
       "      <th>12</th>\n",
       "      <td>Tom Hiddleston</td>\n",
       "      <td>84%</td>\n",
       "      <td>40</td>\n",
       "      <td>https://www.okchicas.com/wp-content/uploads/20...</td>\n",
       "      <td>84.0</td>\n",
       "    </tr>\n",
       "    <tr>\n",
       "      <th>13</th>\n",
       "      <td>Evan Peters</td>\n",
       "      <td>54%</td>\n",
       "      <td>34</td>\n",
       "      <td>https://www.okchicas.com/wp-content/uploads/20...</td>\n",
       "      <td>54.0</td>\n",
       "    </tr>\n",
       "    <tr>\n",
       "      <th>14</th>\n",
       "      <td>Michele Morrone</td>\n",
       "      <td>56%</td>\n",
       "      <td>30</td>\n",
       "      <td>https://www.okchicas.com/wp-content/uploads/20...</td>\n",
       "      <td>56.0</td>\n",
       "    </tr>\n",
       "    <tr>\n",
       "      <th>15</th>\n",
       "      <td>Henry Cavill</td>\n",
       "      <td>74%</td>\n",
       "      <td>38</td>\n",
       "      <td>https://www.okchicas.com/wp-content/uploads/20...</td>\n",
       "      <td>74.0</td>\n",
       "    </tr>\n",
       "    <tr>\n",
       "      <th>16</th>\n",
       "      <td>Jake Gyllenhaal</td>\n",
       "      <td>75%</td>\n",
       "      <td>41</td>\n",
       "      <td>https://www.okchicas.com/wp-content/uploads/20...</td>\n",
       "      <td>75.0</td>\n",
       "    </tr>\n",
       "    <tr>\n",
       "      <th>17</th>\n",
       "      <td>Richard Madden</td>\n",
       "      <td>81%</td>\n",
       "      <td>34</td>\n",
       "      <td>https://www.okchicas.com/wp-content/uploads/20...</td>\n",
       "      <td>81.0</td>\n",
       "    </tr>\n",
       "    <tr>\n",
       "      <th>18</th>\n",
       "      <td>Sam Claflin</td>\n",
       "      <td>52%</td>\n",
       "      <td>35</td>\n",
       "      <td>https://www.okchicas.com/wp-content/uploads/20...</td>\n",
       "      <td>52.0</td>\n",
       "    </tr>\n",
       "    <tr>\n",
       "      <th>19</th>\n",
       "      <td>Mario Casas</td>\n",
       "      <td>61%</td>\n",
       "      <td>34</td>\n",
       "      <td>https://www.okchicas.com/wp-content/uploads/20...</td>\n",
       "      <td>61.0</td>\n",
       "    </tr>\n",
       "    <tr>\n",
       "      <th>20</th>\n",
       "      <td>Jamie Dornan</td>\n",
       "      <td>72%</td>\n",
       "      <td>38</td>\n",
       "      <td>https://www.okchicas.com/wp-content/uploads/20...</td>\n",
       "      <td>72.0</td>\n",
       "    </tr>\n",
       "    <tr>\n",
       "      <th>21</th>\n",
       "      <td>Sam Heughan</td>\n",
       "      <td>71%</td>\n",
       "      <td>40</td>\n",
       "      <td>https://www.okchicas.com/wp-content/uploads/20...</td>\n",
       "      <td>71.0</td>\n",
       "    </tr>\n",
       "    <tr>\n",
       "      <th>22</th>\n",
       "      <td>Sebastian Stan</td>\n",
       "      <td>81%</td>\n",
       "      <td>38</td>\n",
       "      <td>https://www.okchicas.com/wp-content/uploads/20...</td>\n",
       "      <td>81.0</td>\n",
       "    </tr>\n",
       "    <tr>\n",
       "      <th>23</th>\n",
       "      <td>Ryan Gosling</td>\n",
       "      <td>62%</td>\n",
       "      <td>40</td>\n",
       "      <td>https://www.okchicas.com/wp-content/uploads/20...</td>\n",
       "      <td>62.0</td>\n",
       "    </tr>\n",
       "    <tr>\n",
       "      <th>24</th>\n",
       "      <td>Charlie Hunnam</td>\n",
       "      <td>82%</td>\n",
       "      <td>40</td>\n",
       "      <td>https://www.okchicas.com/wp-content/uploads/20...</td>\n",
       "      <td>82.0</td>\n",
       "    </tr>\n",
       "    <tr>\n",
       "      <th>25</th>\n",
       "      <td>Chris Evans</td>\n",
       "      <td>72%</td>\n",
       "      <td>40</td>\n",
       "      <td>https://www.okchicas.com/wp-content/uploads/20...</td>\n",
       "      <td>72.0</td>\n",
       "    </tr>\n",
       "    <tr>\n",
       "      <th>26</th>\n",
       "      <td>Yon Gonzalez</td>\n",
       "      <td>64%</td>\n",
       "      <td>34</td>\n",
       "      <td>https://www.okchicas.com/wp-content/uploads/20...</td>\n",
       "      <td>64.0</td>\n",
       "    </tr>\n",
       "    <tr>\n",
       "      <th>27</th>\n",
       "      <td>Jason Momoa</td>\n",
       "      <td>53%</td>\n",
       "      <td>41</td>\n",
       "      <td>https://www.okchicas.com/wp-content/uploads/20...</td>\n",
       "      <td>53.0</td>\n",
       "    </tr>\n",
       "    <tr>\n",
       "      <th>28</th>\n",
       "      <td>Joe Manganiello</td>\n",
       "      <td>76%</td>\n",
       "      <td>45</td>\n",
       "      <td>https://www.okchicas.com/wp-content/uploads/20...</td>\n",
       "      <td>76.0</td>\n",
       "    </tr>\n",
       "    <tr>\n",
       "      <th>29</th>\n",
       "      <td>Travis Fimmel</td>\n",
       "      <td>83%</td>\n",
       "      <td>41</td>\n",
       "      <td>https://www.okchicas.com/wp-content/uploads/20...</td>\n",
       "      <td>83.0</td>\n",
       "    </tr>\n",
       "  </tbody>\n",
       "</table>\n",
       "</div>"
      ],
      "text/plain": [
       "                 Nombre Compatibilidad  Edad  \\\n",
       "0            Theo James            83%    37   \n",
       "1   Aaron TaylorJohnson            85%    30   \n",
       "2        Liam Hemsworth            83%    31   \n",
       "3        Tyler Hoechlin            95%    33   \n",
       "4      Robert Pattinson            63%    35   \n",
       "5             Tom Hardy            71%    44   \n",
       "6        Justin Baldoni            72%    37   \n",
       "7       Chris Hemsworth            92%    37   \n",
       "8          Martio Rivas            82%    36   \n",
       "9             Tom Ellis            74%    42   \n",
       "10   Alexander Skarsgrd            53%    44   \n",
       "11   Michael Fassbender            94%    44   \n",
       "12       Tom Hiddleston            84%    40   \n",
       "13          Evan Peters            54%    34   \n",
       "14      Michele Morrone            56%    30   \n",
       "15         Henry Cavill            74%    38   \n",
       "16      Jake Gyllenhaal            75%    41   \n",
       "17       Richard Madden            81%    34   \n",
       "18          Sam Claflin            52%    35   \n",
       "19          Mario Casas            61%    34   \n",
       "20         Jamie Dornan            72%    38   \n",
       "21          Sam Heughan            71%    40   \n",
       "22       Sebastian Stan            81%    38   \n",
       "23         Ryan Gosling            62%    40   \n",
       "24       Charlie Hunnam            82%    40   \n",
       "25          Chris Evans            72%    40   \n",
       "26         Yon Gonzalez            64%    34   \n",
       "27          Jason Momoa            53%    41   \n",
       "28      Joe Manganiello            76%    45   \n",
       "29        Travis Fimmel            83%    41   \n",
       "\n",
       "                                               Imagen  Compatibilidad_num  \n",
       "0   https://www.okchicas.com/wp-content/uploads/20...                83.0  \n",
       "1   https://www.okchicas.com/wp-content/uploads/20...                85.0  \n",
       "2   https://www.okchicas.com/wp-content/uploads/20...                83.0  \n",
       "3   https://www.okchicas.com/wp-content/uploads/20...                95.0  \n",
       "4   https://www.okchicas.com/wp-content/uploads/20...                63.0  \n",
       "5   https://www.okchicas.com/wp-content/uploads/20...                71.0  \n",
       "6   https://www.okchicas.com/wp-content/uploads/20...                72.0  \n",
       "7   https://www.okchicas.com/wp-content/uploads/20...                92.0  \n",
       "8   https://www.okchicas.com/wp-content/uploads/20...                82.0  \n",
       "9   https://www.okchicas.com/wp-content/uploads/20...                74.0  \n",
       "10  https://www.okchicas.com/wp-content/uploads/20...                53.0  \n",
       "11  https://www.okchicas.com/wp-content/uploads/20...                94.0  \n",
       "12  https://www.okchicas.com/wp-content/uploads/20...                84.0  \n",
       "13  https://www.okchicas.com/wp-content/uploads/20...                54.0  \n",
       "14  https://www.okchicas.com/wp-content/uploads/20...                56.0  \n",
       "15  https://www.okchicas.com/wp-content/uploads/20...                74.0  \n",
       "16  https://www.okchicas.com/wp-content/uploads/20...                75.0  \n",
       "17  https://www.okchicas.com/wp-content/uploads/20...                81.0  \n",
       "18  https://www.okchicas.com/wp-content/uploads/20...                52.0  \n",
       "19  https://www.okchicas.com/wp-content/uploads/20...                61.0  \n",
       "20  https://www.okchicas.com/wp-content/uploads/20...                72.0  \n",
       "21  https://www.okchicas.com/wp-content/uploads/20...                71.0  \n",
       "22  https://www.okchicas.com/wp-content/uploads/20...                81.0  \n",
       "23  https://www.okchicas.com/wp-content/uploads/20...                62.0  \n",
       "24  https://www.okchicas.com/wp-content/uploads/20...                82.0  \n",
       "25  https://www.okchicas.com/wp-content/uploads/20...                72.0  \n",
       "26  https://www.okchicas.com/wp-content/uploads/20...                64.0  \n",
       "27  https://www.okchicas.com/wp-content/uploads/20...                53.0  \n",
       "28  https://www.okchicas.com/wp-content/uploads/20...                76.0  \n",
       "29  https://www.okchicas.com/wp-content/uploads/20...                83.0  "
      ]
     },
     "execution_count": 72,
     "metadata": {},
     "output_type": "execute_result"
    }
   ],
   "source": [
    "#crear una columna llamada Compatibilidad_num que copie Compatibilidad pero sea formaot numero\n",
    "Novios_Diana['Compatibilidad_num'] = Novios_Diana['Compatibilidad'].replace('%', '', regex=True).astype(float) \n",
    "Novios_Diana\n"
   ]
  },
  {
   "cell_type": "code",
   "execution_count": 77,
   "metadata": {},
   "outputs": [
    {
     "name": "stdout",
     "output_type": "stream",
     "text": [
      "<class 'pandas.core.frame.DataFrame'>\n",
      "RangeIndex: 30 entries, 0 to 29\n",
      "Data columns (total 5 columns):\n",
      " #   Column              Non-Null Count  Dtype  \n",
      "---  ------              --------------  -----  \n",
      " 0   Nombre              30 non-null     object \n",
      " 1   Compatibilidad      30 non-null     object \n",
      " 2   Edad                30 non-null     int64  \n",
      " 3   Imagen              30 non-null     object \n",
      " 4   Compatibilidad_num  30 non-null     float64\n",
      "dtypes: float64(1), int64(1), object(3)\n",
      "memory usage: 1.3+ KB\n"
     ]
    },
    {
     "data": {
      "text/plain": [
       "np.float64(95.0)"
      ]
     },
     "execution_count": 77,
     "metadata": {},
     "output_type": "execute_result"
    }
   ],
   "source": [
    "\n",
    "#EDA de compatibilidad\n",
    "Novios_Diana.info(\"Compatibilidad_num\")\n",
    "min  = Novios_Diana[\"Compatibilidad_num\"].min()\n",
    "#max\n",
    "max = Novios_Diana[\"Compatibilidad_num\"].max()\n",
    "#dividiendo en cuartiles\n",
    "Novios_Diana[\"Compatibilidad_num\"].quantile([0.25, 0.5, 0.75])\n",
    "min\n",
    "max"
   ]
  },
  {
   "cell_type": "code",
   "execution_count": 79,
   "metadata": {},
   "outputs": [
    {
     "data": {
      "text/plain": [
       "np.float64(95.0)"
      ]
     },
     "execution_count": 79,
     "metadata": {},
     "output_type": "execute_result"
    }
   ],
   "source": [
    "max"
   ]
  },
  {
   "cell_type": "code",
   "execution_count": 74,
   "metadata": {},
   "outputs": [],
   "source": [
    "guardar_resultado_api = compatibilidad_res\n"
   ]
  },
  {
   "cell_type": "code",
   "execution_count": 75,
   "metadata": {},
   "outputs": [],
   "source": [
    "# Guardar el DataFrame en un archivo CSV\n",
    "Novios_Diana.to_csv('compatibilidad_diana2.csv', index=False)\n"
   ]
  }
 ],
 "metadata": {
  "kernelspec": {
   "display_name": "Python 3",
   "language": "python",
   "name": "python3"
  },
  "language_info": {
   "codemirror_mode": {
    "name": "ipython",
    "version": 3
   },
   "file_extension": ".py",
   "mimetype": "text/x-python",
   "name": "python",
   "nbconvert_exporter": "python",
   "pygments_lexer": "ipython3",
   "version": "3.9.6"
  }
 },
 "nbformat": 4,
 "nbformat_minor": 2
}
